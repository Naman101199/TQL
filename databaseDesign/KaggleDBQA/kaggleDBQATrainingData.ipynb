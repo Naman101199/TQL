{
 "cells": [
  {
   "cell_type": "code",
   "execution_count": 1,
   "id": "79dd1b40-67b8-4b8f-bd83-8648d20ff0a6",
   "metadata": {},
   "outputs": [],
   "source": [
    "import pandas as pd"
   ]
  },
  {
   "cell_type": "code",
   "execution_count": 2,
   "id": "15dbba40-6076-428b-b507-a56772795c57",
   "metadata": {},
   "outputs": [],
   "source": [
    "queryData = pd.read_csv('gs://data_tql/kaggle-dbqa/processed/queryDataKaggleDBQA.csv')\n",
    "tableData = pd.read_csv('gs://data_tql/kaggle-dbqa/processed/tablesSchemaKaggleDBQA.csv')"
   ]
  },
  {
   "cell_type": "code",
   "execution_count": 3,
   "id": "39ba4597-1138-4a68-967f-f7869485fe93",
   "metadata": {},
   "outputs": [],
   "source": [
    "def create_schema_natural_language(row):\n",
    "\n",
    "    schema_id = row['schema_id']\n",
    "    table_name = row['table_name']\n",
    "    primary_key = row['primary_key']\n",
    "    column_list = eval(row['column_list_original'])\n",
    "    datatype_list = eval(row['column_datatypes'])\n",
    "    foreign_key = eval(row['foreign_keys'])\n",
    "\n",
    "    column_list_with_datatype = []\n",
    "    for column, datatype in zip(column_list, datatype_list):\n",
    "        column_list_with_datatype.append(' has datatype '.join([column, datatype]))\n",
    "\n",
    "    schema_natural_language = f\"Given the Table {table_name} having columns as {', '.join(column_list_with_datatype)} which has {primary_key}\"\n",
    "    return schema_natural_language\n",
    "\n",
    "tableData['schema_natural_language'] = tableData.apply(create_schema_natural_language, axis = 1)\n",
    "\n",
    "all_schemas = tableData['schema_id'].unique()\n",
    "schema_table_query = {}\n",
    "for schema in all_schemas:\n",
    "    schema_details = ' and '.join(tableData[tableData['schema_id'] == schema]['schema_natural_language'].values)\n",
    "    schema_table_query[schema] = schema_details\n",
    "\n",
    "instruction = \"Answer the question by writing the appropriate SQL code.\"    \n",
    "queryData['schema_natural_language'] = queryData['db_id'].map(schema_table_query)\n",
    "queryData['question'] = queryData['schema_natural_language'] + '. ' + instruction + ' ' + queryData['TQL']"
   ]
  },
  {
   "cell_type": "code",
   "execution_count": 4,
   "id": "649459c8-197e-4ca2-91a1-75f2157952a1",
   "metadata": {},
   "outputs": [],
   "source": [
    "training_data = queryData[['SQL','question']]\n",
    "training_data.to_csv('gs://data_tql/kaggle-dbqa/processed/kaggleDbqaTrainingData.csv', index= False)"
   ]
  }
 ],
 "metadata": {
  "environment": {
   "kernel": "python3",
   "name": "common-gpu.m112",
   "type": "gcloud",
   "uri": "gcr.io/deeplearning-platform-release/base-gpu:m112"
  },
  "kernelspec": {
   "display_name": "Python 3",
   "language": "python",
   "name": "python3"
  },
  "language_info": {
   "codemirror_mode": {
    "name": "ipython",
    "version": 3
   },
   "file_extension": ".py",
   "mimetype": "text/x-python",
   "name": "python",
   "nbconvert_exporter": "python",
   "pygments_lexer": "ipython3",
   "version": "3.10.12"
  }
 },
 "nbformat": 4,
 "nbformat_minor": 5
}
