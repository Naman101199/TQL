{
 "cells": [
  {
   "cell_type": "code",
   "execution_count": 1,
   "id": "232abf5b-aa28-4c14-b519-644977836b0d",
   "metadata": {},
   "outputs": [
    {
     "name": "stdout",
     "output_type": "stream",
     "text": [
      "/home/jupyter/kaggle-dbqa\n"
     ]
    }
   ],
   "source": [
    "import os\n",
    "print(os.getcwd())"
   ]
  },
  {
   "cell_type": "code",
   "execution_count": 2,
   "id": "57b639e2-bc70-4b2c-9967-633910bb4488",
   "metadata": {},
   "outputs": [],
   "source": [
    "os.chdir('../TQL/databaseDesign/KaggleDBQA/')"
   ]
  },
  {
   "cell_type": "code",
   "execution_count": 3,
   "id": "af44b807-0703-483b-821a-2af3e56e941f",
   "metadata": {},
   "outputs": [],
   "source": [
    "import sys\n",
    "sys.path.append('')\n",
    "sys.path.append('..')\n",
    "sys.path.append('../MySQL/')\n",
    "sys.path.append('../../utils/')\n",
    "\n",
    "from google.cloud import storage"
   ]
  },
  {
   "cell_type": "code",
   "execution_count": 4,
   "id": "591ef02d-c5d5-455c-bf66-4604b8976edd",
   "metadata": {},
   "outputs": [],
   "source": [
    "from sqlite_to_mysql import *\n",
    "from utils import *"
   ]
  },
  {
   "cell_type": "code",
   "execution_count": 30,
   "id": "32ee8fbc-3703-4b68-8afe-32f072b7053a",
   "metadata": {},
   "outputs": [
    {
     "name": "stdout",
     "output_type": "stream",
     "text": [
      "['nuclear_power_plants']\n",
      "['GreaterManchesterCrime']\n",
      "['sampledata15', 'resultsdata15']\n",
      "['FINREV_FED_17', 'NDECoreExcel_Math_Grade8', 'FINREV_FED_KEY_17']\n",
      "['hall_of_fame', 'player_award', 'player_award_vote', 'salary', 'player']\n",
      "['Fires']\n",
      "['torrents', 'tags']\n",
      "['betfront', 'football_data']\n"
     ]
    }
   ],
   "source": [
    "for i in list_blobs('data_tql', 'kaggle-dbqa/databases/'):\n",
    "    i = i.split('/')[-2]\n",
    "    DB_NAME = i + \".sqlite\"\n",
    "    BUCKET_NAME = \"data_tql\"\n",
    "    FOLDER_NAME = f\"kaggle-dbqa/databases/{i}\"\n",
    "\n",
    "    storage_client = storage.Client()\n",
    "\n",
    "    bucket = storage_client.bucket(BUCKET_NAME)\n",
    "    blob = bucket.blob(f\"{FOLDER_NAME}/{DB_NAME}\")\n",
    "\n",
    "    local_file_name = DB_NAME\n",
    "    blob.download_to_filename(local_file_name)\n",
    "    \n",
    "    FOLDER_NAME = \"wikisqliteDB/\" + i\n",
    "\n",
    "    # connect to the database file\n",
    "    conn = sqlite3.connect(local_file_name)\n",
    "    cursor = conn.cursor()\n",
    "\n",
    "    # extract the table names from the database\n",
    "    table_names = [row[0] for row in cursor.execute(\"SELECT name FROM sqlite_master WHERE type='table'\").fetchall()]\n",
    "    print(table_names)\n",
    "    \n",
    "    cursor.close()\n",
    "    conn.close()"
   ]
  }
 ],
 "metadata": {
  "environment": {
   "kernel": "python3",
   "name": "common-gpu.m112",
   "type": "gcloud",
   "uri": "gcr.io/deeplearning-platform-release/base-gpu:m112"
  },
  "kernelspec": {
   "display_name": "Python 3",
   "language": "python",
   "name": "python3"
  },
  "language_info": {
   "codemirror_mode": {
    "name": "ipython",
    "version": 3
   },
   "file_extension": ".py",
   "mimetype": "text/x-python",
   "name": "python",
   "nbconvert_exporter": "python",
   "pygments_lexer": "ipython3",
   "version": "3.10.12"
  }
 },
 "nbformat": 4,
 "nbformat_minor": 5
}
