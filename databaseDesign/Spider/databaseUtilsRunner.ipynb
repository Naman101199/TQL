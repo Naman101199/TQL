{
 "cells": [
  {
   "cell_type": "code",
   "execution_count": 1,
   "id": "70d829c4-52cb-4161-a782-e8f1a138c056",
   "metadata": {},
   "outputs": [],
   "source": [
    "import sys\n",
    "sys.path.append('..')"
   ]
  },
  {
   "cell_type": "code",
   "execution_count": 2,
   "id": "13eabd8e-0e62-4d0e-ac7d-861717781c90",
   "metadata": {
    "tags": []
   },
   "outputs": [],
   "source": [
    "from DatabaseUtils import DatabaseUtils"
   ]
  },
  {
   "cell_type": "code",
   "execution_count": 3,
   "id": "459fc522-73f2-4ce0-838c-c35c2cf1ad8e",
   "metadata": {},
   "outputs": [],
   "source": [
    "databaseUtils = DatabaseUtils()"
   ]
  },
  {
   "cell_type": "code",
   "execution_count": 5,
   "id": "1d404e33-6aa8-49a9-9196-aba0d7fce930",
   "metadata": {},
   "outputs": [
    {
     "name": "stdout",
     "output_type": "stream",
     "text": [
      "['academic', 'information_schema', 'mysql', 'performance_schema', 'sys', 'test_GCP']\n",
      "['academic', 'information_schema', 'mysql', 'performance_schema', 'sys', 'test-GCP', 'test_GCP']\n",
      "['academic', 'information_schema', 'mysql', 'performance_schema', 'sys', 'test_GCP']\n"
     ]
    }
   ],
   "source": [
    "print(databaseUtils.get_schema_names())\n",
    "databaseUtils.create_schema('test-GCP')\n",
    "print(databaseUtils.get_schema_names())\n",
    "databaseUtils.drop_schema('test-GCP')\n",
    "print(databaseUtils.get_schema_names())"
   ]
  },
  {
   "cell_type": "code",
   "execution_count": 16,
   "id": "9b614994-82ca-43fa-b902-e785d54b18b8",
   "metadata": {},
   "outputs": [],
   "source": [
    "databaseUtils.drop_schema('test_GCP')\n",
    "databaseUtils.create_schema('test_GCP')"
   ]
  },
  {
   "cell_type": "code",
   "execution_count": 17,
   "id": "a9889559-d375-4bbb-9541-2003a83b243d",
   "metadata": {},
   "outputs": [
    {
     "data": {
      "text/plain": [
       "[(1,), (2,), (4,), (10,), (20,), (40,), (1,), (2,), (5,), (1,), (7,), (9,)]"
      ]
     },
     "execution_count": 17,
     "metadata": {},
     "output_type": "execute_result"
    }
   ],
   "source": [
    "databaseUtils.execute_query('CREATE TABLE IF NOT EXISTS test_GCP.naman (id int);')\n",
    "databaseUtils.execute_query('INSERT INTO test_GCP.naman VALUES (1), (2), (4);')\n",
    "databaseUtils.execute_query('INSERT INTO test_GCP.naman VALUES (10), (20), (40);')\n",
    "databaseUtils.execute_query('INSERT INTO test_GCP.naman VALUES (1), (2), (5);')\n",
    "databaseUtils.execute_query('INSERT INTO test_GCP.naman VALUES (1), (7), (9);')\n",
    "res = databaseUtils.execute_query('SELECT * from test_GCP.naman;')\n",
    "res.fetchall()"
   ]
  },
  {
   "cell_type": "code",
   "execution_count": 18,
   "id": "f055ac8c-d256-4d73-9546-b5119547f307",
   "metadata": {},
   "outputs": [],
   "source": [
    "databaseUtils.execute_query('UPDATE test_GCP.naman SET id = 69 WHERE id = 1;')"
   ]
  },
  {
   "cell_type": "code",
   "execution_count": 19,
   "id": "de2108ba-d108-4435-b7d9-ac2a2ac5de37",
   "metadata": {},
   "outputs": [
    {
     "data": {
      "text/plain": [
       "[(69,), (2,), (4,), (10,), (20,), (40,), (69,), (2,), (5,), (69,), (7,), (9,)]"
      ]
     },
     "execution_count": 19,
     "metadata": {},
     "output_type": "execute_result"
    }
   ],
   "source": [
    "res = databaseUtils.execute_query('SELECT * from test_GCP.naman;')\n",
    "res.fetchall()"
   ]
  },
  {
   "cell_type": "code",
   "execution_count": null,
   "id": "ebf73cf5-2e94-4458-a8e7-05c24a060668",
   "metadata": {},
   "outputs": [],
   "source": []
  }
 ],
 "metadata": {
  "environment": {
   "kernel": "python3",
   "name": "common-cpu.m107",
   "type": "gcloud",
   "uri": "gcr.io/deeplearning-platform-release/base-cpu:m107"
  },
  "kernelspec": {
   "display_name": "Python 3",
   "language": "python",
   "name": "python3"
  },
  "language_info": {
   "codemirror_mode": {
    "name": "ipython",
    "version": 3
   },
   "file_extension": ".py",
   "mimetype": "text/x-python",
   "name": "python",
   "nbconvert_exporter": "python",
   "pygments_lexer": "ipython3",
   "version": "3.7.12"
  }
 },
 "nbformat": 4,
 "nbformat_minor": 5
}
