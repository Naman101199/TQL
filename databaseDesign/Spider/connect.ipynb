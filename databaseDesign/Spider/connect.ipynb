{
 "cells": [
  {
   "cell_type": "code",
   "execution_count": 3,
   "id": "df328143-c475-422f-8d9e-befbfb529cab",
   "metadata": {},
   "outputs": [
    {
     "name": "stdout",
     "output_type": "stream",
     "text": [
      "Collecting pymysql\n",
      "  Downloading PyMySQL-1.0.3-py3-none-any.whl (43 kB)\n",
      "\u001b[2K     \u001b[90m━━━━━━━━━━━━━━━━━━━━━━━━━━━━━━━━━━━━━━━━\u001b[0m \u001b[32m43.7/43.7 kB\u001b[0m \u001b[31m3.2 MB/s\u001b[0m eta \u001b[36m0:00:00\u001b[0m\n",
      "\u001b[?25hInstalling collected packages: pymysql\n",
      "Successfully installed pymysql-1.0.3\n"
     ]
    }
   ],
   "source": [
    "!pip install pymysql"
   ]
  },
  {
   "cell_type": "code",
   "execution_count": 4,
   "id": "2b8ac2c6-7e95-4c37-86b8-49e75ee60499",
   "metadata": {},
   "outputs": [
    {
     "ename": "NameError",
     "evalue": "name 'DB_USER' is not defined",
     "output_type": "error",
     "traceback": [
      "\u001b[0;31m---------------------------------------------------------------------------\u001b[0m",
      "\u001b[0;31mNameError\u001b[0m                                 Traceback (most recent call last)",
      "\u001b[0;32m/var/tmp/ipykernel_15948/809024410.py\u001b[0m in \u001b[0;36m<module>\u001b[0;34m\u001b[0m\n\u001b[1;32m      3\u001b[0m      sqlalchemy.engine.url.URL(\n\u001b[1;32m      4\u001b[0m           \u001b[0mdrivername\u001b[0m\u001b[0;34m=\u001b[0m\u001b[0;34m'mysql+pymysql'\u001b[0m\u001b[0;34m,\u001b[0m\u001b[0;34m\u001b[0m\u001b[0;34m\u001b[0m\u001b[0m\n\u001b[0;32m----> 5\u001b[0;31m           \u001b[0musername\u001b[0m\u001b[0;34m=\u001b[0m\u001b[0mDB_USER\u001b[0m\u001b[0;34m,\u001b[0m\u001b[0;34m\u001b[0m\u001b[0;34m\u001b[0m\u001b[0m\n\u001b[0m\u001b[1;32m      6\u001b[0m           \u001b[0mpassword\u001b[0m\u001b[0;34m=\u001b[0m\u001b[0mDB_PASS\u001b[0m\u001b[0;34m,\u001b[0m\u001b[0;34m\u001b[0m\u001b[0;34m\u001b[0m\u001b[0m\n\u001b[1;32m      7\u001b[0m           \u001b[0mhost\u001b[0m\u001b[0;34m=\u001b[0m\u001b[0mDB_HOST\u001b[0m\u001b[0;34m,\u001b[0m\u001b[0;34m\u001b[0m\u001b[0;34m\u001b[0m\u001b[0m\n",
      "\u001b[0;31mNameError\u001b[0m: name 'DB_USER' is not defined"
     ]
    }
   ],
   "source": [
    "import sqlalchemy, pymysql\n",
    "db = sqlalchemy.create_engine(\n",
    "     sqlalchemy.engine.url.URL(\n",
    "          drivername='mysql+pymysql',\n",
    "          username=DB_USER,\n",
    "          password=DB_PASS, \n",
    "          host=DB_HOST, \n",
    "          database='mysql'\n",
    "     )\n",
    ")"
   ]
  },
  {
   "cell_type": "code",
   "execution_count": 13,
   "id": "7b924ae9-935e-4e8e-af6e-97864bc63af9",
   "metadata": {},
   "outputs": [],
   "source": [
    "import os\n",
    "\n",
    "import sqlalchemy\n",
    "\n",
    "\n",
    "def connect_tcp_socket() -> sqlalchemy.engine.base.Engine:\n",
    "    \"\"\" Initializes a TCP connection pool for a Cloud SQL instance of MySQL. \"\"\"\n",
    "    # Note: Saving credentials in environment variables is convenient, but not\n",
    "    # secure - consider a more secure solution such as\n",
    "    # Cloud Secret Manager (https://cloud.google.com/secret-manager) to help\n",
    "    # keep secrets safe.\n",
    "    db_host = '35.193.112.203'  # e.g. '127.0.0.1' ('172.17.0.1' if deployed to GAE Flex)\n",
    "    db_user = 'root'  # e.g. 'my-db-user'\n",
    "    db_pass = 'password'  # e.g. 'my-db-password'\n",
    "    db_name = 'mysql'  # e.g. 'my-database'\n",
    "    db_port = 0  # e.g. 3306\n",
    "\n",
    "    pool = sqlalchemy.create_engine(\n",
    "        # Equivalent URL:\n",
    "        # mysql+pymysql://<db_user>:<db_pass>@<db_host>:<db_port>/<db_name>\n",
    "        sqlalchemy.engine.url.URL.create(\n",
    "            drivername=\"mysql+pymysql\",\n",
    "            username=db_user,\n",
    "            password=db_pass,\n",
    "            host=db_host,\n",
    "            port=db_port,\n",
    "            database=db_name,\n",
    "        ),\n",
    "        # ...\n",
    "    )\n",
    "    return pool"
   ]
  },
  {
   "cell_type": "code",
   "execution_count": 24,
   "id": "61b83b34-a56a-4859-b34e-8275b1dd0ae1",
   "metadata": {},
   "outputs": [],
   "source": [
    "engine = connect_tcp_socket()"
   ]
  },
  {
   "cell_type": "code",
   "execution_count": 25,
   "id": "de543bd6-6f4b-44f2-b000-14d141058c42",
   "metadata": {},
   "outputs": [],
   "source": [
    "conn = engine.connect()"
   ]
  },
  {
   "cell_type": "code",
   "execution_count": 26,
   "id": "6e4b0c42-13a6-4dd3-bed6-2ec601048cf8",
   "metadata": {},
   "outputs": [
    {
     "data": {
      "text/plain": [
       "<sqlalchemy.engine.base.Connection at 0x7fa5e5ce7a90>"
      ]
     },
     "execution_count": 26,
     "metadata": {},
     "output_type": "execute_result"
    }
   ],
   "source": [
    "conn"
   ]
  },
  {
   "cell_type": "code",
   "execution_count": 27,
   "id": "44718be8-00ee-4a63-8a6e-ce1f16609aca",
   "metadata": {},
   "outputs": [],
   "source": [
    "from sqlalchemy import inspect\n",
    "inspec = inspect(connect_tcp_socket())"
   ]
  },
  {
   "cell_type": "code",
   "execution_count": 28,
   "id": "57f068aa-e80a-4caa-af82-7e8b38b980f4",
   "metadata": {},
   "outputs": [
    {
     "data": {
      "text/plain": [
       "['information_schema', 'mysql', 'performance_schema', 'sys']"
      ]
     },
     "execution_count": 28,
     "metadata": {},
     "output_type": "execute_result"
    }
   ],
   "source": [
    "inspec.get_schema_names()"
   ]
  },
  {
   "cell_type": "code",
   "execution_count": 39,
   "id": "bce29708-29c2-40cd-b9a2-4df535583bcc",
   "metadata": {},
   "outputs": [
    {
     "data": {
      "text/plain": [
       "<sqlalchemy.engine.cursor.CursorResult at 0x7fa5e5546600>"
      ]
     },
     "execution_count": 39,
     "metadata": {},
     "output_type": "execute_result"
    }
   ],
   "source": [
    "schema_name = 'test_GCP'\n",
    "# if not engine.dialect.has_schema(engine, schema_name):\n",
    "engine.connect().execute(sqlalchemy.schema.CreateSchema(schema_name))"
   ]
  },
  {
   "cell_type": "code",
   "execution_count": 42,
   "id": "54ba8070-d399-49d2-8b76-57a66294c5fd",
   "metadata": {},
   "outputs": [
    {
     "data": {
      "text/plain": [
       "<sqlalchemy.engine.cursor.CursorResult at 0x7fa5e5546b40>"
      ]
     },
     "execution_count": 42,
     "metadata": {},
     "output_type": "execute_result"
    }
   ],
   "source": [
    "engine.connect().execute(sqlalchemy.text(\"create table test_GCP.naman(id int);\"))"
   ]
  },
  {
   "cell_type": "code",
   "execution_count": null,
   "id": "cad934f9-6bde-4057-865a-52614ed3aa7a",
   "metadata": {},
   "outputs": [],
   "source": []
  }
 ],
 "metadata": {
  "environment": {
   "kernel": "python3",
   "name": "common-cpu.m107",
   "type": "gcloud",
   "uri": "gcr.io/deeplearning-platform-release/base-cpu:m107"
  },
  "kernelspec": {
   "display_name": "Python 3",
   "language": "python",
   "name": "python3"
  },
  "language_info": {
   "codemirror_mode": {
    "name": "ipython",
    "version": 3
   },
   "file_extension": ".py",
   "mimetype": "text/x-python",
   "name": "python",
   "nbconvert_exporter": "python",
   "pygments_lexer": "ipython3",
   "version": "3.7.12"
  }
 },
 "nbformat": 4,
 "nbformat_minor": 5
}
