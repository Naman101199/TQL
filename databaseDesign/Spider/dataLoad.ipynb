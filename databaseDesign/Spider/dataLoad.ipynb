{
 "cells": [
  {
   "cell_type": "code",
   "execution_count": 1,
   "id": "76f2d6da-5f37-4b54-900f-5ad259635df7",
   "metadata": {},
   "outputs": [],
   "source": [
    "from google.cloud import storage\n",
    "import os\n",
    "import sqlalchemy\n",
    "import sqlite3\n",
    "import pandas as pd"
   ]
  },
  {
   "cell_type": "code",
   "execution_count": 2,
   "id": "b4cc01cd-c01c-4f6b-b551-252c14c8dfbd",
   "metadata": {},
   "outputs": [],
   "source": [
    "def list_blobs_pd(bucket_name, folder_name):\n",
    "    \"\"\"List all files in given COS directory.\"\"\"       \n",
    "    gcs_client = storage.Client()\n",
    "    bucket = gcs_client.bucket(bucket_name)\n",
    "    blobs = list(bucket.list_blobs(prefix=folder_name))\n",
    "\n",
    "    blob_name = []\n",
    "    blob_size = []\n",
    "    blob_time = []\n",
    "    \n",
    "    for blob in blobs:\n",
    "        blob_name.append(blob.name)\n",
    "        blob_size.append(blob.size)\n",
    "        blob_time.append(blob.time_created)\n",
    "\n",
    "    blobs_df = pd.DataFrame(list(zip(blob_name, blob_size, blob_time)), columns=['Name', 'Size', 'Time_Stamp'])\n",
    "\n",
    "    return blobs_df\n",
    "\n",
    "\n",
    "def download_blob(bucket_name, source_blob_name, destination_file_name):\n",
    "    \"\"\"Downloads a blob from COS bucket.\"\"\"\n",
    "    gcs_client = storage.Client()\n",
    "    bucket = gcs_client.bucket(bucket_name)\n",
    "    blob = bucket.blob(source_blob_name)\n",
    "    blob.download_to_filename(destination_file_name)"
   ]
  },
  {
   "cell_type": "code",
   "execution_count": 3,
   "id": "efa2d695-eae6-4a10-a2b7-aad517621151",
   "metadata": {},
   "outputs": [],
   "source": [
    "def connect_to_sql() -> sqlalchemy.engine.base.Engine:\n",
    "    \"\"\" Initializes a TCP connection pool for a Cloud SQL instance of MySQL. \"\"\"\n",
    "\n",
    "    db_host = '35.193.112.203'  # e.g. '127.0.0.1' ('172.17.0.1' if deployed to GAE Flex)\n",
    "    db_user = 'root'  # e.g. 'my-db-user'\n",
    "    db_pass = 'password'  # e.g. 'my-db-password'\n",
    "    db_name = 'mysql'  # e.g. 'my-database'\n",
    "    db_port = 0  # e.g. 3306\n",
    "\n",
    "    pool = sqlalchemy.create_engine(\n",
    "        # Equivalent URL:\n",
    "        # mysql+pymysql://<db_user>:<db_pass>@<db_host>:<db_port>/<db_name>\n",
    "        sqlalchemy.engine.url.URL.create(\n",
    "            drivername=\"mysql+pymysql\",\n",
    "            username=db_user,\n",
    "            password=db_pass,\n",
    "            host=db_host,\n",
    "            port=db_port,\n",
    "            database=db_name,\n",
    "        ),\n",
    "        # ...\n",
    "    )\n",
    "    return pool"
   ]
  },
  {
   "cell_type": "code",
   "execution_count": null,
   "id": "7796d031-e2b9-46df-9591-767a5c293e6c",
   "metadata": {},
   "outputs": [],
   "source": [
    "def executeQueriesFromFile(file_name):\n",
    "    #execture query one by one"
   ]
  },
  {
   "cell_type": "code",
   "execution_count": 6,
   "id": "be563ffd-d907-4df7-b01c-b0fcc1166a3c",
   "metadata": {},
   "outputs": [],
   "source": [
    "engine_mysql = connect_to_sql()\n",
    "conn_mysql = engine_mysql.connect()"
   ]
  },
  {
   "cell_type": "code",
   "execution_count": 56,
   "id": "4eb55385-1145-498c-ae34-b35e951b1ea7",
   "metadata": {},
   "outputs": [],
   "source": [
    "blobs = list_blobs_pd(bucket_name = \"data_tql\", folder_name = \"spider/database\")\n",
    "blobs['schema'] = blobs['Name'].apply(lambda x: x.split('/')[2])\n",
    "blobs['schema_last_file'] = blobs['Name'].apply(lambda x: x.split('/')[-1])\n",
    "blobs['extension'] = blobs['schema_last_file'].apply(lambda x: x.split('.')[1])\n",
    "# blobs[['extension']].value_counts()"
   ]
  },
  {
   "cell_type": "code",
   "execution_count": 8,
   "id": "bee8b8d1-abc7-456d-874e-561af1f7cd5d",
   "metadata": {},
   "outputs": [],
   "source": [
    "sql_dict = {}\n",
    "sqlite_dict = {}\n",
    "no_db_file = []\n",
    "\n",
    "for schema in blobs.schema.unique():\n",
    "    df_schema = blobs[blobs['schema'] == schema]\n",
    "    if 'sql' in df_schema['extension'].tolist():\n",
    "        sql_dict[schema] = df_schema[df_schema['extension'] == 'sql']['Name'].values[0]\n",
    "    elif 'sqlite' in df_schema['extension'].tolist():\n",
    "        sqlite_dict[schema] = df_schema[df_schema['extension'] == 'sqlite']['Name'].values[0]\n",
    "    else:\n",
    "        no_db_file.append(schema)"
   ]
  },
  {
   "cell_type": "code",
   "execution_count": 55,
   "id": "df377c04-1479-4f93-8bec-5cc752a223e9",
   "metadata": {},
   "outputs": [],
   "source": [
    "for schema in sql_dict.keys():\n",
    "    file_name = sql_dict[schema].split('/')[-1]\n",
    "    download_blob(bucket_name = 'data_tql', source_blob_name = sql_dict[schema], destination_file_name = file_name)  \n",
    "    conn_mysql.execute(sqlalchemy.text(f'CREATE SCHEMA IF NOT EXISTS {schema}'))\n",
    "    conn_mysql.execute(sqlalchemy.text(f'USE {schema}'))\n",
    "    executeQueriesFromFile(file_name)\n",
    "    os.remove(file_name)    \n",
    "    break"
   ]
  },
  {
   "cell_type": "code",
   "execution_count": null,
   "id": "d8595dab-7fda-4b87-a49d-47465d048cdb",
   "metadata": {},
   "outputs": [],
   "source": []
  }
 ],
 "metadata": {
  "environment": {
   "kernel": "python3",
   "name": "common-cpu.m107",
   "type": "gcloud",
   "uri": "gcr.io/deeplearning-platform-release/base-cpu:m107"
  },
  "kernelspec": {
   "display_name": "Python 3",
   "language": "python",
   "name": "python3"
  },
  "language_info": {
   "codemirror_mode": {
    "name": "ipython",
    "version": 3
   },
   "file_extension": ".py",
   "mimetype": "text/x-python",
   "name": "python",
   "nbconvert_exporter": "python",
   "pygments_lexer": "ipython3",
   "version": "3.7.12"
  }
 },
 "nbformat": 4,
 "nbformat_minor": 5
}
