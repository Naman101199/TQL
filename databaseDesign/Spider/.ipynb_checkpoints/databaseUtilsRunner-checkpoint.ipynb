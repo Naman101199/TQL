{
 "cells": [
  {
   "cell_type": "code",
   "execution_count": 1,
   "id": "cad934f9-6bde-4057-865a-52614ed3aa7a",
   "metadata": {},
   "outputs": [],
   "source": [
    "import sys\n",
    "sys.path.append('..')\n",
    "\n",
    "from DatabaseUtils import DatabaseUtils"
   ]
  },
  {
   "cell_type": "code",
   "execution_count": 2,
   "id": "bc45ab49-c77b-4d98-8fb5-e1130f400067",
   "metadata": {},
   "outputs": [],
   "source": [
    "databaseUtils = DatabaseUtils()"
   ]
  },
  {
   "cell_type": "code",
   "execution_count": 3,
   "id": "fbdb5dfc-53ec-41c1-a577-0f140e2bd50a",
   "metadata": {},
   "outputs": [
    {
     "name": "stdout",
     "output_type": "stream",
     "text": [
      "['academic', 'information_schema', 'mysql', 'performance_schema', 'sys', 'test_GCP']\n",
      "['academic', 'information_schema', 'mysql', 'performance_schema', 'sys', 'test-GCP', 'test_GCP']\n",
      "['academic', 'information_schema', 'mysql', 'performance_schema', 'sys', 'test_GCP']\n"
     ]
    }
   ],
   "source": [
    "print(databaseUtils.get_schema_names())\n",
    "databaseUtils.create_schema('test-GCP')\n",
    "print(databaseUtils.get_schema_names())\n",
    "databaseUtils.drop_schema('test-GCP')\n",
    "print(databaseUtils.get_schema_names())"
   ]
  },
  {
   "cell_type": "code",
   "execution_count": 4,
   "id": "6cab4e8f-5f9b-4999-8fde-096b1a01e630",
   "metadata": {},
   "outputs": [
    {
     "name": "stdout",
     "output_type": "stream",
     "text": [
      "['academic', 'information_schema', 'mysql', 'performance_schema', 'sys']\n",
      "['academic', 'information_schema', 'mysql', 'performance_schema', 'sys', 'test_GCP']\n"
     ]
    }
   ],
   "source": [
    "databaseUtils.drop_schema('test_GCP')\n",
    "print(databaseUtils.get_schema_names())\n",
    "\n",
    "databaseUtils.create_schema('test_GCP')\n",
    "print(databaseUtils.get_schema_names())"
   ]
  },
  {
   "cell_type": "code",
   "execution_count": 5,
   "id": "ee9216bb-ae59-4602-8d0a-10f65e694e56",
   "metadata": {},
   "outputs": [
    {
     "data": {
      "text/plain": [
       "9"
      ]
     },
     "execution_count": 5,
     "metadata": {},
     "output_type": "execute_result"
    }
   ],
   "source": [
    "databaseUtils.execute_query(\"create table if not exists test_GCP.naman(id int);\")\n",
    "databaseUtils.execute_query(\"insert into test_GCP.naman(id) values (1), (2), (4);\")\n",
    "databaseUtils.execute_query(\"insert into test_GCP.naman(id) values (1), (2), (4);\")\n",
    "databaseUtils.execute_query(\"insert into test_GCP.naman(id) values (10), (20), (40);\")\n",
    "res = databaseUtils.execute_query(\"select * from test_GCP.naman;\")\n",
    "res.rowcount"
   ]
  },
  {
   "cell_type": "code",
   "execution_count": 6,
   "id": "23f6f041-e685-451d-80c6-026e6525f7be",
   "metadata": {},
   "outputs": [
    {
     "name": "stdout",
     "output_type": "stream",
     "text": [
      "[(1,), (1,), (2,), (2,), (4,), (4,), (10,), (20,), (40,)]\n",
      "[(40,), (20,), (10,), (4,), (4,), (2,), (2,), (1,), (1,)]\n",
      "[(1,), (2,), (4,), (1,), (2,), (4,), (10,), (20,), (40,)]\n"
     ]
    }
   ],
   "source": [
    "res = databaseUtils.execute_query(\"select * from test_GCP.naman order by id;\")\n",
    "print(res.fetchall())\n",
    "\n",
    "res = databaseUtils.execute_query(\"select * from test_GCP.naman order by id desc;\")\n",
    "print(res.fetchall())\n",
    "\n",
    "res = databaseUtils.execute_query(\"select * from test_GCP.naman;\")\n",
    "print(res.fetchall())"
   ]
  },
  {
   "cell_type": "code",
   "execution_count": 7,
   "id": "d4a96d48-7024-4a55-90db-47ccff731e03",
   "metadata": {},
   "outputs": [],
   "source": [
    "databaseUtils.execute_query(\"UPDATE test_GCP.naman SET id = 69 WHERE id = 1;\")"
   ]
  },
  {
   "cell_type": "code",
   "execution_count": 8,
   "id": "685d6490-d604-4179-b573-9ddac38511e0",
   "metadata": {},
   "outputs": [
    {
     "name": "stdout",
     "output_type": "stream",
     "text": [
      "[(2,), (2,), (4,), (4,), (10,), (20,), (40,), (69,), (69,)]\n",
      "[(69,), (69,), (40,), (20,), (10,), (4,), (4,), (2,), (2,)]\n",
      "[(69,), (2,), (4,), (69,), (2,), (4,), (10,), (20,), (40,)]\n"
     ]
    }
   ],
   "source": [
    "res = databaseUtils.execute_query(\"select * from test_GCP.naman order by id;\")\n",
    "print(res.fetchall())\n",
    "\n",
    "res = databaseUtils.execute_query(\"select * from test_GCP.naman order by id desc;\")\n",
    "print(res.fetchall())\n",
    "\n",
    "res = databaseUtils.execute_query(\"select * from test_GCP.naman;\")\n",
    "print(res.fetchall())"
   ]
  }
 ],
 "metadata": {
  "environment": {
   "kernel": "python3",
   "name": "common-cpu.m107",
   "type": "gcloud",
   "uri": "gcr.io/deeplearning-platform-release/base-cpu:m107"
  },
  "kernelspec": {
   "display_name": "Python 3",
   "language": "python",
   "name": "python3"
  },
  "language_info": {
   "codemirror_mode": {
    "name": "ipython",
    "version": 3
   },
   "file_extension": ".py",
   "mimetype": "text/x-python",
   "name": "python",
   "nbconvert_exporter": "python",
   "pygments_lexer": "ipython3",
   "version": "3.7.12"
  }
 },
 "nbformat": 4,
 "nbformat_minor": 5
}
