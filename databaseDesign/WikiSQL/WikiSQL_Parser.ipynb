{
 "cells": [
  {
   "cell_type": "code",
   "execution_count": 165,
   "id": "5e2bff9d-84d7-4667-a712-2c1dc33a140b",
   "metadata": {},
   "outputs": [],
   "source": [
    "import os\n",
    "import pandas as pd\n",
    "import sys\n",
    "import json\n",
    "import re"
   ]
  },
  {
   "cell_type": "code",
   "execution_count": 166,
   "id": "fde9b3b7-7d48-4a78-92be-f66048b2585e",
   "metadata": {},
   "outputs": [],
   "source": [
    "import warnings\n",
    "\n",
    "# Suppress all warnings\n",
    "warnings.filterwarnings(\"ignore\")"
   ]
  },
  {
   "cell_type": "code",
   "execution_count": 167,
   "id": "7e6bd54e-d7c6-4ef5-8c28-872c74cae8b7",
   "metadata": {},
   "outputs": [],
   "source": [
    "db_df = pd.read_csv('WikiSQL_wikisql_test_final.csv')"
   ]
  },
  {
   "cell_type": "code",
   "execution_count": 168,
   "id": "11ff6fba-fbe0-49f2-8646-a65f80440845",
   "metadata": {},
   "outputs": [],
   "source": [
    "import pandas as pd\n",
    "\n",
    "# Define the path to your JSONL file\n",
    "jsonl_file_path = 'WikiSQL_data_test.tables.jsonl'\n",
    "\n",
    "# Read the JSONL file into a Pandas DataFrame\n",
    "df = pd.read_json(jsonl_file_path, lines=True)"
   ]
  },
  {
   "cell_type": "code",
   "execution_count": 169,
   "id": "9327c7da-2c90-4cc2-9f64-06fb7cbc72e6",
   "metadata": {},
   "outputs": [],
   "source": [
    "db_df.drop(['phase','sel','conds','agg'],axis=1,inplace=True)"
   ]
  },
  {
   "cell_type": "code",
   "execution_count": 170,
   "id": "b7369916-eb8c-4256-bfb9-7bf3ab7d2e8c",
   "metadata": {},
   "outputs": [],
   "source": [
    "db_df['fileName'] = 'TBA'"
   ]
  },
  {
   "cell_type": "code",
   "execution_count": 171,
   "id": "43bc54d6-691a-44b8-90db-85572a18c15c",
   "metadata": {},
   "outputs": [],
   "source": [
    "db_df['filePath'] = 'TBA'"
   ]
  },
  {
   "cell_type": "code",
   "execution_count": 172,
   "id": "8e1cf734-d945-414b-ab1f-c29422efcfa6",
   "metadata": {},
   "outputs": [],
   "source": [
    "db_df['result'] = 'Not available'"
   ]
  },
  {
   "cell_type": "code",
   "execution_count": 173,
   "id": "545e1b6d-22f9-46a8-a024-e91bec944fd0",
   "metadata": {},
   "outputs": [],
   "source": [
    "db_df.rename(columns={'question':'TQL','sql':'SQL','table_tableid':'db_id'},inplace=True)"
   ]
  },
  {
   "cell_type": "code",
   "execution_count": 174,
   "id": "34e80a72-735e-4f85-b3ed-4c38e697b177",
   "metadata": {},
   "outputs": [],
   "source": [
    "df = df[['id','header','types','name']]"
   ]
  },
  {
   "cell_type": "code",
   "execution_count": 175,
   "id": "24e4713e-13b8-4e8f-9ecd-b42e475e92b0",
   "metadata": {},
   "outputs": [],
   "source": [
    "merged_df = db_df.merge(df, left_on='table_id', right_on='id', how='inner')\n"
   ]
  },
  {
   "cell_type": "code",
   "execution_count": 176,
   "id": "f9c77fa9-4334-44fd-af40-4ce147426005",
   "metadata": {},
   "outputs": [
    {
     "data": {
      "text/plain": [
       "table_id                                        1-10015132-16\n",
       "TQL                           What clu was in toronto 1995-96\n",
       "SQL         SELECT  Years in Toronto FROM table_1_10015132...\n",
       "db_id                                     table_1_10015132_16\n",
       "fileName                                                  TBA\n",
       "filePath                                                  TBA\n",
       "result                                          Not available\n",
       "id                                              1-10015132-16\n",
       "header      [Player, No., Nationality, Position, Years in ...\n",
       "types                    [text, text, text, text, text, text]\n",
       "name                                        table_10015132_16\n",
       "Name: 1, dtype: object"
      ]
     },
     "execution_count": 176,
     "metadata": {},
     "output_type": "execute_result"
    }
   ],
   "source": [
    "# Function to replace 'colX' values in SQL with values from the header column\n",
    "def replace_col_values(sql, header):\n",
    "    def replace_col(match):\n",
    "        col_number = int(match.group(1))  # Extract the X from colX\n",
    "        return header[col_number - 1]  # Use X to index the header list (0-based)\n",
    "\n",
    "    return re.sub(r'col(\\d+)', replace_col, sql)\n",
    "\n",
    "# Apply the function to each row in the dataframe\n",
    "merged_df['SQL'] = merged_df.apply(lambda row: replace_col_values(row['SQL'], row['header']), axis=1)\n",
    "\n",
    "merged_df.iloc[1]"
   ]
  },
  {
   "cell_type": "code",
   "execution_count": 177,
   "id": "41522d8c-639f-434e-803a-b663bf2e94d9",
   "metadata": {},
   "outputs": [
    {
     "data": {
      "text/plain": [
       "Index(['table_id', 'TQL', 'SQL', 'db_id', 'fileName', 'filePath', 'result',\n",
       "       'id', 'header', 'types', 'name'],\n",
       "      dtype='object')"
      ]
     },
     "execution_count": 177,
     "metadata": {},
     "output_type": "execute_result"
    }
   ],
   "source": [
    "merged_df.columns"
   ]
  },
  {
   "cell_type": "code",
   "execution_count": 178,
   "id": "6fdaad80-a8c7-4e20-b10b-37aa2f0c3b1c",
   "metadata": {},
   "outputs": [],
   "source": [
    "data_df = merged_df[['db_id','TQL','SQL','fileName','filePath','result']]"
   ]
  },
  {
   "cell_type": "code",
   "execution_count": 179,
   "id": "663f84ca-d2a2-4d95-93ba-95fad35f8bd1",
   "metadata": {},
   "outputs": [],
   "source": [
    "data_df.to_csv('WikiSQL_test.csv',index=False)"
   ]
  },
  {
   "cell_type": "code",
   "execution_count": 180,
   "id": "21c1822c-19db-4139-910a-9e9199685f88",
   "metadata": {},
   "outputs": [],
   "source": [
    "schema_df = merged_df[['table_id','db_id','header','types']]"
   ]
  },
  {
   "cell_type": "code",
   "execution_count": 181,
   "id": "29863d0b-b302-40dd-9d93-6f063915f2b8",
   "metadata": {},
   "outputs": [],
   "source": [
    "schema_df.rename(columns={'table_id':'table_name','db_id':'table_name_original','header':'column_list','types':'column_datatypes'},inplace=True)"
   ]
  },
  {
   "cell_type": "code",
   "execution_count": 182,
   "id": "95d1c1cc-e35b-4b2a-b867-f338e0cab3fd",
   "metadata": {},
   "outputs": [
    {
     "data": {
      "text/plain": [
       "Index(['table_name', 'table_name_original', 'column_list', 'column_datatypes'], dtype='object')"
      ]
     },
     "execution_count": 182,
     "metadata": {},
     "output_type": "execute_result"
    }
   ],
   "source": [
    "schema_df.columns"
   ]
  },
  {
   "cell_type": "code",
   "execution_count": 183,
   "id": "e1b8e58f-0b7a-4417-9b17-35cefcd827c4",
   "metadata": {},
   "outputs": [],
   "source": [
    "# Add 'primary_key' column with values 'NO_PRIMARY_KEY'\n",
    "schema_df['primary_key'] = 'NO_PRIMARY_KEY'\n",
    "\n",
    "# Add 'column_list_original' column with values same as 'column_list'\n",
    "schema_df['column_list_original'] = schema_df['column_list']\n",
    "\n",
    "# Add 'foreign_keys' column with empty lists\n",
    "schema_df['foreign_keys'] = [[] for _ in range(len(schema_df))]"
   ]
  },
  {
   "cell_type": "code",
   "execution_count": 184,
   "id": "aaa305f5-8417-4627-91a3-a55b417d1843",
   "metadata": {},
   "outputs": [],
   "source": [
    "schema_df.to_csv('WikiSQL_test_schema.csv',index=False)"
   ]
  },
  {
   "cell_type": "code",
   "execution_count": null,
   "id": "177b6bf6-fbe6-4d53-b80e-5c0a61c77b43",
   "metadata": {},
   "outputs": [],
   "source": []
  }
 ],
 "metadata": {
  "environment": {
   "kernel": "python3",
   "name": "common-cpu.m107",
   "type": "gcloud",
   "uri": "gcr.io/deeplearning-platform-release/base-cpu:m107"
  },
  "kernelspec": {
   "display_name": "Python 3",
   "language": "python",
   "name": "python3"
  },
  "language_info": {
   "codemirror_mode": {
    "name": "ipython",
    "version": 3
   },
   "file_extension": ".py",
   "mimetype": "text/x-python",
   "name": "python",
   "nbconvert_exporter": "python",
   "pygments_lexer": "ipython3",
   "version": "3.7.12"
  }
 },
 "nbformat": 4,
 "nbformat_minor": 5
}
