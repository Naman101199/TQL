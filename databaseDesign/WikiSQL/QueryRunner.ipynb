{
 "cells": [
  {
   "cell_type": "code",
   "execution_count": 8,
   "id": "ad372d6a-cdb4-4988-8d75-a12db66ec1a9",
   "metadata": {},
   "outputs": [],
   "source": [
    "from google.cloud import storage\n",
    "import os\n",
    "import pandas as pd\n",
    "import numpy as np\n",
    "import sqlite3\n",
    "from tqdm.notebook import tqdm"
   ]
  },
  {
   "cell_type": "code",
   "execution_count": 9,
   "id": "331e767a-6845-479e-8d89-92dd7c2014ba",
   "metadata": {},
   "outputs": [],
   "source": [
    "import numpy as np"
   ]
  },
  {
   "cell_type": "code",
   "execution_count": 10,
   "id": "a870a9e5-eb8a-4c4e-a108-361a5ac6ea2a",
   "metadata": {},
   "outputs": [],
   "source": [
    "df = pd.read_csv('gs://data_tql/WikiSQL/wikisql.csv')"
   ]
  },
  {
   "cell_type": "code",
   "execution_count": 11,
   "id": "3cab433f-3066-419b-8255-b7009765d48a",
   "metadata": {},
   "outputs": [],
   "source": [
    "def list_blobs(bucket_name, folder_name):\n",
    "    \"\"\"List all files in given COS directory.\"\"\"    \n",
    "    blob_names = []\n",
    "    gcs_client = storage.Client()\n",
    "    bucket = gcs_client.bucket(bucket_name)\n",
    "    blobs = list(bucket.list_blobs(prefix=folder_name))\n",
    "    for blob in blobs:\n",
    "        blob_names.append(blob.name)\n",
    "    return blob_names\n",
    "    \n",
    "def list_blobs_pd(bucket_name, folder_name):\n",
    "    \"\"\"List all files in given COS directory.\"\"\"       \n",
    "    gcs_client = storage.Client()\n",
    "    bucket = gcs_client.bucket(bucket_name)\n",
    "    blobs = list(bucket.list_blobs(prefix=folder_name))\n",
    "\n",
    "    blob_name = []\n",
    "    blob_size = []\n",
    "    blob_time = []\n",
    "    \n",
    "    for blob in blobs:\n",
    "        blob_name.append(blob.name)\n",
    "        blob_size.append(blob.size)\n",
    "        blob_time.append(blob.time_created)\n",
    "\n",
    "    blobs_df = pd.DataFrame(list(zip(blob_name, blob_size, blob_time)), columns=['filePath', 'size', 'timeStamp'])    \n",
    "    return blobs_df\n",
    "\n",
    "def download_blob(bucket_name, source_blob_name, destination_file_name):\n",
    "    \"\"\"Downloads a blob from COS bucket.\"\"\"\n",
    "    gcs_client = storage.Client()\n",
    "    bucket = gcs_client.bucket(bucket_name)\n",
    "    blob = bucket.blob(source_blob_name)\n",
    "    blob.download_to_filename(destination_file_name)\n",
    "\n",
    "def upload_blob(bucket_name, source_file_name, destination_blob_name):\n",
    "    \"\"\"Uploads a file to the bucket.\"\"\"    \n",
    "    gcs_client = storage.Client()\n",
    "    bucket = gcs_client.bucket(bucket_name)\n",
    "    blob = bucket.blob(destination_blob_name)\n",
    "    blob.upload_from_filename(source_file_name)"
   ]
  },
  {
   "cell_type": "code",
   "execution_count": 18,
   "id": "bff846e7-ba5a-4d5c-8402-19e3aa34ee06",
   "metadata": {},
   "outputs": [],
   "source": [
    "bucket_name = 'data_tql'\n",
    "all_blobs = list_blobs(bucket_name, 'wikisqliteDB/dev')\n"
   ]
  },
  {
   "cell_type": "code",
   "execution_count": 20,
   "id": "f788fb52-e27e-461b-9aef-3b561771c5f5",
   "metadata": {},
   "outputs": [
    {
     "data": {
      "text/plain": [
       "'wikisqliteDB/dev/table_1_10015132_11.sqlite'"
      ]
     },
     "execution_count": 20,
     "metadata": {},
     "output_type": "execute_result"
    }
   ],
   "source": [
    "all_blobs[2]"
   ]
  },
  {
   "cell_type": "code",
   "execution_count": 22,
   "id": "deae03a4-5595-4895-9bef-3831b4b7c5c8",
   "metadata": {},
   "outputs": [],
   "source": [
    "FILE_NAME = 'table_1_10015132_11.sqlite'\n",
    "BUCKET_NAME = \"data_tql\"\n",
    "FOLDER_NAME = \"wikisqliteDB/dev\"\n",
    "\n",
    "storage_client = storage.Client()\n",
    "\n",
    "bucket = storage_client.bucket(BUCKET_NAME)\n",
    "blob = bucket.blob(f\"{FOLDER_NAME}/{FILE_NAME}\")\n",
    "\n",
    "# Download the SQLite file to a local file\n",
    "local_file_name = FILE_NAME\n",
    "blob.download_to_filename(local_file_name)"
   ]
  },
  {
   "cell_type": "code",
   "execution_count": 24,
   "id": "b51bf8ae-f5f4-45a5-9b0f-dfd7bb7b4766",
   "metadata": {},
   "outputs": [],
   "source": [
    "conn = sqlite3.connect(f'table_1_10015132_11.sqlite')\n",
    "cursor = conn.cursor()"
   ]
  },
  {
   "cell_type": "code",
   "execution_count": 27,
   "id": "884133c0-2e1f-4cfa-9340-43ee0431f34b",
   "metadata": {},
   "outputs": [
    {
     "data": {
      "text/plain": [
       "'SELECT  col4 FROM table WHERE col5 = \"New series began in June 2011\"'"
      ]
     },
     "execution_count": 27,
     "metadata": {},
     "output_type": "execute_result"
    }
   ],
   "source": [
    "df.loc[1,'sql']"
   ]
  },
  {
   "cell_type": "code",
   "execution_count": 33,
   "id": "75455178-4fa9-4b63-a127-6fb1bb74bde3",
   "metadata": {},
   "outputs": [],
   "source": [
    "df1 = cursor.execute(f'SELECT col4 FROM table_1_10015132_11')"
   ]
  },
  {
   "cell_type": "code",
   "execution_count": 34,
   "id": "9e811529-29c5-41eb-b832-415aa0d61458",
   "metadata": {},
   "outputs": [
    {
     "data": {
      "text/plain": [
       "[('1999-2000',),\n",
       " ('2002-03',),\n",
       " ('1996-97',),\n",
       " ('1996',),\n",
       " ('2002-03',),\n",
       " ('1996-97',),\n",
       " ('2012-present',)]"
      ]
     },
     "execution_count": 34,
     "metadata": {},
     "output_type": "execute_result"
    }
   ],
   "source": [
    "df1.fetchall()"
   ]
  },
  {
   "cell_type": "code",
   "execution_count": 35,
   "id": "318764a7-ddfa-4732-89f4-29e3c5d54127",
   "metadata": {},
   "outputs": [],
   "source": [
    "conn.close()"
   ]
  },
  {
   "cell_type": "code",
   "execution_count": null,
   "id": "eb079beb-c03f-4d0a-9a16-6f8ddd20d389",
   "metadata": {},
   "outputs": [],
   "source": []
  }
 ],
 "metadata": {
  "environment": {
   "kernel": "python3",
   "name": "common-cpu.m107",
   "type": "gcloud",
   "uri": "gcr.io/deeplearning-platform-release/base-cpu:m107"
  },
  "kernelspec": {
   "display_name": "Python 3",
   "language": "python",
   "name": "python3"
  },
  "language_info": {
   "codemirror_mode": {
    "name": "ipython",
    "version": 3
   },
   "file_extension": ".py",
   "mimetype": "text/x-python",
   "name": "python",
   "nbconvert_exporter": "python",
   "pygments_lexer": "ipython3",
   "version": "3.7.12"
  }
 },
 "nbformat": 4,
 "nbformat_minor": 5
}
