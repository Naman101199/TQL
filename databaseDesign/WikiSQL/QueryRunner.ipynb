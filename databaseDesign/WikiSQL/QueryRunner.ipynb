{
 "cells": [
  {
   "cell_type": "code",
   "execution_count": 1,
   "id": "ad372d6a-cdb4-4988-8d75-a12db66ec1a9",
   "metadata": {},
   "outputs": [],
   "source": [
    "from google.cloud import storage\n",
    "import os\n",
    "import pandas as pd\n",
    "import numpy as np\n",
    "import sqlite3\n",
    "from tqdm.notebook import tqdm"
   ]
  },
  {
   "cell_type": "code",
   "execution_count": 2,
   "id": "331e767a-6845-479e-8d89-92dd7c2014ba",
   "metadata": {},
   "outputs": [],
   "source": [
    "import numpy as np"
   ]
  },
  {
   "cell_type": "code",
   "execution_count": 3,
   "id": "a870a9e5-eb8a-4c4e-a108-361a5ac6ea2a",
   "metadata": {},
   "outputs": [],
   "source": [
    "df = pd.read_csv('gs://data_tql/WikiSQL/wikisql_train_final.csv')"
   ]
  },
  {
   "cell_type": "code",
   "execution_count": 4,
   "id": "bd7ad80b-d3d4-40f1-be6c-3bf8c9a1bbfd",
   "metadata": {},
   "outputs": [
    {
     "data": {
      "text/plain": [
       "(56355, 8)"
      ]
     },
     "execution_count": 4,
     "metadata": {},
     "output_type": "execute_result"
    }
   ],
   "source": [
    "df.shape"
   ]
  },
  {
   "cell_type": "code",
   "execution_count": 5,
   "id": "3cab433f-3066-419b-8255-b7009765d48a",
   "metadata": {},
   "outputs": [],
   "source": [
    "def list_blobs(bucket_name, folder_name):\n",
    "    \"\"\"List all files in given COS directory.\"\"\"    \n",
    "    blob_names = []\n",
    "    gcs_client = storage.Client()\n",
    "    bucket = gcs_client.bucket(bucket_name)\n",
    "    blobs = list(bucket.list_blobs(prefix=folder_name))\n",
    "    for blob in blobs:\n",
    "        blob_names.append(blob.name)\n",
    "    return blob_names\n",
    "    \n",
    "def list_blobs_pd(bucket_name, folder_name):\n",
    "    \"\"\"List all files in given COS directory.\"\"\"       \n",
    "    gcs_client = storage.Client()\n",
    "    bucket = gcs_client.bucket(bucket_name)\n",
    "    blobs = list(bucket.list_blobs(prefix=folder_name))\n",
    "\n",
    "    blob_name = []\n",
    "    blob_size = []\n",
    "    blob_time = []\n",
    "    \n",
    "    for blob in blobs:\n",
    "        blob_name.append(blob.name)\n",
    "        blob_size.append(blob.size)\n",
    "        blob_time.append(blob.time_created)\n",
    "\n",
    "    blobs_df = pd.DataFrame(list(zip(blob_name, blob_size, blob_time)), columns=['filePath', 'size', 'timeStamp'])    \n",
    "    return blobs_df\n",
    "\n",
    "def download_blob(bucket_name, source_blob_name, destination_file_name):\n",
    "    \"\"\"Downloads a blob from COS bucket.\"\"\"\n",
    "    gcs_client = storage.Client()\n",
    "    bucket = gcs_client.bucket(bucket_name)\n",
    "    blob = bucket.blob(source_blob_name)\n",
    "    blob.download_to_filename(destination_file_name)\n",
    "\n",
    "def upload_blob(bucket_name, source_file_name, destination_blob_name):\n",
    "    \"\"\"Uploads a file to the bucket.\"\"\"    \n",
    "    gcs_client = storage.Client()\n",
    "    bucket = gcs_client.bucket(bucket_name)\n",
    "    blob = bucket.blob(destination_blob_name)\n",
    "    blob.upload_from_filename(source_file_name)"
   ]
  },
  {
   "cell_type": "code",
   "execution_count": 6,
   "id": "bff846e7-ba5a-4d5c-8402-19e3aa34ee06",
   "metadata": {},
   "outputs": [],
   "source": [
    "bucket_name = 'data_tql'\n",
    "all_blobs = list_blobs(bucket_name, 'wikisqliteDB/train')"
   ]
  },
  {
   "cell_type": "code",
   "execution_count": 7,
   "id": "e9b51b12-14c8-429d-8dbd-014d76d0af1c",
   "metadata": {},
   "outputs": [],
   "source": [
    "import os"
   ]
  },
  {
   "cell_type": "code",
   "execution_count": 8,
   "id": "ab4256b1-3cc4-480c-8c5a-a68a913d6ca7",
   "metadata": {},
   "outputs": [
    {
     "data": {
      "text/plain": [
       "56355"
      ]
     },
     "execution_count": 8,
     "metadata": {},
     "output_type": "execute_result"
    }
   ],
   "source": [
    "len(df)"
   ]
  },
  {
   "cell_type": "code",
   "execution_count": 9,
   "id": "2ef20900-743f-4daf-a23f-a066d1e19a7a",
   "metadata": {},
   "outputs": [
    {
     "data": {
      "text/html": [
       "<div>\n",
       "<style scoped>\n",
       "    .dataframe tbody tr th:only-of-type {\n",
       "        vertical-align: middle;\n",
       "    }\n",
       "\n",
       "    .dataframe tbody tr th {\n",
       "        vertical-align: top;\n",
       "    }\n",
       "\n",
       "    .dataframe thead th {\n",
       "        text-align: right;\n",
       "    }\n",
       "</style>\n",
       "<table border=\"1\" class=\"dataframe\">\n",
       "  <thead>\n",
       "    <tr style=\"text-align: right;\">\n",
       "      <th></th>\n",
       "      <th>phase</th>\n",
       "      <th>table_id</th>\n",
       "      <th>question</th>\n",
       "      <th>sel</th>\n",
       "      <th>conds</th>\n",
       "      <th>agg</th>\n",
       "      <th>sql</th>\n",
       "      <th>table_tableid</th>\n",
       "    </tr>\n",
       "  </thead>\n",
       "  <tbody>\n",
       "    <tr>\n",
       "      <th>0</th>\n",
       "      <td>1</td>\n",
       "      <td>1-1000181-1</td>\n",
       "      <td>Tell me what the notes are for South Australia</td>\n",
       "      <td>5</td>\n",
       "      <td>[[3, 0, 'SOUTH AUSTRALIA']]</td>\n",
       "      <td>0</td>\n",
       "      <td>SELECT  col5 FROM table_1_1000181_1 WHERE col3...</td>\n",
       "      <td>table_1_1000181_1</td>\n",
       "    </tr>\n",
       "    <tr>\n",
       "      <th>1</th>\n",
       "      <td>1</td>\n",
       "      <td>1-1000181-1</td>\n",
       "      <td>What is the current series where the new serie...</td>\n",
       "      <td>4</td>\n",
       "      <td>[[5, 0, 'New series began in June 2011']]</td>\n",
       "      <td>0</td>\n",
       "      <td>SELECT  col4 FROM table_1_1000181_1 WHERE col5...</td>\n",
       "      <td>table_1_1000181_1</td>\n",
       "    </tr>\n",
       "    <tr>\n",
       "      <th>2</th>\n",
       "      <td>1</td>\n",
       "      <td>1-1000181-1</td>\n",
       "      <td>What is the format for South Australia?</td>\n",
       "      <td>2</td>\n",
       "      <td>[[0, 0, 'South Australia']]</td>\n",
       "      <td>0</td>\n",
       "      <td>SELECT  col2 FROM table_1_1000181_1 WHERE col0...</td>\n",
       "      <td>table_1_1000181_1</td>\n",
       "    </tr>\n",
       "    <tr>\n",
       "      <th>3</th>\n",
       "      <td>1</td>\n",
       "      <td>1-1000181-1</td>\n",
       "      <td>Name the background colour for the Australian ...</td>\n",
       "      <td>1</td>\n",
       "      <td>[[0, 0, 'Australian Capital Territory']]</td>\n",
       "      <td>0</td>\n",
       "      <td>SELECT  col1 FROM table_1_1000181_1 WHERE col0...</td>\n",
       "      <td>table_1_1000181_1</td>\n",
       "    </tr>\n",
       "    <tr>\n",
       "      <th>4</th>\n",
       "      <td>1</td>\n",
       "      <td>1-10007452-3</td>\n",
       "      <td>how many times is the fuel propulsion is cng?</td>\n",
       "      <td>3</td>\n",
       "      <td>[[5, 0, 'CNG']]</td>\n",
       "      <td>3</td>\n",
       "      <td>SELECT COUNT col3 FROM table_1_10007452_3 WHER...</td>\n",
       "      <td>table_1_10007452_3</td>\n",
       "    </tr>\n",
       "  </tbody>\n",
       "</table>\n",
       "</div>"
      ],
      "text/plain": [
       "   phase      table_id                                           question  \\\n",
       "0      1   1-1000181-1    Tell me what the notes are for South Australia    \n",
       "1      1   1-1000181-1  What is the current series where the new serie...   \n",
       "2      1   1-1000181-1            What is the format for South Australia?   \n",
       "3      1   1-1000181-1  Name the background colour for the Australian ...   \n",
       "4      1  1-10007452-3      how many times is the fuel propulsion is cng?   \n",
       "\n",
       "   sel                                      conds  agg  \\\n",
       "0    5                [[3, 0, 'SOUTH AUSTRALIA']]    0   \n",
       "1    4  [[5, 0, 'New series began in June 2011']]    0   \n",
       "2    2                [[0, 0, 'South Australia']]    0   \n",
       "3    1   [[0, 0, 'Australian Capital Territory']]    0   \n",
       "4    3                            [[5, 0, 'CNG']]    3   \n",
       "\n",
       "                                                 sql       table_tableid  \n",
       "0  SELECT  col5 FROM table_1_1000181_1 WHERE col3...   table_1_1000181_1  \n",
       "1  SELECT  col4 FROM table_1_1000181_1 WHERE col5...   table_1_1000181_1  \n",
       "2  SELECT  col2 FROM table_1_1000181_1 WHERE col0...   table_1_1000181_1  \n",
       "3  SELECT  col1 FROM table_1_1000181_1 WHERE col0...   table_1_1000181_1  \n",
       "4  SELECT COUNT col3 FROM table_1_10007452_3 WHER...  table_1_10007452_3  "
      ]
     },
     "execution_count": 9,
     "metadata": {},
     "output_type": "execute_result"
    }
   ],
   "source": [
    "df.head()"
   ]
  },
  {
   "cell_type": "code",
   "execution_count": 10,
   "id": "73dd6a1c-5e2c-403f-93e7-22ffdea1f066",
   "metadata": {},
   "outputs": [],
   "source": [
    "BUCKET_NAME = \"data_tql\"\n",
    "FOLDER_NAME = \"wikisqliteDB\"\n",
    "DB_TYPE = \"train\"\n",
    "\n",
    "storage_client = storage.Client()\n",
    "bucket = storage_client.bucket(BUCKET_NAME)"
   ]
  },
  {
   "cell_type": "code",
   "execution_count": null,
   "id": "34dbf465-582c-498e-97b3-301e95b648a0",
   "metadata": {},
   "outputs": [],
   "source": [
    "blob = bucket.blob(f\"{FOLDER_NAME}/{DB_TYPE}/{filename}.sqlite\")\n",
    "blob.download_to_filename(filename+\".sqlite\")"
   ]
  },
  {
   "cell_type": "code",
   "execution_count": 31,
   "id": "a3c41f7d-3a89-4713-84e3-3e2de1ee0718",
   "metadata": {},
   "outputs": [
    {
     "name": "stdout",
     "output_type": "stream",
     "text": [
      "<sqlite3.Cursor object at 0x7ff4de23f6c0>\n"
     ]
    }
   ],
   "source": [
    "for i,j in df[50:].iterrows():\n",
    "    filename = str(j.table_tableid)\n",
    "    blob = bucket.blob(f\"{FOLDER_NAME}/{DB_TYPE}/{filename}.sqlite\")\n",
    "    blob.download_to_filename(filename+\".sqlite\")\n",
    "    conn = sqlite3.connect(f'{filename}.sqlite')\n",
    "    cursor = conn.cursor()\n",
    "    result = cursor.execute(j.sql)\n",
    "    print(result)\n",
    "    break"
   ]
  },
  {
   "cell_type": "code",
   "execution_count": 32,
   "id": "33dc3692-ed81-4f7a-a7d2-3538e41f7ef0",
   "metadata": {},
   "outputs": [
    {
     "name": "stdout",
     "output_type": "stream",
     "text": [
      "[]\n"
     ]
    }
   ],
   "source": [
    "print(result.fetchall())"
   ]
  },
  {
   "cell_type": "code",
   "execution_count": 33,
   "id": "48d5ed96-7353-446a-a5e3-04e62921e4ff",
   "metadata": {},
   "outputs": [],
   "source": [
    "conn.close()"
   ]
  },
  {
   "cell_type": "code",
   "execution_count": null,
   "id": "660b3f2f-d78e-4772-94c9-8ebb2baf0c06",
   "metadata": {},
   "outputs": [],
   "source": [
    "all_blobs = list_blobs(bucket_name, 'wikisqliteDB/train')\n",
    "failed_queries = {}\n",
    "if not no_db_file:\n",
    "    \n",
    "    for schema in tqdm(sqlite_dict.keys()):\n",
    "        filePath = sqlite_dict[schema][0]\n",
    "        fileName = sqlite_dict[schema][1]\n",
    "        download_blob(bucket_name, filePath, fileName)\n",
    "        \n",
    "        if f'sqliteDB/{fileName}' not in all_blobs:\n",
    "            upload_blob(bucket_name, fileName, f'sqliteDB/{fileName}')\n",
    "            \n",
    "        schema_queries = query_data_blobs[query_data_blobs['db_id'] == schema]        \n",
    "        if len(schema_queries) != 0:\n",
    "            \n",
    "            conn = sqlite3.connect(f'{schema}.sqlite')\n",
    "            cursor = conn.cursor()\n",
    "            schema_queries = schema_queries[['SQL']].drop_duplicates().values\n",
    "            \n",
    "            for schema_query in schema_queries:\n",
    "                number_of_same_queries = len(query_data_blobs[(query_data_blobs['db_id'] == schema) & (query_data_blobs['SQL'] == schema_query[0])])\n",
    "                try:\n",
    "                    res_dict = pd.read_sql_query(schema_query[0], conn).to_dict()\n",
    "                    query_data_blobs.loc[(query_data_blobs['db_id'] == schema) &\n",
    "                                         (query_data_blobs['SQL'] == schema_query[0]), 'result'] = [res_dict] * number_of_same_queries\n",
    "                    \n",
    "                except Exception as err:\n",
    "                    failed_queries[schema] = [schema_query[0], err]\n",
    "            conn.close()\n",
    "        os.remove(fileName)"
   ]
  }
 ],
 "metadata": {
  "environment": {
   "kernel": "python3",
   "name": "common-cpu.m107",
   "type": "gcloud",
   "uri": "gcr.io/deeplearning-platform-release/base-cpu:m107"
  },
  "kernelspec": {
   "display_name": "Python 3",
   "language": "python",
   "name": "python3"
  },
  "language_info": {
   "codemirror_mode": {
    "name": "ipython",
    "version": 3
   },
   "file_extension": ".py",
   "mimetype": "text/x-python",
   "name": "python",
   "nbconvert_exporter": "python",
   "pygments_lexer": "ipython3",
   "version": "3.7.12"
  }
 },
 "nbformat": 4,
 "nbformat_minor": 5
}
