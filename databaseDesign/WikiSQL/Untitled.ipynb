{
 "cells": [
  {
   "cell_type": "code",
   "execution_count": 1,
   "id": "89efbb25-2c10-421d-885a-850d3ad88e38",
   "metadata": {},
   "outputs": [],
   "source": [
    "def list_blobs(bucket_name, folder_name):\n",
    "    \"\"\"List all files in given COS directory.\"\"\"    \n",
    "    blob_names = []\n",
    "    gcs_client = storage.Client()\n",
    "    bucket = gcs_client.bucket(bucket_name)\n",
    "    blobs = list(bucket.list_blobs(prefix=folder_name))\n",
    "    for blob in blobs:\n",
    "        blob_names.append(blob.name)\n",
    "    return blob_names\n",
    "    \n",
    "def list_blobs_pd(bucket_name, folder_name):\n",
    "    \"\"\"List all files in given COS directory.\"\"\"       \n",
    "    gcs_client = storage.Client()\n",
    "    bucket = gcs_client.bucket(bucket_name)\n",
    "    blobs = list(bucket.list_blobs(prefix=folder_name))\n",
    "\n",
    "    blob_name = []\n",
    "    blob_size = []\n",
    "    blob_time = []\n",
    "    \n",
    "    for blob in blobs:\n",
    "        blob_name.append(blob.name)\n",
    "        blob_size.append(blob.size)\n",
    "        blob_time.append(blob.time_created)\n",
    "\n",
    "    blobs_df = pd.DataFrame(list(zip(blob_name, blob_size, blob_time)), columns=['filePath', 'size', 'timeStamp'])    \n",
    "    return blobs_df\n",
    "\n",
    "def download_blob(bucket_name, source_blob_name, destination_file_name):\n",
    "    \"\"\"Downloads a blob from COS bucket.\"\"\"\n",
    "    gcs_client = storage.Client()\n",
    "    bucket = gcs_client.bucket(bucket_name)\n",
    "    blob = bucket.blob(source_blob_name)\n",
    "    blob.download_to_filename(destination_file_name)\n",
    "\n",
    "def upload_blob(bucket_name, source_file_name, destination_blob_name):\n",
    "    \"\"\"Uploads a file to the bucket.\"\"\"    \n",
    "    gcs_client = storage.Client()\n",
    "    bucket = gcs_client.bucket(bucket_name)\n",
    "    blob = bucket.blob(destination_blob_name)\n",
    "    blob.upload_from_filename(source_file_name)"
   ]
  },
  {
   "cell_type": "code",
   "execution_count": 2,
   "id": "4eea53f9-3809-4540-9075-6dde734412f8",
   "metadata": {},
   "outputs": [],
   "source": [
    "import sqlite3\n",
    "from google.cloud import storage\n",
    "import pandas as pd"
   ]
  },
  {
   "cell_type": "code",
   "execution_count": 3,
   "id": "4f43aea9-fa79-497d-b551-558fe8bb0dd9",
   "metadata": {},
   "outputs": [],
   "source": [
    "DB_NAME = \"test.db\"\n",
    "BUCKET_NAME = \"data_tql\"\n",
    "FOLDER_NAME = \"WikiSQL/data/\""
   ]
  },
  {
   "cell_type": "code",
   "execution_count": 4,
   "id": "4bbb95a6-33fe-45e9-ad9a-752515ffed5e",
   "metadata": {},
   "outputs": [],
   "source": [
    "blobs = list_blobs_pd(BUCKET_NAME, FOLDER_NAME)"
   ]
  },
  {
   "cell_type": "code",
   "execution_count": 5,
   "id": "33be8e1c-1ed9-4c78-82c2-92f0b2a825dd",
   "metadata": {},
   "outputs": [
    {
     "data": {
      "text/plain": [
       "['WikiSQL/data/dev.db',\n",
       " 'WikiSQL/data/dev.jsonl',\n",
       " 'WikiSQL/data/dev.tables.jsonl',\n",
       " 'WikiSQL/data/test.db',\n",
       " 'WikiSQL/data/test.jsonl',\n",
       " 'WikiSQL/data/test.tables.jsonl',\n",
       " 'WikiSQL/data/train.db',\n",
       " 'WikiSQL/data/train.jsonl',\n",
       " 'WikiSQL/data/train.tables.jsonl']"
      ]
     },
     "execution_count": 5,
     "metadata": {},
     "output_type": "execute_result"
    }
   ],
   "source": [
    "list_blobs(BUCKET_NAME, FOLDER_NAME)"
   ]
  },
  {
   "cell_type": "code",
   "execution_count": 6,
   "id": "a376ba35-e0ee-43a6-9ab9-a2a6bc2e2522",
   "metadata": {},
   "outputs": [],
   "source": [
    "DB_NAME = \"test.db\"\n",
    "BUCKET_NAME = \"data_tql\"\n",
    "FOLDER_NAME = \"WikiSQL/data\"\n",
    "\n",
    "storage_client = storage.Client()\n",
    "\n",
    "bucket = storage_client.bucket(BUCKET_NAME)\n",
    "blob = bucket.blob(f\"{FOLDER_NAME}/{DB_NAME}\")\n",
    "\n",
    "# Download the SQLite file to a local file\n",
    "local_file_name = \"test.db\"\n",
    "blob.download_to_filename(local_file_name)\n",
    "\n",
    "# Connect to the SQLite file using sqlite3\n",
    "conn = sqlite3.connect(local_file_name)"
   ]
  },
  {
   "cell_type": "code",
   "execution_count": 7,
   "id": "c31ec939-17b0-4335-be68-13c60803b308",
   "metadata": {},
   "outputs": [],
   "source": [
    "cursor = conn.cursor()\n",
    "cursor.execute(\"SELECT * FROM sqlite_master WHERE type='table';\")\n",
    "schemas = cursor.fetchall()"
   ]
  },
  {
   "cell_type": "code",
   "execution_count": 15,
   "id": "8a75420d-0462-4796-ac33-e4d9b75b0833",
   "metadata": {},
   "outputs": [
    {
     "data": {
      "text/plain": [
       "('table',\n",
       " 'table_1_10015132_16',\n",
       " 'table_1_10015132_16',\n",
       " 2,\n",
       " 'CREATE TABLE table_1_10015132_16 (col0 text, col1 text, col2 text, col3 text, col4 text, col5 text)')"
      ]
     },
     "execution_count": 15,
     "metadata": {},
     "output_type": "execute_result"
    }
   ],
   "source": [
    "schemas[0]"
   ]
  },
  {
   "cell_type": "code",
   "execution_count": 16,
   "id": "ee4dcff0-0b59-42fa-8176-7cc7f95bc1f7",
   "metadata": {},
   "outputs": [
    {
     "ename": "OperationalError",
     "evalue": "near \"e\": syntax error",
     "output_type": "error",
     "traceback": [
      "\u001b[0;31m---------------------------------------------------------------------------\u001b[0m",
      "\u001b[0;31mOperationalError\u001b[0m                          Traceback (most recent call last)",
      "\u001b[0;32m/var/tmp/ipykernel_2342/1506713506.py\u001b[0m in \u001b[0;36m<module>\u001b[0;34m\u001b[0m\n\u001b[1;32m     11\u001b[0m \u001b[0;34m\u001b[0m\u001b[0m\n\u001b[1;32m     12\u001b[0m     \u001b[0;31m# Export the schema to the new SQLite file\u001b[0m\u001b[0;34m\u001b[0m\u001b[0;34m\u001b[0m\u001b[0;34m\u001b[0m\u001b[0m\n\u001b[0;32m---> 13\u001b[0;31m     \u001b[0mcursor\u001b[0m\u001b[0;34m.\u001b[0m\u001b[0mexecute\u001b[0m\u001b[0;34m(\u001b[0m\u001b[0mquery\u001b[0m\u001b[0;34m)\u001b[0m\u001b[0;34m\u001b[0m\u001b[0;34m\u001b[0m\u001b[0m\n\u001b[0m\u001b[1;32m     14\u001b[0m     \u001b[0mnew_conn\u001b[0m\u001b[0;34m.\u001b[0m\u001b[0mcommit\u001b[0m\u001b[0;34m(\u001b[0m\u001b[0;34m)\u001b[0m\u001b[0;34m\u001b[0m\u001b[0;34m\u001b[0m\u001b[0m\n\u001b[1;32m     15\u001b[0m \u001b[0;34m\u001b[0m\u001b[0m\n",
      "\u001b[0;31mOperationalError\u001b[0m: near \"e\": syntax error"
     ]
    }
   ],
   "source": [
    "BUCKET_NAME = \"data_tql\"\n",
    "FOLDER_NAME = \"wikisqliteDB\"\n",
    "\n",
    "for schema in schemas[0]:\n",
    "    # Get the schema name and create a new SQLite file for it\n",
    "    schema_name = schema[1]\n",
    "    query = schema[4]\n",
    "    new_db_name = f\"{schema_name}.sqlite\"\n",
    "    new_conn = sqlite3.connect(new_db_name)\n",
    "    cursor = new_conn.cursor()\n",
    "\n",
    "    # Export the schema to the new SQLite file\n",
    "    cursor.execute(query)\n",
    "    new_conn.commit()\n",
    "    \n",
    "    # Upload the SQLite file to GCP\n",
    "    storage_client = storage.Client()\n",
    "    bucket = storage_client.bucket(BUCKET_NAME)\n",
    "    blob = bucket.blob(f\"{FOLDER_NAME}/{new_db_name}\")\n",
    "    blob.upload_from_filename(new_db_name)\n",
    "\n",
    "    # Close the connection to the new SQLite file\n",
    "    new_conn.close()\n",
    "\n",
    "# Close the connection to the .db file\n",
    "conn.close()\n"
   ]
  },
  {
   "cell_type": "code",
   "execution_count": 19,
   "id": "900c9478-9b96-49cd-9804-c65850f5ee08",
   "metadata": {},
   "outputs": [],
   "source": [
    "schema = schemas[0]"
   ]
  },
  {
   "cell_type": "code",
   "execution_count": 20,
   "id": "66211551-aa4b-4cdc-b586-840282cde2fe",
   "metadata": {},
   "outputs": [
    {
     "data": {
      "text/plain": [
       "('table',\n",
       " 'table_1_10015132_16',\n",
       " 'table_1_10015132_16',\n",
       " 2,\n",
       " 'CREATE TABLE table_1_10015132_16 (col0 text, col1 text, col2 text, col3 text, col4 text, col5 text)')"
      ]
     },
     "execution_count": 20,
     "metadata": {},
     "output_type": "execute_result"
    }
   ],
   "source": [
    "schema"
   ]
  },
  {
   "cell_type": "code",
   "execution_count": 21,
   "id": "bb9c3b84-f423-4dc3-a069-3ac1aa2f3a7d",
   "metadata": {},
   "outputs": [],
   "source": [
    "schema_name = schema[1]\n",
    "query = schema[4]\n",
    "new_db_name = f\"{schema_name}.sqlite\"\n",
    "new_conn = sqlite3.connect(new_db_name)\n",
    "cursor = new_conn.cursor()\n",
    "\n",
    "    # Export the schema to the new SQLite file\n",
    "cursor.execute(query)\n",
    "new_conn.commit()\n",
    "    \n",
    "    # Upload the SQLite file to GCP\n",
    "storage_client = storage.Client()\n",
    "bucket = storage_client.bucket(BUCKET_NAME)\n",
    "blob = bucket.blob(f\"{FOLDER_NAME}/{new_db_name}\")\n",
    "blob.upload_from_filename(new_db_name)\n",
    "\n",
    "    # Close the connection to the new SQLite file\n",
    "new_conn.close()\n",
    "conn.close()\n"
   ]
  },
  {
   "cell_type": "code",
   "execution_count": null,
   "id": "f15ae25a-a065-4492-b40d-aa020fa8ec0d",
   "metadata": {},
   "outputs": [],
   "source": []
  }
 ],
 "metadata": {
  "environment": {
   "kernel": "python3",
   "name": "common-cpu.m107",
   "type": "gcloud",
   "uri": "gcr.io/deeplearning-platform-release/base-cpu:m107"
  },
  "kernelspec": {
   "display_name": "Python 3",
   "language": "python",
   "name": "python3"
  },
  "language_info": {
   "codemirror_mode": {
    "name": "ipython",
    "version": 3
   },
   "file_extension": ".py",
   "mimetype": "text/x-python",
   "name": "python",
   "nbconvert_exporter": "python",
   "pygments_lexer": "ipython3",
   "version": "3.7.12"
  }
 },
 "nbformat": 4,
 "nbformat_minor": 5
}
