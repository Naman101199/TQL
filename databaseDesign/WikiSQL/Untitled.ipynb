{
 "cells": [
  {
   "cell_type": "code",
   "execution_count": 1,
   "id": "89efbb25-2c10-421d-885a-850d3ad88e38",
   "metadata": {},
   "outputs": [],
   "source": [
    "def list_blobs(bucket_name, folder_name):\n",
    "    \"\"\"List all files in given COS directory.\"\"\"    \n",
    "    blob_names = []\n",
    "    gcs_client = storage.Client()\n",
    "    bucket = gcs_client.bucket(bucket_name)\n",
    "    blobs = list(bucket.list_blobs(prefix=folder_name))\n",
    "    for blob in blobs:\n",
    "        blob_names.append(blob.name)\n",
    "    return blob_names\n",
    "    \n",
    "def list_blobs_pd(bucket_name, folder_name):\n",
    "    \"\"\"List all files in given COS directory.\"\"\"       \n",
    "    gcs_client = storage.Client()\n",
    "    bucket = gcs_client.bucket(bucket_name)\n",
    "    blobs = list(bucket.list_blobs(prefix=folder_name))\n",
    "\n",
    "    blob_name = []\n",
    "    blob_size = []\n",
    "    blob_time = []\n",
    "    \n",
    "    for blob in blobs:\n",
    "        blob_name.append(blob.name)\n",
    "        blob_size.append(blob.size)\n",
    "        blob_time.append(blob.time_created)\n",
    "\n",
    "    blobs_df = pd.DataFrame(list(zip(blob_name, blob_size, blob_time)), columns=['filePath', 'size', 'timeStamp'])    \n",
    "    return blobs_df\n",
    "\n",
    "def download_blob(bucket_name, source_blob_name, destination_file_name):\n",
    "    \"\"\"Downloads a blob from COS bucket.\"\"\"\n",
    "    gcs_client = storage.Client()\n",
    "    bucket = gcs_client.bucket(bucket_name)\n",
    "    blob = bucket.blob(source_blob_name)\n",
    "    blob.download_to_filename(destination_file_name)\n",
    "\n",
    "def upload_blob(bucket_name, source_file_name, destination_blob_name):\n",
    "    \"\"\"Uploads a file to the bucket.\"\"\"    \n",
    "    gcs_client = storage.Client()\n",
    "    bucket = gcs_client.bucket(bucket_name)\n",
    "    blob = bucket.blob(destination_blob_name)\n",
    "    blob.upload_from_filename(source_file_name)"
   ]
  },
  {
   "cell_type": "code",
   "execution_count": 8,
   "id": "4eea53f9-3809-4540-9075-6dde734412f8",
   "metadata": {},
   "outputs": [],
   "source": [
    "import sqlite3\n",
    "from google.cloud import storage\n",
    "import pandas as pd"
   ]
  },
  {
   "cell_type": "code",
   "execution_count": 9,
   "id": "4f43aea9-fa79-497d-b551-558fe8bb0dd9",
   "metadata": {},
   "outputs": [],
   "source": [
    "DB_NAME = \"dev.db\"\n",
    "BUCKET_NAME = \"data_tql\"\n",
    "FOLDER_NAME = \"/WikiSQL/data\""
   ]
  },
  {
   "cell_type": "code",
   "execution_count": 10,
   "id": "4bbb95a6-33fe-45e9-ad9a-752515ffed5e",
   "metadata": {},
   "outputs": [],
   "source": [
    "blobs = list_blobs_pd(BUCKET_NAME, FOLDER_NAME)"
   ]
  },
  {
   "cell_type": "code",
   "execution_count": 11,
   "id": "33be8e1c-1ed9-4c78-82c2-92f0b2a825dd",
   "metadata": {},
   "outputs": [
    {
     "data": {
      "text/plain": [
       "[]"
      ]
     },
     "execution_count": 11,
     "metadata": {},
     "output_type": "execute_result"
    }
   ],
   "source": [
    "list_blobs(BUCKET_NAME, FOLDER_NAME)"
   ]
  },
  {
   "cell_type": "code",
   "execution_count": 12,
   "id": "a376ba35-e0ee-43a6-9ab9-a2a6bc2e2522",
   "metadata": {},
   "outputs": [],
   "source": [
    "conn = sqlite3.connect(DB_NAME)"
   ]
  },
  {
   "cell_type": "code",
   "execution_count": 13,
   "id": "c31ec939-17b0-4335-be68-13c60803b308",
   "metadata": {},
   "outputs": [],
   "source": [
    "cursor = conn.cursor()\n",
    "cursor.execute(\"SELECT name FROM sqlite_master WHERE type='table';\")\n",
    "schemas = cursor.fetchall()"
   ]
  },
  {
   "cell_type": "code",
   "execution_count": 16,
   "id": "8a75420d-0462-4796-ac33-e4d9b75b0833",
   "metadata": {},
   "outputs": [
    {
     "ename": "IndexError",
     "evalue": "list index out of range",
     "output_type": "error",
     "traceback": [
      "\u001b[0;31m---------------------------------------------------------------------------\u001b[0m",
      "\u001b[0;31mIndexError\u001b[0m                                Traceback (most recent call last)",
      "\u001b[0;32m/var/tmp/ipykernel_3692/3396259211.py\u001b[0m in \u001b[0;36m<module>\u001b[0;34m\u001b[0m\n\u001b[0;32m----> 1\u001b[0;31m \u001b[0mschemas\u001b[0m\u001b[0;34m[\u001b[0m\u001b[0;36m0\u001b[0m\u001b[0;34m]\u001b[0m\u001b[0;34m\u001b[0m\u001b[0;34m\u001b[0m\u001b[0m\n\u001b[0m",
      "\u001b[0;31mIndexError\u001b[0m: list index out of range"
     ]
    }
   ],
   "source": []
  },
  {
   "cell_type": "code",
   "execution_count": null,
   "id": "ee4dcff0-0b59-42fa-8176-7cc7f95bc1f7",
   "metadata": {},
   "outputs": [],
   "source": [
    "\n",
    "conn = sqlite3.connect(DB_NAME)\n",
    "\n",
    "\n",
    "# Loop through each schema and create a SQLite file for it\n",
    "for schema in schemas:\n",
    "    # Get the schema name and create a new SQLite file for it\n",
    "    schema_name = schema[0]\n",
    "    new_db_name = f\"{schema_name}.sqlite\"\n",
    "    new_conn = sqlite3.connect(new_db_name)\n",
    "    cursor = new_conn.cursor()\n",
    "\n",
    "    # Export the schema to the new SQLite file\n",
    "    cursor.execute(f\"SELECT * INTO {schema_name} FROM {schema_name};\")\n",
    "    new_conn.commit()\n",
    "\n",
    "    # Upload the SQLite file to GCP\n",
    "    storage_client = storage.Client()\n",
    "    bucket = storage_client.bucket(BUCKET_NAME)\n",
    "    blob = bucket.blob(new_db_name)\n",
    "    blob.upload_from_filename(new_db_name)\n",
    "\n",
    "    # Close the connection to the new SQLite file\n",
    "    new_conn.close()\n",
    "\n",
    "# Close the connection to the .db file\n",
    "conn.close()\n"
   ]
  }
 ],
 "metadata": {
  "environment": {
   "kernel": "python3",
   "name": "common-cpu.m107",
   "type": "gcloud",
   "uri": "gcr.io/deeplearning-platform-release/base-cpu:m107"
  },
  "kernelspec": {
   "display_name": "Python 3",
   "language": "python",
   "name": "python3"
  },
  "language_info": {
   "codemirror_mode": {
    "name": "ipython",
    "version": 3
   },
   "file_extension": ".py",
   "mimetype": "text/x-python",
   "name": "python",
   "nbconvert_exporter": "python",
   "pygments_lexer": "ipython3",
   "version": "3.7.12"
  }
 },
 "nbformat": 4,
 "nbformat_minor": 5
}
