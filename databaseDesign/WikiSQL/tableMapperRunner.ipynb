{
 "cells": [
  {
   "cell_type": "code",
   "execution_count": 1,
   "id": "47b5c95c-7fea-4341-a37f-9207197e9682",
   "metadata": {},
   "outputs": [],
   "source": [
    "import sys\n",
    "sys.path.append('../utils/')\n",
    "\n",
    "from utils import *\n",
    "from TableMapper import TableMapper\n",
    "\n",
    "from tqdm.notebook import tqdm\n",
    "tqdm.pandas()"
   ]
  },
  {
   "cell_type": "code",
   "execution_count": 2,
   "id": "ac822b22-ca2b-42d5-8a8c-68240110d449",
   "metadata": {},
   "outputs": [],
   "source": [
    "query, schema = get_spider_schema_table_files()\n",
    "tableMapper = TableMapper(query, schema)"
   ]
  },
  {
   "cell_type": "code",
   "execution_count": 3,
   "id": "e5a1eeba-d5fb-4ea1-8707-0e75ac124226",
   "metadata": {
    "tags": []
   },
   "outputs": [
    {
     "data": {
      "application/vnd.jupyter.widget-view+json": {
       "model_id": "7584745037c54a27ab63ec296e10b3b2",
       "version_major": 2,
       "version_minor": 0
      },
      "text/plain": [
       "  0%|          | 0/166 [00:00<?, ?it/s]"
      ]
     },
     "metadata": {},
     "output_type": "display_data"
    }
   ],
   "source": [
    "res = []\n",
    "count1 = 0\n",
    "count2 = 0\n",
    "for i in tqdm(list(set(schema.schema_id.values))):\n",
    "    s, t = tableMapper.get_filtered_schema(i)\n",
    "    count_match, count_all = tableMapper.get_exact_match_accuracy(s, t)\n",
    "\n",
    "    count1 += count_match\n",
    "    count2 += count_all\n",
    "\n",
    "    if(count1 == 0):\n",
    "        print(i)\n",
    "\n",
    "    res.append([i, count_match/count_all, len(s), len(t)])"
   ]
  },
  {
   "cell_type": "code",
   "execution_count": 6,
   "id": "8f71e820-87cb-4aa0-be06-2c64afb1b79e",
   "metadata": {},
   "outputs": [
    {
     "name": "stdout",
     "output_type": "stream",
     "text": [
      "0.2\n"
     ]
    }
   ],
   "source": [
    "test_schema = 'small_bank_1'\n",
    "s, t = tableMapper.get_filtered_schema(test_schema)\n",
    "\n",
    "count_match, count_all = tableMapper.get_exact_match_accuracy(s, t)\n",
    "print(count_match / count_all)\n",
    "# print(tableMapper.get_exact_match_accuracy(t, s, verbosity=1))"
   ]
  },
  {
   "cell_type": "code",
   "execution_count": 5,
   "id": "f9afcc4a-de17-4da3-a857-930a60b3220a",
   "metadata": {},
   "outputs": [
    {
     "name": "stdout",
     "output_type": "stream",
     "text": [
      "0.6289301004020899\n",
      "0.5380485286525555\n"
     ]
    },
    {
     "data": {
      "text/html": [
       "<div>\n",
       "<style scoped>\n",
       "    .dataframe tbody tr th:only-of-type {\n",
       "        vertical-align: middle;\n",
       "    }\n",
       "\n",
       "    .dataframe tbody tr th {\n",
       "        vertical-align: top;\n",
       "    }\n",
       "\n",
       "    .dataframe thead th {\n",
       "        text-align: right;\n",
       "    }\n",
       "</style>\n",
       "<table border=\"1\" class=\"dataframe\">\n",
       "  <thead>\n",
       "    <tr style=\"text-align: right;\">\n",
       "      <th></th>\n",
       "      <th>schema_id</th>\n",
       "      <th>score</th>\n",
       "      <th>num_tables</th>\n",
       "      <th>num_queries</th>\n",
       "    </tr>\n",
       "  </thead>\n",
       "  <tbody>\n",
       "    <tr>\n",
       "      <th>0</th>\n",
       "      <td>scholar</td>\n",
       "      <td>0.014060</td>\n",
       "      <td>10</td>\n",
       "      <td>569</td>\n",
       "    </tr>\n",
       "    <tr>\n",
       "      <th>1</th>\n",
       "      <td>yelp</td>\n",
       "      <td>0.144144</td>\n",
       "      <td>7</td>\n",
       "      <td>111</td>\n",
       "    </tr>\n",
       "    <tr>\n",
       "      <th>2</th>\n",
       "      <td>restaurants</td>\n",
       "      <td>0.152000</td>\n",
       "      <td>3</td>\n",
       "      <td>125</td>\n",
       "    </tr>\n",
       "    <tr>\n",
       "      <th>3</th>\n",
       "      <td>academic</td>\n",
       "      <td>0.171271</td>\n",
       "      <td>15</td>\n",
       "      <td>181</td>\n",
       "    </tr>\n",
       "    <tr>\n",
       "      <th>4</th>\n",
       "      <td>small_bank_1</td>\n",
       "      <td>0.200000</td>\n",
       "      <td>3</td>\n",
       "      <td>50</td>\n",
       "    </tr>\n",
       "    <tr>\n",
       "      <th>5</th>\n",
       "      <td>hospital_1</td>\n",
       "      <td>0.220000</td>\n",
       "      <td>15</td>\n",
       "      <td>100</td>\n",
       "    </tr>\n",
       "    <tr>\n",
       "      <th>6</th>\n",
       "      <td>local_govt_and_lot</td>\n",
       "      <td>0.235294</td>\n",
       "      <td>11</td>\n",
       "      <td>17</td>\n",
       "    </tr>\n",
       "    <tr>\n",
       "      <th>7</th>\n",
       "      <td>student_assessment</td>\n",
       "      <td>0.245283</td>\n",
       "      <td>9</td>\n",
       "      <td>53</td>\n",
       "    </tr>\n",
       "    <tr>\n",
       "      <th>8</th>\n",
       "      <td>imdb</td>\n",
       "      <td>0.247706</td>\n",
       "      <td>16</td>\n",
       "      <td>109</td>\n",
       "    </tr>\n",
       "    <tr>\n",
       "      <th>9</th>\n",
       "      <td>real_estate_properties</td>\n",
       "      <td>0.250000</td>\n",
       "      <td>5</td>\n",
       "      <td>4</td>\n",
       "    </tr>\n",
       "  </tbody>\n",
       "</table>\n",
       "</div>"
      ],
      "text/plain": [
       "                schema_id     score  num_tables  num_queries\n",
       "0                 scholar  0.014060          10          569\n",
       "1                    yelp  0.144144           7          111\n",
       "2             restaurants  0.152000           3          125\n",
       "3                academic  0.171271          15          181\n",
       "4            small_bank_1  0.200000           3           50\n",
       "5              hospital_1  0.220000          15          100\n",
       "6      local_govt_and_lot  0.235294          11           17\n",
       "7      student_assessment  0.245283           9           53\n",
       "8                    imdb  0.247706          16          109\n",
       "9  real_estate_properties  0.250000           5            4"
      ]
     },
     "metadata": {},
     "output_type": "display_data"
    },
    {
     "data": {
      "text/plain": [
       "<AxesSubplot:>"
      ]
     },
     "execution_count": 5,
     "metadata": {},
     "output_type": "execute_result"
    },
    {
     "data": {
      "image/png": "[encoded data removed]",
      "text/plain": [
       "<Figure size 640x480 with 1 Axes>"
      ]
     },
     "metadata": {},
     "output_type": "display_data"
    }
   ],
   "source": [
    "score_df = pd.DataFrame(res, columns = ['schema_id', 'score', 'num_tables', 'num_queries']).sort_values(by = 'score').reset_index(drop = True)\n",
    "print(score_df.score.mean())\n",
    "print(count1 / count2)\n",
    "display(score_df.head(10))\n",
    "score_df.score.plot()"
   ]
  },
  {
   "cell_type": "code",
   "execution_count": 6,
   "id": "07cc9f4e-6e34-432c-80b3-f5aa3249532a",
   "metadata": {},
   "outputs": [
    {
     "name": "stdout",
     "output_type": "stream",
     "text": [
      "5216\n",
      "9685\n"
     ]
    }
   ],
   "source": [
    "print(count1)\n",
    "print(count2)\n",
    "\n",
    "# 5194\n",
    "# 9685\n",
    "\n",
    "# 5223\n",
    "# 9685"
   ]
  }
 ],
 "metadata": {
  "environment": {
   "kernel": "python3",
   "name": "common-cpu.m107",
   "type": "gcloud",
   "uri": "gcr.io/deeplearning-platform-release/base-cpu:m107"
  },
  "kernelspec": {
   "display_name": "Python 3",
   "language": "python",
   "name": "python3"
  },
  "language_info": {
   "codemirror_mode": {
    "name": "ipython",
    "version": 3
   },
   "file_extension": ".py",
   "mimetype": "text/x-python",
   "name": "python",
   "nbconvert_exporter": "python",
   "pygments_lexer": "ipython3",
   "version": "3.7.12"
  }
 },
 "nbformat": 4,
 "nbformat_minor": 5
}
