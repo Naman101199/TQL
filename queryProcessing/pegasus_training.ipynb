{
 "cells": [
  {
   "cell_type": "code",
   "execution_count": 1,
   "id": "288c469b-c465-488e-a620-302e88d6fd61",
   "metadata": {},
   "outputs": [],
   "source": [
    "from transformers import Seq2SeqTrainingArguments, Seq2SeqTrainer, AutoModel, AutoTokenizer\n",
    "from transformers import T5Tokenizer, T5ForConditionalGeneration\n",
    "\n",
    "import evaluate\n",
    "import numpy as np\n",
    "import pandas as pd\n",
    "from datasets import Dataset, load_dataset\n",
    "from transformers import DataCollatorForSeq2Seq\n",
    "import evaluate"
   ]
  },
  {
   "cell_type": "code",
   "execution_count": 2,
   "id": "40a6cece-a99d-4cb5-b17e-cf386bcb95ae",
   "metadata": {},
   "outputs": [
    {
     "data": {
      "application/vnd.jupyter.widget-view+json": {
       "model_id": "25bd10e8ded543c3b12ce16fb7faf1d9",
       "version_major": 2,
       "version_minor": 0
      },
      "text/plain": [
       "VBox(children=(HTML(value='<center> <img\\nsrc=https://huggingface.co/front/assets/huggingface_logo-noborder.sv…"
      ]
     },
     "metadata": {},
     "output_type": "display_data"
    }
   ],
   "source": [
    "from huggingface_hub import notebook_login\n",
    "notebook_login()"
   ]
  },
  {
   "cell_type": "code",
   "execution_count": 3,
   "id": "600296aa-f6e2-48c5-b0b1-2be926ab1f57",
   "metadata": {},
   "outputs": [],
   "source": [
    "import pandas as pd"
   ]
  },
  {
   "cell_type": "code",
   "execution_count": 4,
   "id": "af1ae048-d47f-4dd7-8559-55f42f524df6",
   "metadata": {},
   "outputs": [],
   "source": [
    "df_t = pd.read_csv('spider_processed_Schemas_tablesSchemaSpider.csv')[['schema_id', 'table_name_original']]\n",
    "df_q = pd.read_csv('spider_processed_spiderQueryData.csv')[['db_id', 'TQL', 'SQL']]"
   ]
  },
  {
   "cell_type": "code",
   "execution_count": 5,
   "id": "1b0ec329-b837-4023-bb3d-24cc6b171975",
   "metadata": {},
   "outputs": [
    {
     "data": {
      "text/html": [
       "<div>\n",
       "<style scoped>\n",
       "    .dataframe tbody tr th:only-of-type {\n",
       "        vertical-align: middle;\n",
       "    }\n",
       "\n",
       "    .dataframe tbody tr th {\n",
       "        vertical-align: top;\n",
       "    }\n",
       "\n",
       "    .dataframe thead th {\n",
       "        text-align: right;\n",
       "    }\n",
       "</style>\n",
       "<table border=\"1\" class=\"dataframe\">\n",
       "  <thead>\n",
       "    <tr style=\"text-align: right;\">\n",
       "      <th></th>\n",
       "      <th>db_id</th>\n",
       "      <th>TQL</th>\n",
       "      <th>SQL</th>\n",
       "    </tr>\n",
       "  </thead>\n",
       "  <tbody>\n",
       "    <tr>\n",
       "      <th>0</th>\n",
       "      <td>department_management</td>\n",
       "      <td>How many heads of the departments are older th...</td>\n",
       "      <td>SELECT count(*) FROM head WHERE age  &gt;  56</td>\n",
       "    </tr>\n",
       "    <tr>\n",
       "      <th>1</th>\n",
       "      <td>department_management</td>\n",
       "      <td>List the name, born state and age of the heads...</td>\n",
       "      <td>SELECT name ,  born_state ,  age FROM head ORD...</td>\n",
       "    </tr>\n",
       "    <tr>\n",
       "      <th>2</th>\n",
       "      <td>department_management</td>\n",
       "      <td>List the creation year, name and budget of eac...</td>\n",
       "      <td>SELECT creation ,  name ,  budget_in_billions ...</td>\n",
       "    </tr>\n",
       "    <tr>\n",
       "      <th>3</th>\n",
       "      <td>department_management</td>\n",
       "      <td>What are the maximum and minimum budget of the...</td>\n",
       "      <td>SELECT max(budget_in_billions) ,  min(budget_i...</td>\n",
       "    </tr>\n",
       "    <tr>\n",
       "      <th>4</th>\n",
       "      <td>department_management</td>\n",
       "      <td>What is the average number of employees of the...</td>\n",
       "      <td>SELECT avg(num_employees) FROM department WHER...</td>\n",
       "    </tr>\n",
       "    <tr>\n",
       "      <th>...</th>\n",
       "      <td>...</td>\n",
       "      <td>...</td>\n",
       "      <td>...</td>\n",
       "    </tr>\n",
       "    <tr>\n",
       "      <th>10224</th>\n",
       "      <td>GreaterManchesterCrime</td>\n",
       "      <td>Where is the place with the largest number of ...</td>\n",
       "      <td>SELECT Location FROM GreaterManchesterCrime WH...</td>\n",
       "    </tr>\n",
       "    <tr>\n",
       "      <th>10225</th>\n",
       "      <td>GreaterManchesterCrime</td>\n",
       "      <td>If it is possible to increase the number of po...</td>\n",
       "      <td>SELECT Location FROM GreaterManchesterCrime GR...</td>\n",
       "    </tr>\n",
       "    <tr>\n",
       "      <th>10226</th>\n",
       "      <td>GreaterManchesterCrime</td>\n",
       "      <td>Which type of crime has the most prosecution c...</td>\n",
       "      <td>SELECT Type FROM GreaterManchesterCrime WHERE ...</td>\n",
       "    </tr>\n",
       "    <tr>\n",
       "      <th>10227</th>\n",
       "      <td>GreaterManchesterCrime</td>\n",
       "      <td>Which type of crime has the most investigation...</td>\n",
       "      <td>SELECT Type FROM GreaterManchesterCrime WHERE ...</td>\n",
       "    </tr>\n",
       "    <tr>\n",
       "      <th>10228</th>\n",
       "      <td>GreaterManchesterCrime</td>\n",
       "      <td>What is the result in case 6B:E2:54:C6:58:D2?</td>\n",
       "      <td>SELECT Outcome FROM GreaterManchesterCrime WHE...</td>\n",
       "    </tr>\n",
       "  </tbody>\n",
       "</table>\n",
       "<p>10229 rows × 3 columns</p>\n",
       "</div>"
      ],
      "text/plain": [
       "                        db_id  \\\n",
       "0       department_management   \n",
       "1       department_management   \n",
       "2       department_management   \n",
       "3       department_management   \n",
       "4       department_management   \n",
       "...                       ...   \n",
       "10224  GreaterManchesterCrime   \n",
       "10225  GreaterManchesterCrime   \n",
       "10226  GreaterManchesterCrime   \n",
       "10227  GreaterManchesterCrime   \n",
       "10228  GreaterManchesterCrime   \n",
       "\n",
       "                                                     TQL  \\\n",
       "0      How many heads of the departments are older th...   \n",
       "1      List the name, born state and age of the heads...   \n",
       "2      List the creation year, name and budget of eac...   \n",
       "3      What are the maximum and minimum budget of the...   \n",
       "4      What is the average number of employees of the...   \n",
       "...                                                  ...   \n",
       "10224  Where is the place with the largest number of ...   \n",
       "10225  If it is possible to increase the number of po...   \n",
       "10226  Which type of crime has the most prosecution c...   \n",
       "10227  Which type of crime has the most investigation...   \n",
       "10228      What is the result in case 6B:E2:54:C6:58:D2?   \n",
       "\n",
       "                                                     SQL  \n",
       "0             SELECT count(*) FROM head WHERE age  >  56  \n",
       "1      SELECT name ,  born_state ,  age FROM head ORD...  \n",
       "2      SELECT creation ,  name ,  budget_in_billions ...  \n",
       "3      SELECT max(budget_in_billions) ,  min(budget_i...  \n",
       "4      SELECT avg(num_employees) FROM department WHER...  \n",
       "...                                                  ...  \n",
       "10224  SELECT Location FROM GreaterManchesterCrime WH...  \n",
       "10225  SELECT Location FROM GreaterManchesterCrime GR...  \n",
       "10226  SELECT Type FROM GreaterManchesterCrime WHERE ...  \n",
       "10227  SELECT Type FROM GreaterManchesterCrime WHERE ...  \n",
       "10228  SELECT Outcome FROM GreaterManchesterCrime WHE...  \n",
       "\n",
       "[10229 rows x 3 columns]"
      ]
     },
     "execution_count": 5,
     "metadata": {},
     "output_type": "execute_result"
    }
   ],
   "source": [
    "df_q"
   ]
  },
  {
   "cell_type": "code",
   "execution_count": 6,
   "id": "9edaefef-4796-4720-ba36-2fc6f8cccaa2",
   "metadata": {},
   "outputs": [
    {
     "data": {
      "text/plain": [
       "schema_id\n",
       "GeoNuclearData                                       [nuclear_power_plants]\n",
       "GreaterManchesterCrime                             [GreaterManchesterCrime]\n",
       "Pesticide                                     [sampledata15, resultsdata15]\n",
       "StudentMathScore          [FINREV_FED_17, NDECoreExcel_Math_Grade8, FINR...\n",
       "TheHistoryofBaseball      [hall_of_fame, player_award, player_award_vote...\n",
       "                                                ...                        \n",
       "workshop_paper                           [workshop, submission, Acceptance]\n",
       "world_1                   [city, sqlite_sequence, country, countrylanguage]\n",
       "wrestler                                            [wrestler, Elimination]\n",
       "wta_1                                          [players, matches, rankings]\n",
       "yelp                      [business, category, user, checkin, neighbourh...\n",
       "Name: table_name_original, Length: 174, dtype: object"
      ]
     },
     "execution_count": 6,
     "metadata": {},
     "output_type": "execute_result"
    }
   ],
   "source": [
    "df_t.groupby('schema_id')['table_name_original'].apply(list)"
   ]
  },
  {
   "cell_type": "code",
   "execution_count": 7,
   "id": "6f9f2e4c-e5cd-41d9-b8be-e9ba68d167cb",
   "metadata": {},
   "outputs": [
    {
     "data": {
      "text/html": [
       "<div>\n",
       "<style scoped>\n",
       "    .dataframe tbody tr th:only-of-type {\n",
       "        vertical-align: middle;\n",
       "    }\n",
       "\n",
       "    .dataframe tbody tr th {\n",
       "        vertical-align: top;\n",
       "    }\n",
       "\n",
       "    .dataframe thead th {\n",
       "        text-align: right;\n",
       "    }\n",
       "</style>\n",
       "<table border=\"1\" class=\"dataframe\">\n",
       "  <thead>\n",
       "    <tr style=\"text-align: right;\">\n",
       "      <th></th>\n",
       "      <th>db_id</th>\n",
       "      <th>TQL</th>\n",
       "      <th>SQL</th>\n",
       "      <th>table_name_original</th>\n",
       "    </tr>\n",
       "  </thead>\n",
       "  <tbody>\n",
       "    <tr>\n",
       "      <th>0</th>\n",
       "      <td>department_management</td>\n",
       "      <td>How many heads of the departments are older th...</td>\n",
       "      <td>SELECT count(*) FROM head WHERE age  &gt;  56</td>\n",
       "      <td>[department, head, management]</td>\n",
       "    </tr>\n",
       "    <tr>\n",
       "      <th>1</th>\n",
       "      <td>department_management</td>\n",
       "      <td>List the name, born state and age of the heads...</td>\n",
       "      <td>SELECT name ,  born_state ,  age FROM head ORD...</td>\n",
       "      <td>[department, head, management]</td>\n",
       "    </tr>\n",
       "    <tr>\n",
       "      <th>2</th>\n",
       "      <td>department_management</td>\n",
       "      <td>List the creation year, name and budget of eac...</td>\n",
       "      <td>SELECT creation ,  name ,  budget_in_billions ...</td>\n",
       "      <td>[department, head, management]</td>\n",
       "    </tr>\n",
       "    <tr>\n",
       "      <th>3</th>\n",
       "      <td>department_management</td>\n",
       "      <td>What are the maximum and minimum budget of the...</td>\n",
       "      <td>SELECT max(budget_in_billions) ,  min(budget_i...</td>\n",
       "      <td>[department, head, management]</td>\n",
       "    </tr>\n",
       "    <tr>\n",
       "      <th>4</th>\n",
       "      <td>department_management</td>\n",
       "      <td>What is the average number of employees of the...</td>\n",
       "      <td>SELECT avg(num_employees) FROM department WHER...</td>\n",
       "      <td>[department, head, management]</td>\n",
       "    </tr>\n",
       "  </tbody>\n",
       "</table>\n",
       "</div>"
      ],
      "text/plain": [
       "                   db_id                                                TQL  \\\n",
       "0  department_management  How many heads of the departments are older th...   \n",
       "1  department_management  List the name, born state and age of the heads...   \n",
       "2  department_management  List the creation year, name and budget of eac...   \n",
       "3  department_management  What are the maximum and minimum budget of the...   \n",
       "4  department_management  What is the average number of employees of the...   \n",
       "\n",
       "                                                 SQL  \\\n",
       "0         SELECT count(*) FROM head WHERE age  >  56   \n",
       "1  SELECT name ,  born_state ,  age FROM head ORD...   \n",
       "2  SELECT creation ,  name ,  budget_in_billions ...   \n",
       "3  SELECT max(budget_in_billions) ,  min(budget_i...   \n",
       "4  SELECT avg(num_employees) FROM department WHER...   \n",
       "\n",
       "              table_name_original  \n",
       "0  [department, head, management]  \n",
       "1  [department, head, management]  \n",
       "2  [department, head, management]  \n",
       "3  [department, head, management]  \n",
       "4  [department, head, management]  "
      ]
     },
     "execution_count": 7,
     "metadata": {},
     "output_type": "execute_result"
    }
   ],
   "source": [
    "df_tq = df_q.merge(\n",
    "    df_t.groupby('schema_id')['table_name_original'].apply(list),\n",
    "    how = 'left',\n",
    "    left_on = 'db_id', right_on = 'schema_id'\n",
    ")\n",
    "df_tq.head()"
   ]
  },
  {
   "cell_type": "code",
   "execution_count": 8,
   "id": "a07cee30-67f9-4a5c-98fb-b6df04a5386a",
   "metadata": {},
   "outputs": [
    {
     "name": "stdout",
     "output_type": "stream",
     "text": [
      "INFO: Pandarallel will run on 7 workers.\n",
      "INFO: Pandarallel will use Memory file system to transfer data between the main process and workers.\n"
     ]
    }
   ],
   "source": [
    "from pandarallel import pandarallel\n",
    "pandarallel.initialize(progress_bar=True, nb_workers = 7)"
   ]
  },
  {
   "cell_type": "code",
   "execution_count": 9,
   "id": "45589609-d19a-45ed-bf8e-a07b02604bdb",
   "metadata": {},
   "outputs": [],
   "source": [
    "def get_tables(query, table_name_original):\n",
    "    import re\n",
    "    import nltk\n",
    "    from nltk.corpus import stopwords\n",
    "    sql_tokens = [token for token in re.sub('[^a-zA-Z_ ]', '', query).lower().split()\n",
    "                              if ((token not in set(stopwords.words('english'))) and len(token) > 2)]\n",
    "    actual_list = []\n",
    "    for token in sql_tokens:\n",
    "        for table_name in table_name_original:\n",
    "            if token == table_name.lower():\n",
    "                actual_list.append(token.lower())\n",
    "                \n",
    "    return ' '.join(list(set(actual_list)))"
   ]
  },
  {
   "cell_type": "code",
   "execution_count": 10,
   "id": "68286492-ff5e-4196-86f8-a40e2e32d06a",
   "metadata": {},
   "outputs": [
    {
     "data": {
      "application/vnd.jupyter.widget-view+json": {
       "model_id": "d18027d7fc1a4ceca344d69f63c24949",
       "version_major": 2,
       "version_minor": 0
      },
      "text/plain": [
       "VBox(children=(HBox(children=(IntProgress(value=0, description='0.00%', max=1462), Label(value='0 / 1462'))), …"
      ]
     },
     "metadata": {},
     "output_type": "display_data"
    }
   ],
   "source": [
    "df_tq['table_names'] = df_tq.parallel_apply(\n",
    "    lambda x: get_tables(x['SQL'], x['table_name_original']),\n",
    "    axis = 1\n",
    ")"
   ]
  },
  {
   "cell_type": "code",
   "execution_count": 11,
   "id": "07a1795e-89db-4979-8137-33e23e7c463d",
   "metadata": {},
   "outputs": [],
   "source": [
    "df_sum1 = df_tq[['TQL', 'table_names']]"
   ]
  },
  {
   "cell_type": "code",
   "execution_count": 12,
   "id": "10d1015d-e941-40df-8c5a-e2ef3468792c",
   "metadata": {},
   "outputs": [],
   "source": [
    "df_dataset = Dataset.from_pandas(df_sum1.head(10))"
   ]
  },
  {
   "cell_type": "code",
   "execution_count": 13,
   "id": "a34e2281-5832-457e-9593-45691745f74b",
   "metadata": {},
   "outputs": [],
   "source": [
    "billsum = df_dataset.train_test_split(test_size=0.2)"
   ]
  },
  {
   "cell_type": "code",
   "execution_count": 14,
   "id": "863da459-fe76-4ba5-bd98-f97fb91f9bc2",
   "metadata": {},
   "outputs": [
    {
     "data": {
      "text/plain": [
       "{'TQL': 'How many heads of the departments are older than 56 ?',\n",
       " 'table_names': 'head',\n",
       " '__index_level_0__': 0}"
      ]
     },
     "execution_count": 14,
     "metadata": {},
     "output_type": "execute_result"
    }
   ],
   "source": [
    "billsum['test'][0]"
   ]
  },
  {
   "cell_type": "code",
   "execution_count": 15,
   "id": "e3ab29e8-ef6b-4c2a-95da-45a24aead1ee",
   "metadata": {},
   "outputs": [],
   "source": [
    "tokenizer = T5Tokenizer.from_pretrained(\"google/flan-t5-small\")\n",
    "model = T5ForConditionalGeneration.from_pretrained(\"google/flan-t5-small\")"
   ]
  },
  {
   "cell_type": "code",
   "execution_count": 17,
   "id": "2741f0a1-e351-4b90-97bb-6409fe87db5e",
   "metadata": {},
   "outputs": [],
   "source": [
    "# def preprocess_function(examples):\n",
    "#     inputs = examples[\"transcription\"]\n",
    "#     model_inputs = tokenizer(inputs, truncation=True, padding=\"longest\")\n",
    "\n",
    "#     labels = examples[\"summary\"]\n",
    "#     model_inputs[\"labels\"] = tokenizer(labels, truncation=True, padding=\"longest\").input_ids\n",
    "#     return model_inputs\n",
    "\n",
    "def preprocess_function(examples):\n",
    "    inputs = [str(text) for text in examples[\"TQL\"]]\n",
    "    model_inputs = tokenizer(inputs, truncation=True, padding=False)\n",
    "\n",
    "    labels = [str(summary) for summary in examples[\"table_names\"]]\n",
    "    model_inputs[\"labels\"] = tokenizer(labels, truncation=True, padding=False).input_ids\n",
    "    return model_inputs"
   ]
  },
  {
   "cell_type": "code",
   "execution_count": 18,
   "id": "70cc3c25-16e0-43c5-a688-99839c779687",
   "metadata": {},
   "outputs": [
    {
     "data": {
      "application/vnd.jupyter.widget-view+json": {
       "model_id": "",
       "version_major": 2,
       "version_minor": 0
      },
      "text/plain": [
       "Map:   0%|          | 0/8 [00:00<?, ? examples/s]"
      ]
     },
     "metadata": {},
     "output_type": "display_data"
    },
    {
     "data": {
      "application/vnd.jupyter.widget-view+json": {
       "model_id": "",
       "version_major": 2,
       "version_minor": 0
      },
      "text/plain": [
       "Map:   0%|          | 0/2 [00:00<?, ? examples/s]"
      ]
     },
     "metadata": {},
     "output_type": "display_data"
    }
   ],
   "source": [
    "tokenized_billsum = billsum.map(preprocess_function, batched=True)"
   ]
  },
  {
   "cell_type": "code",
   "execution_count": 19,
   "id": "be28d9e8-0dae-4804-97d5-84d63f93dc57",
   "metadata": {},
   "outputs": [],
   "source": [
    "data_collator = DataCollatorForSeq2Seq(tokenizer=tokenizer, model=model)"
   ]
  },
  {
   "cell_type": "code",
   "execution_count": 20,
   "id": "186caa39-2b43-42e9-9d33-c9b536c1ac17",
   "metadata": {},
   "outputs": [],
   "source": [
    "rouge = evaluate.load(\"rouge\")"
   ]
  },
  {
   "cell_type": "code",
   "execution_count": 22,
   "id": "20c37920-963f-46bb-87d2-1d9d8529d74e",
   "metadata": {},
   "outputs": [],
   "source": [
    "# def compute_metrics(eval_pred):\n",
    "#     predictions, labels = eval_pred\n",
    "#     decoded_preds = tokenizer.batch_decode(predictions, skip_special_tokens=True)\n",
    "#     decoded_labels = tokenizer.batch_decode(labels, skip_special_tokens=True)\n",
    "\n",
    "#     result = rouge.compute(predictions=decoded_preds, references=decoded_labels, use_stemmer=True)\n",
    "\n",
    "#     prediction_lens = [np.count_nonzero(pred != tokenizer.pad_token_id) for pred in predictions]\n",
    "#     result[\"gen_len\"] = np.mean(prediction_lens)\n",
    "\n",
    "#     return {k: round(v.mid.fmeasure * 100, 4) for k, v in result.items()}\n",
    "\n",
    "def compute_metrics(eval_pred):\n",
    "    predictions, labels = eval_pred\n",
    "    decoded_preds = tokenizer.batch_decode(predictions, skip_special_tokens=True)\n",
    "    labels = np.where(labels != -100, labels, tokenizer.pad_token_id)\n",
    "    decoded_labels = tokenizer.batch_decode(labels, skip_special_tokens=True)\n",
    "\n",
    "    result = rouge.compute(predictions=decoded_preds, references=decoded_labels, use_stemmer=True)\n",
    "\n",
    "    prediction_lens = [np.count_nonzero(pred != tokenizer.pad_token_id) for pred in predictions]\n",
    "    result[\"gen_len\"] = np.mean(prediction_lens)\n",
    "\n",
    "    return {k: round(v, 4) for k, v in result.items()}"
   ]
  },
  {
   "cell_type": "code",
   "execution_count": 24,
   "id": "9474eceb-fa45-40ac-9b8d-4e508cbe28bf",
   "metadata": {},
   "outputs": [],
   "source": [
    "training_args = Seq2SeqTrainingArguments(\n",
    "    output_dir=\"PegasusMedicalSummary\",\n",
    "    evaluation_strategy=\"epoch\",\n",
    "    learning_rate=2e-5,\n",
    "    per_device_train_batch_size=1,\n",
    "    per_device_eval_batch_size=1,\n",
    "    weight_decay=0.01,\n",
    "    save_total_limit=3,\n",
    "    num_train_epochs=1,\n",
    "    predict_with_generate=True,\n",
    "    push_to_hub=True,\n",
    "    gradient_accumulation_steps=4,\n",
    ")"
   ]
  },
  {
   "cell_type": "code",
   "execution_count": 25,
   "id": "b34b2759-25a9-413c-9ba2-364c8a60c0c4",
   "metadata": {},
   "outputs": [
    {
     "name": "stderr",
     "output_type": "stream",
     "text": [
      "/home/jupyter/TQL/queryProcessing/PegasusMedicalSummary is already a clone of https://huggingface.co/jasmeeetsingh/PegasusMedicalSummary. Make sure you pull the latest changes with `repo.git_pull()`.\n",
      "WARNING:huggingface_hub.repository:/home/jupyter/TQL/queryProcessing/PegasusMedicalSummary is already a clone of https://huggingface.co/jasmeeetsingh/PegasusMedicalSummary. Make sure you pull the latest changes with `repo.git_pull()`.\n"
     ]
    }
   ],
   "source": [
    "trainer = Seq2SeqTrainer(\n",
    "    model=model,\n",
    "    args=training_args,\n",
    "    train_dataset=tokenized_billsum[\"train\"],\n",
    "    eval_dataset=tokenized_billsum[\"test\"],\n",
    "    tokenizer=tokenizer,\n",
    "    data_collator=data_collator,\n",
    "    compute_metrics=compute_metrics,\n",
    ")"
   ]
  },
  {
   "cell_type": "code",
   "execution_count": null,
   "id": "388d1c0b-5d11-4f3a-927c-68d8a7f242c9",
   "metadata": {},
   "outputs": [
    {
     "name": "stderr",
     "output_type": "stream",
     "text": [
      "/opt/conda/lib/python3.7/site-packages/transformers/optimization.py:395: FutureWarning: This implementation of AdamW is deprecated and will be removed in a future version. Use the PyTorch implementation torch.optim.AdamW instead, or set `no_deprecation_warning=True` to disable this warning\n",
      "  FutureWarning,\n"
     ]
    }
   ],
   "source": [
    "# Start training\n",
    "trainer.train()"
   ]
  },
  {
   "cell_type": "code",
   "execution_count": null,
   "id": "38a4eed2-b02d-487b-b6e3-decad9ce4351",
   "metadata": {},
   "outputs": [],
   "source": [
    "# Push the trained model to the Hugging Face Model Hub\n",
    "trainer.push_to_hub()"
   ]
  },
  {
   "cell_type": "code",
   "execution_count": null,
   "id": "74a92d2d-54b8-4646-b75e-8827ef3ddd6a",
   "metadata": {},
   "outputs": [],
   "source": [
    "# Save the fine-tuned model\n",
    "model.save_pretrained(\"PegasusMedicalSummary\")"
   ]
  },
  {
   "cell_type": "code",
   "execution_count": null,
   "id": "9e5dbca8-d538-4ca3-9d46-a285d086270c",
   "metadata": {},
   "outputs": [],
   "source": [
    "from transformers import PegasusForConditionalGeneration, PegasusTokenizer, SummarizationPipeline\n",
    "\n",
    "model_name = \"jasmeeetSingh/PegasusMedicalSummary\"\n",
    "tokenizer = PegasusTokenizer.from_pretrained(model_name)\n",
    "model = PegasusForConditionalGeneration.from_pretrained(model_name)\n",
    "\n",
    "summarizer = SummarizationPipeline(model=model, tokenizer=tokenizer)"
   ]
  },
  {
   "cell_type": "code",
   "execution_count": null,
   "id": "57f7ec1f-fe83-4cc5-baea-8fb6288d6de0",
   "metadata": {},
   "outputs": [],
   "source": [
    "text = \"1.  The left ventricular cavity size and wall thickness appear normal.  The wall motion and left ventricular systolic function appears hyperdynamic with estimated ejection fraction of 70% to 75%.  There is near-cavity obliteration seen.  There also appears to be increased left ventricular outflow tract gradient at the mid cavity level consistent with hyperdynamic left ventricular systolic function.  There is abnormal left ventricular relaxation pattern seen as well as elevated left atrial pressures seen by Doppler examination.,2.  The left atrium appears mildly dilated.,3.  The right atrium and right ventricle appear normal.,4.  The aortic root appears normal.,5.  The aortic valve appears calcified with mild aortic valve stenosis, calculated aortic valve area is 1.3 cm square with a maximum instantaneous gradient of 34 and a mean gradient of 19 mm.,6.  There is mitral annular calcification extending to leaflets and supportive structures with thickening of mitral valve leaflets with mild mitral regurgitation.,7.  The tricuspid valve appears normal with trace tricuspid regurgitation with moderate pulmonary artery hypertension.  Estimated pulmonary artery systolic pressure is 49 mmHg.  Estimated right atrial pressure of 10 mmHg.,8.  The pulmonary valve appears normal with trace pulmonary insufficiency.,9.  There is no pericardial effusion or intracardiac mass seen.,10.  There is a color Doppler suggestive of a patent foramen ovale with lipomatous hypertrophy of the interatrial septum.,11.  The study was somewhat technically limited and hence subtle abnormalities could be missed from the study.,\"\n",
    "summary = summarizer(text)\n",
    "print(summary)"
   ]
  },
  {
   "cell_type": "code",
   "execution_count": null,
   "id": "e54f3c32-e1d7-4f4f-b46e-dc9ed52203da",
   "metadata": {},
   "outputs": [],
   "source": []
  }
 ],
 "metadata": {
  "environment": {
   "kernel": "python3",
   "name": "pytorch-gpu.1-13.m108",
   "type": "gcloud",
   "uri": "gcr.io/deeplearning-platform-release/pytorch-gpu.1-13:m108"
  },
  "kernelspec": {
   "display_name": "Python 3",
   "language": "python",
   "name": "python3"
  },
  "language_info": {
   "codemirror_mode": {
    "name": "ipython",
    "version": 3
   },
   "file_extension": ".py",
   "mimetype": "text/x-python",
   "name": "python",
   "nbconvert_exporter": "python",
   "pygments_lexer": "ipython3",
   "version": "3.7.12"
  }
 },
 "nbformat": 4,
 "nbformat_minor": 5
}
