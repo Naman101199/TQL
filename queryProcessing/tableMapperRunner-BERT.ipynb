{
 "cells": [
  {
   "cell_type": "code",
   "execution_count": 1,
   "id": "47b5c95c-7fea-4341-a37f-9207197e9682",
   "metadata": {},
   "outputs": [
    {
     "name": "stderr",
     "output_type": "stream",
     "text": [
      "/opt/conda/lib/python3.10/site-packages/fuzzywuzzy/fuzz.py:11: UserWarning: Using slow pure-python SequenceMatcher. Install python-Levenshtein to remove this warning\n",
      "  warnings.warn('Using slow pure-python SequenceMatcher. Install python-Levenshtein to remove this warning')\n",
      "[nltk_data] Downloading package stopwords to\n",
      "[nltk_data]     /home/jupyter/nltk_data...\n",
      "[nltk_data]   Package stopwords is already up-to-date!\n",
      "[nltk_data] Downloading package punkt to /home/jupyter/nltk_data...\n",
      "[nltk_data]   Package punkt is already up-to-date!\n"
     ]
    }
   ],
   "source": [
    "import sys\n",
    "sys.path.append('../utils/')\n",
    "from utils import *\n",
    "from TableMapperBERT import TableMapperBERT\n",
    "from tqdm.notebook import tqdm\n",
    "tqdm.pandas()"
   ]
  },
  {
   "cell_type": "code",
   "execution_count": 2,
   "id": "ac822b22-ca2b-42d5-8a8c-68240110d449",
   "metadata": {},
   "outputs": [
    {
     "name": "stderr",
     "output_type": "stream",
     "text": [
      "Some weights of the model checkpoint at bert-base-uncased were not used when initializing BertModel: ['cls.predictions.decoder.weight', 'cls.predictions.transform.LayerNorm.bias', 'cls.seq_relationship.weight', 'cls.predictions.bias', 'cls.seq_relationship.bias', 'cls.predictions.transform.LayerNorm.weight', 'cls.predictions.transform.dense.weight', 'cls.predictions.transform.dense.bias']\n",
      "- This IS expected if you are initializing BertModel from the checkpoint of a model trained on another task or with another architecture (e.g. initializing a BertForSequenceClassification model from a BertForPreTraining model).\n",
      "- This IS NOT expected if you are initializing BertModel from the checkpoint of a model that you expect to be exactly identical (initializing a BertForSequenceClassification model from a BertForSequenceClassification model).\n"
     ]
    }
   ],
   "source": [
    "query, schema = get_spider_schema_table_files()\n",
    "tableMapper = TableMapperBERT(query, schema)"
   ]
  },
  {
   "cell_type": "code",
   "execution_count": 3,
   "id": "e5a1eeba-d5fb-4ea1-8707-0e75ac124226",
   "metadata": {
    "tags": []
   },
   "outputs": [
    {
     "data": {
      "application/vnd.jupyter.widget-view+json": {
       "model_id": "e739f2bd2e854ab0af21a2a75dcadfd3",
       "version_major": 2,
       "version_minor": 0
      },
      "text/plain": [
       "  0%|          | 0/174 [00:00<?, ?it/s]"
      ]
     },
     "metadata": {},
     "output_type": "display_data"
    }
   ],
   "source": [
    "res = []\n",
    "count1 = 0\n",
    "count2 = 0\n",
    "for i in tqdm(list(set(schema.schema_id.values))):\n",
    "    s, t = tableMapper.get_filtered_schema(i)\n",
    "    count_match, count_all = tableMapper.get_exact_match_accuracy(s, t)\n",
    "\n",
    "    count1 += count_match\n",
    "    count2 += count_all\n",
    "\n",
    "    if(count1 == 0):\n",
    "        print(i)\n",
    "\n",
    "    res.append([i, count_match/count_all, len(s), len(t)])"
   ]
  },
  {
   "cell_type": "code",
   "execution_count": 4,
   "id": "8f71e820-87cb-4aa0-be06-2c64afb1b79e",
   "metadata": {
    "scrolled": true,
    "tags": []
   },
   "outputs": [
    {
     "name": "stdout",
     "output_type": "stream",
     "text": [
      "0.15976331360946747\n"
     ]
    }
   ],
   "source": [
    "test_schema = 'college_2'\n",
    "s, t = tableMapper.get_filtered_schema(test_schema)\n",
    "count_match, count_all = tableMapper.get_exact_match_accuracy(s, t, 0)\n",
    "print(count_match / count_all)"
   ]
  },
  {
   "cell_type": "code",
   "execution_count": 5,
   "id": "f9afcc4a-de17-4da3-a857-930a60b3220a",
   "metadata": {},
   "outputs": [
    {
     "name": "stdout",
     "output_type": "stream",
     "text": [
      "0.20449077759015888\n",
      "0.19933522338449505\n"
     ]
    },
    {
     "data": {
      "text/html": [
       "<div>\n",
       "<style scoped>\n",
       "    .dataframe tbody tr th:only-of-type {\n",
       "        vertical-align: middle;\n",
       "    }\n",
       "\n",
       "    .dataframe tbody tr th {\n",
       "        vertical-align: top;\n",
       "    }\n",
       "\n",
       "    .dataframe thead th {\n",
       "        text-align: right;\n",
       "    }\n",
       "</style>\n",
       "<table border=\"1\" class=\"dataframe\">\n",
       "  <thead>\n",
       "    <tr style=\"text-align: right;\">\n",
       "      <th></th>\n",
       "      <th>schema_id</th>\n",
       "      <th>score</th>\n",
       "      <th>num_tables</th>\n",
       "      <th>num_queries</th>\n",
       "    </tr>\n",
       "  </thead>\n",
       "  <tbody>\n",
       "    <tr>\n",
       "      <th>0</th>\n",
       "      <td>company_1</td>\n",
       "      <td>0.0</td>\n",
       "      <td>6</td>\n",
       "      <td>7</td>\n",
       "    </tr>\n",
       "    <tr>\n",
       "      <th>1</th>\n",
       "      <td>soccer_1</td>\n",
       "      <td>0.0</td>\n",
       "      <td>7</td>\n",
       "      <td>14</td>\n",
       "    </tr>\n",
       "    <tr>\n",
       "      <th>2</th>\n",
       "      <td>real_estate_properties</td>\n",
       "      <td>0.0</td>\n",
       "      <td>5</td>\n",
       "      <td>4</td>\n",
       "    </tr>\n",
       "    <tr>\n",
       "      <th>3</th>\n",
       "      <td>roller_coaster</td>\n",
       "      <td>0.0</td>\n",
       "      <td>2</td>\n",
       "      <td>17</td>\n",
       "    </tr>\n",
       "    <tr>\n",
       "      <th>4</th>\n",
       "      <td>baseball_1</td>\n",
       "      <td>0.0</td>\n",
       "      <td>26</td>\n",
       "      <td>82</td>\n",
       "    </tr>\n",
       "    <tr>\n",
       "      <th>5</th>\n",
       "      <td>restaurants</td>\n",
       "      <td>0.0</td>\n",
       "      <td>3</td>\n",
       "      <td>125</td>\n",
       "    </tr>\n",
       "    <tr>\n",
       "      <th>6</th>\n",
       "      <td>TheHistoryofBaseball</td>\n",
       "      <td>0.0</td>\n",
       "      <td>5</td>\n",
       "      <td>78</td>\n",
       "    </tr>\n",
       "    <tr>\n",
       "      <th>7</th>\n",
       "      <td>cre_Drama_Workshop_Groups</td>\n",
       "      <td>0.0</td>\n",
       "      <td>18</td>\n",
       "      <td>82</td>\n",
       "    </tr>\n",
       "    <tr>\n",
       "      <th>8</th>\n",
       "      <td>flight_4</td>\n",
       "      <td>0.0</td>\n",
       "      <td>3</td>\n",
       "      <td>82</td>\n",
       "    </tr>\n",
       "    <tr>\n",
       "      <th>9</th>\n",
       "      <td>local_govt_mdm</td>\n",
       "      <td>0.0</td>\n",
       "      <td>8</td>\n",
       "      <td>14</td>\n",
       "    </tr>\n",
       "  </tbody>\n",
       "</table>\n",
       "</div>"
      ],
      "text/plain": [
       "                   schema_id  score  num_tables  num_queries\n",
       "0                  company_1    0.0           6            7\n",
       "1                   soccer_1    0.0           7           14\n",
       "2     real_estate_properties    0.0           5            4\n",
       "3             roller_coaster    0.0           2           17\n",
       "4                 baseball_1    0.0          26           82\n",
       "5                restaurants    0.0           3          125\n",
       "6       TheHistoryofBaseball    0.0           5           78\n",
       "7  cre_Drama_Workshop_Groups    0.0          18           82\n",
       "8                   flight_4    0.0           3           82\n",
       "9             local_govt_mdm    0.0           8           14"
      ]
     },
     "metadata": {},
     "output_type": "display_data"
    },
    {
     "data": {
      "text/plain": [
       "<Axes: >"
      ]
     },
     "execution_count": 5,
     "metadata": {},
     "output_type": "execute_result"
    },
    {
     "data": {
      "image/png": "[encoded data removed]",
      "text/plain": [
       "<Figure size 640x480 with 1 Axes>"
      ]
     },
     "metadata": {},
     "output_type": "display_data"
    }
   ],
   "source": [
    "score_df = pd.DataFrame(res, columns=['schema_id', 'score', 'num_tables', 'num_queries']).sort_values(by='score').reset_index(drop=True)\n",
    "print(score_df.score.mean())\n",
    "print(count1 / count2)\n",
    "display(score_df.head(10))\n",
    "score_df.score.plot()"
   ]
  },
  {
   "cell_type": "code",
   "execution_count": 6,
   "id": "07cc9f4e-6e34-432c-80b3-f5aa3249532a",
   "metadata": {},
   "outputs": [
    {
     "name": "stdout",
     "output_type": "stream",
     "text": [
      "5557\n",
      "9685\n"
     ]
    }
   ],
   "source": [
    "print(count1)\n",
    "print(count2)\n",
    "\n",
    "# 5194\n",
    "# 9685\n",
    "\n",
    "# 5223\n",
    "# 9685"
   ]
  }
 ],
 "metadata": {
  "environment": {
   "kernel": "python3",
   "name": "common-cpu.m107",
   "type": "gcloud",
   "uri": "gcr.io/deeplearning-platform-release/base-cpu:m107"
  },
  "kernelspec": {
   "display_name": "Python 3",
   "language": "python",
   "name": "python3"
  },
  "language_info": {
   "codemirror_mode": {
    "name": "ipython",
    "version": 3
   },
   "file_extension": ".py",
   "mimetype": "text/x-python",
   "name": "python",
   "nbconvert_exporter": "python",
   "pygments_lexer": "ipython3",
   "version": "3.7.12"
  }
 },
 "nbformat": 4,
 "nbformat_minor": 5
}
