{
 "cells": [
  {
   "cell_type": "code",
   "execution_count": 1,
   "id": "caf71172-60af-40ab-9d88-6e25e71750a7",
   "metadata": {},
   "outputs": [],
   "source": [
    "from TQLRunner import TQLRunner"
   ]
  },
  {
   "cell_type": "markdown",
   "id": "fa5ad89d-eed5-4526-b9b5-8fbbdaea02c1",
   "metadata": {},
   "source": [
    "----------"
   ]
  },
  {
   "cell_type": "code",
   "execution_count": 2,
   "id": "349dfc11-d728-4c3c-9537-c331549aaf33",
   "metadata": {},
   "outputs": [
    {
     "name": "stdout",
     "output_type": "stream",
     "text": [
      "All libraries loaded\n",
      "LLM Model initialized\n"
     ]
    }
   ],
   "source": [
    "tqlRunner = TQLRunner('yelp')"
   ]
  },
  {
   "cell_type": "code",
   "execution_count": 3,
   "id": "fd53e13c-8c48-4103-ac3b-b3113af611a8",
   "metadata": {},
   "outputs": [
    {
     "data": {
      "text/plain": [
       "'SELECT count(*) FROM review'"
      ]
     },
     "execution_count": 3,
     "metadata": {},
     "output_type": "execute_result"
    }
   ],
   "source": [
    "input_text = 'How many reviews are there in the database'\n",
    "tqlRunner.get_SQL_query(input_text)"
   ]
  },
  {
   "cell_type": "code",
   "execution_count": 4,
   "id": "c2abb6e8-0a3b-46bb-8ae3-908d916551e8",
   "metadata": {},
   "outputs": [
    {
     "data": {
      "text/plain": [
       "'SELECT COUNT ( DISTINCT name ) FROM business WHERE name = \"Vegas\";'"
      ]
     },
     "execution_count": 4,
     "metadata": {},
     "output_type": "execute_result"
    }
   ],
   "source": [
    "input_text = 'How many businesses are there in \"Vegas\"'\n",
    "tqlRunner.get_SQL_query(input_text)"
   ]
  },
  {
   "cell_type": "markdown",
   "id": "60c7bb78-9c78-4926-ac7b-d3481f62d698",
   "metadata": {},
   "source": [
    "--------"
   ]
  },
  {
   "cell_type": "code",
   "execution_count": 5,
   "id": "7a835b7f-333e-4662-a6ee-c74a00c0bea4",
   "metadata": {},
   "outputs": [
    {
     "name": "stdout",
     "output_type": "stream",
     "text": [
      "All libraries loaded\n",
      "LLM Model initialized\n"
     ]
    }
   ],
   "source": [
    "tqlRunner = TQLRunner('college_2')"
   ]
  },
  {
   "cell_type": "code",
   "execution_count": 6,
   "id": "df1d7927-5da2-43da-bda7-ba8fbf4242c7",
   "metadata": {},
   "outputs": [
    {
     "data": {
      "text/plain": [
       "'SELECT dept_name, building FROM department WHERE budget > (SELECT avg(budget) FROM department)'"
      ]
     },
     "execution_count": 6,
     "metadata": {},
     "output_type": "execute_result"
    }
   ],
   "source": [
    "input_text = 'What is the name and building of the departments whose budget is more than the average budget?'\n",
    "tqlRunner.get_SQL_query(input_text)"
   ]
  },
  {
   "cell_type": "code",
   "execution_count": 7,
   "id": "9160136d-1a48-40de-b244-5c5731ef15b9",
   "metadata": {},
   "outputs": [
    {
     "data": {
      "text/plain": [
       "'SELECT T1.name FROM takes AS T1 JOIN Students AS T2 ON T1.student_id = T2.id WHERE T2.course_id IN (SELECT T1.course_id FROM prereq AS T1 JOIN takes AS T2 ON T1.course_id = T2.course_id WHERE T2.course_id = \"International Finance\")'"
      ]
     },
     "execution_count": 7,
     "metadata": {},
     "output_type": "execute_result"
    }
   ],
   "source": [
    "input_text = 'What are the names of students who have taken the prerequisite for the course \"International Finance\"?'\n",
    "tqlRunner.get_SQL_query(input_text)"
   ]
  }
 ],
 "metadata": {
  "environment": {
   "kernel": "python3",
   "name": "pytorch-gpu.1-13.m108",
   "type": "gcloud",
   "uri": "gcr.io/deeplearning-platform-release/pytorch-gpu.1-13:m108"
  },
  "kernelspec": {
   "display_name": "Python 3",
   "language": "python",
   "name": "python3"
  },
  "language_info": {
   "codemirror_mode": {
    "name": "ipython",
    "version": 3
   },
   "file_extension": ".py",
   "mimetype": "text/x-python",
   "name": "python",
   "nbconvert_exporter": "python",
   "pygments_lexer": "ipython3",
   "version": "3.9.6"
  }
 },
 "nbformat": 4,
 "nbformat_minor": 5
}
