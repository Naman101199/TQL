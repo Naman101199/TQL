{
 "cells": [
  {
   "cell_type": "code",
   "execution_count": 81,
   "id": "8ed3a785-4ebc-4b7e-8ec3-bf2bba3a3860",
   "metadata": {},
   "outputs": [],
   "source": [
    "from textwrap import dedent"
   ]
  },
  {
   "cell_type": "code",
   "execution_count": 103,
   "id": "caf71172-60af-40ab-9d88-6e25e71750a7",
   "metadata": {},
   "outputs": [],
   "source": [
    "import sys\n",
    "sys.path.append('../utils/')\n",
    "sys.path.append('../queryProcessing/')\n",
    "\n",
    "from utils import *\n",
    "from TableMapper import TableMapper\n",
    "\n",
    "from tqdm.notebook import tqdm\n",
    "tqdm.pandas()\n",
    "\n",
    "from transformers import T5Tokenizer, T5ForConditionalGeneration\n",
    "import torch\n",
    "from torch.utils.data import Dataset, DataLoader\n",
    "from torch.utils.tensorboard import SummaryWriter\n",
    "\n",
    "class TQLRunner():\n",
    "\n",
    "    def __init__(self, schema_id):\n",
    "\n",
    "        if(schema_id is None):\n",
    "            raise Exception(\"Schema ID is needed\")\n",
    "\n",
    "        self.query, self.schema = get_spider_schema_table_files()\n",
    "        self.tableMapper = TableMapper(self.query, self.schema)\n",
    "\n",
    "        self.s, self.t = self.tableMapper.get_filtered_schema(schema_id)\n",
    "\n",
    "        print('All libraries loaded')\n",
    "\n",
    "        # self.device = torch.device('cuda' if torch.cuda.is_available() else 'cpu')\n",
    "        # self.tokenizer = T5Tokenizer.from_pretrained('t5-small')\n",
    "        # self.model = T5ForConditionalGeneration.from_pretrained(\"/home/jupyter/model\")\n",
    "        # self.model.to(self.device)\n",
    "\n",
    "        print('LLM Model initialized')\n",
    "\n",
    "\n",
    "    def create_schema_natural_language(self, row):\n",
    "\n",
    "        schema_id = row['schema_id']\n",
    "        table_name = row['table_name']\n",
    "        primary_key = row['primary_key']\n",
    "        column_list = eval(row['column_list_original'])\n",
    "        datatype_list = eval(row['column_datatypes'])\n",
    "        foreign_key = eval(row['foreign_keys'])\n",
    "\n",
    "        column_list_with_datatype = []\n",
    "        for column, datatype in zip(column_list, datatype_list):\n",
    "            column_list_with_datatype.append(' '.join([column, datatype]))\n",
    "\n",
    "\n",
    "        schema_natural_language = f\"CREATE TABLE {table_name} ({', '.join(column_list_with_datatype)}) which has {primary_key} as primary key\"\n",
    "\n",
    "        return schema_natural_language\n",
    "\n",
    "    \n",
    "    def get_schema_details(self):\n",
    "        return self.schema\n",
    "\n",
    "\n",
    "    def get_table_prompt(self, input_text):\n",
    "\n",
    "        table_names_from_tql = self.tableMapper.get_table_names_tql(self.s, input_text)\n",
    "\n",
    "        if(len(table_names_from_tql) == 0):\n",
    "            raise Exception(\"No tables found, please repharse the query and try again\")\n",
    "\n",
    "        prompt_tables = []\n",
    "        for i in table_names_from_tql:\n",
    "            prompt_tables.append(\n",
    "                self.s[self.s['table_name_original'] == i].apply(\n",
    "                    self.create_schema_natural_language, axis = 1\n",
    "                ).reset_index(drop = True).iloc[0]\n",
    "            )\n",
    "\n",
    "        return '\\n\\n'.join(prompt_tables)\n",
    "\n",
    "\n",
    "    def get_final_prompt(self, input_text):\n",
    "\n",
    "        table_prompt = self.get_table_prompt(input_text)\n",
    "        \n",
    "        prompt = f\"\"\"\\\n",
    "            ### Instructions:\n",
    "            Your task is convert a question into a SQL query, given a Postgres database schema.\\\n",
    "            Adhere to these rules:\n",
    "            - **Deliberately go through the question and database schema word by word** to appropriately answer the question\n",
    "            - **Use Table Aliases** to prevent ambiguity. For example, `SELECT table1.col1, table2.col1 FROM table1 JOIN table2 ON table1.id = table2.id`.\n",
    "            - When creating a ratio, always cast the numerator as float\n",
    "\n",
    "            ### Input:\n",
    "            Generate a SQL query that answers the question '{input_text}`.\\n\n",
    "            This query will run on a database whose schema is represented in this string:\n",
    "\n",
    "            {table_prompt}\n",
    "\n",
    "            ### Response:\n",
    "            Based on your instructions, here is the SQL query I have generated to answer the question `{input_text}`:\n",
    "            ```sql\n",
    "        \"\"\"\n",
    "\n",
    "        return prompt\n",
    "\n",
    "\n",
    "    def get_SQL_query(self, input_text):\n",
    "\n",
    "        prompt = self.get_final_prompt(input_text)\n",
    "        print(prompt)\n",
    "#         tokens = self.tokenizer(prompt, \n",
    "#                            return_tensors=\"pt\", max_length=512, \n",
    "#                            truncation=True, padding=\"max_length\")\n",
    "\n",
    "#         outputs = self.model.generate(input_ids=tokens.input_ids.to(self.device), max_new_tokens = 512)\n",
    "#         predicted_query = self.tokenizer.decode(outputs[0], skip_special_tokens=True)\n",
    "\n",
    "        return '' #predicted_query"
   ]
  },
  {
   "cell_type": "code",
   "execution_count": 104,
   "id": "0fa95992-db56-49eb-a67c-0e254b89a237",
   "metadata": {},
   "outputs": [
    {
     "name": "stdout",
     "output_type": "stream",
     "text": [
      "All libraries loaded\n",
      "LLM Model initialized\n"
     ]
    }
   ],
   "source": [
    "tqlRunner = TQLRunner('college_2')"
   ]
  },
  {
   "cell_type": "code",
   "execution_count": 105,
   "id": "5a4c0835-2acc-49aa-9bb3-467c0166c171",
   "metadata": {},
   "outputs": [
    {
     "name": "stdout",
     "output_type": "stream",
     "text": [
      "            ### Instructions:\n",
      "            Your task is convert a question into a SQL query, given a Postgres database schema.            Adhere to these rules:\n",
      "            - **Deliberately go through the question and database schema word by word** to appropriately answer the question\n",
      "            - **Use Table Aliases** to prevent ambiguity. For example, `SELECT table1.col1, table2.col1 FROM table1 JOIN table2 ON table1.id = table2.id`.\n",
      "            - When creating a ratio, always cast the numerator as float\n",
      "\n",
      "            ### Input:\n",
      "            Generate a SQL query that answers the question 'What are the room numbers and corresponding buildings for classrooms which can seat between 50 to 100 students?`.\n",
      "\n",
      "            This query will run on a database whose schema is represented in this string:\n",
      "\n",
      "            CREATE TABLE classroom (building text, room_number text, capacity number) which has building as primary key\n",
      "\n",
      "CREATE TABLE student (ID text, name text, dept_name text, tot_cred number) which has ID as primary key\n",
      "\n",
      "CREATE TABLE section (course_id text, sec_id text, semester text, year number, building text, room_number text, time_slot_id text) which has course_id as primary key\n",
      "\n",
      "            ### Response:\n",
      "            Based on your instructions, here is the SQL query I have generated to answer the question `What are the room numbers and corresponding buildings for classrooms which can seat between 50 to 100 students?`:\n",
      "            ```sql\n",
      "        \n"
     ]
    },
    {
     "data": {
      "text/plain": [
       "''"
      ]
     },
     "execution_count": 105,
     "metadata": {},
     "output_type": "execute_result"
    }
   ],
   "source": [
    "tqlRunner.get_SQL_query('What are the room numbers and corresponding buildings for classrooms which can seat between 50 to 100 students?')"
   ]
  },
  {
   "cell_type": "code",
   "execution_count": 6,
   "id": "349dfc11-d728-4c3c-9537-c331549aaf33",
   "metadata": {},
   "outputs": [
    {
     "name": "stdout",
     "output_type": "stream",
     "text": [
      "All libraries loaded\n",
      "LLM Model initialized\n"
     ]
    }
   ],
   "source": [
    "tqlRunner = TQLRunner('yelp')"
   ]
  },
  {
   "cell_type": "code",
   "execution_count": 7,
   "id": "fd53e13c-8c48-4103-ac3b-b3113af611a8",
   "metadata": {},
   "outputs": [
    {
     "name": "stdout",
     "output_type": "stream",
     "text": [
      "SQL query for: How many reviews are there in the database with tables: CREATE TABLE review (rid number, business_id text, user_id text, rating number, text text, year number, month text) which has rid as primary key\n"
     ]
    },
    {
     "ename": "NameError",
     "evalue": "name 'predicted_query' is not defined",
     "output_type": "error",
     "traceback": [
      "\u001b[1;31m---------------------------------------------------------------------------\u001b[0m",
      "\u001b[1;31mNameError\u001b[0m                                 Traceback (most recent call last)",
      "Input \u001b[1;32mIn [7]\u001b[0m, in \u001b[0;36m<cell line: 2>\u001b[1;34m()\u001b[0m\n\u001b[0;32m      1\u001b[0m input_text \u001b[38;5;241m=\u001b[39m \u001b[38;5;124m'\u001b[39m\u001b[38;5;124mHow many reviews are there in the database\u001b[39m\u001b[38;5;124m'\u001b[39m\n\u001b[1;32m----> 2\u001b[0m \u001b[43mtqlRunner\u001b[49m\u001b[38;5;241;43m.\u001b[39;49m\u001b[43mget_SQL_query\u001b[49m\u001b[43m(\u001b[49m\u001b[43minput_text\u001b[49m\u001b[43m)\u001b[49m\n",
      "Input \u001b[1;32mIn [5]\u001b[0m, in \u001b[0;36mTQLRunner.get_SQL_query\u001b[1;34m(self, input_text)\u001b[0m\n\u001b[0;32m     92\u001b[0m         \u001b[38;5;28mprint\u001b[39m(prompt)\n\u001b[0;32m     93\u001b[0m \u001b[38;5;66;03m#         tokens = self.tokenizer(prompt, \u001b[39;00m\n\u001b[0;32m     94\u001b[0m \u001b[38;5;66;03m#                            return_tensors=\"pt\", max_length=512, \u001b[39;00m\n\u001b[0;32m     95\u001b[0m \u001b[38;5;66;03m#                            truncation=True, padding=\"max_length\")\u001b[39;00m\n\u001b[0;32m     96\u001b[0m \n\u001b[0;32m     97\u001b[0m \u001b[38;5;66;03m#         outputs = self.model.generate(input_ids=tokens.input_ids.to(self.device), max_new_tokens = 512)\u001b[39;00m\n\u001b[0;32m     98\u001b[0m \u001b[38;5;66;03m#         predicted_query = self.tokenizer.decode(outputs[0], skip_special_tokens=True)\u001b[39;00m\n\u001b[1;32m--> 100\u001b[0m         \u001b[38;5;28;01mreturn\u001b[39;00m \u001b[43mpredicted_query\u001b[49m\n",
      "\u001b[1;31mNameError\u001b[0m: name 'predicted_query' is not defined"
     ]
    }
   ],
   "source": [
    "input_text = 'How many reviews are there in the database'\n",
    "tqlRunner.get_SQL_query(input_text)"
   ]
  },
  {
   "cell_type": "code",
   "execution_count": 8,
   "id": "c2abb6e8-0a3b-46bb-8ae3-908d916551e8",
   "metadata": {},
   "outputs": [
    {
     "name": "stdout",
     "output_type": "stream",
     "text": [
      "SQL query for: How many businesses are there in \"Vegas\" with tables: CREATE TABLE business (bid number, business_id text, name text, full_address text, city text, latitude text, longitude text, review_count number, is_open number, rating number, state text) which has bid as primary key\n"
     ]
    },
    {
     "ename": "NameError",
     "evalue": "name 'predicted_query' is not defined",
     "output_type": "error",
     "traceback": [
      "\u001b[1;31m---------------------------------------------------------------------------\u001b[0m",
      "\u001b[1;31mNameError\u001b[0m                                 Traceback (most recent call last)",
      "Input \u001b[1;32mIn [8]\u001b[0m, in \u001b[0;36m<cell line: 2>\u001b[1;34m()\u001b[0m\n\u001b[0;32m      1\u001b[0m input_text \u001b[38;5;241m=\u001b[39m \u001b[38;5;124m'\u001b[39m\u001b[38;5;124mHow many businesses are there in \u001b[39m\u001b[38;5;124m\"\u001b[39m\u001b[38;5;124mVegas\u001b[39m\u001b[38;5;124m\"\u001b[39m\u001b[38;5;124m'\u001b[39m\n\u001b[1;32m----> 2\u001b[0m \u001b[43mtqlRunner\u001b[49m\u001b[38;5;241;43m.\u001b[39;49m\u001b[43mget_SQL_query\u001b[49m\u001b[43m(\u001b[49m\u001b[43minput_text\u001b[49m\u001b[43m)\u001b[49m\n",
      "Input \u001b[1;32mIn [5]\u001b[0m, in \u001b[0;36mTQLRunner.get_SQL_query\u001b[1;34m(self, input_text)\u001b[0m\n\u001b[0;32m     92\u001b[0m         \u001b[38;5;28mprint\u001b[39m(prompt)\n\u001b[0;32m     93\u001b[0m \u001b[38;5;66;03m#         tokens = self.tokenizer(prompt, \u001b[39;00m\n\u001b[0;32m     94\u001b[0m \u001b[38;5;66;03m#                            return_tensors=\"pt\", max_length=512, \u001b[39;00m\n\u001b[0;32m     95\u001b[0m \u001b[38;5;66;03m#                            truncation=True, padding=\"max_length\")\u001b[39;00m\n\u001b[0;32m     96\u001b[0m \n\u001b[0;32m     97\u001b[0m \u001b[38;5;66;03m#         outputs = self.model.generate(input_ids=tokens.input_ids.to(self.device), max_new_tokens = 512)\u001b[39;00m\n\u001b[0;32m     98\u001b[0m \u001b[38;5;66;03m#         predicted_query = self.tokenizer.decode(outputs[0], skip_special_tokens=True)\u001b[39;00m\n\u001b[1;32m--> 100\u001b[0m         \u001b[38;5;28;01mreturn\u001b[39;00m \u001b[43mpredicted_query\u001b[49m\n",
      "\u001b[1;31mNameError\u001b[0m: name 'predicted_query' is not defined"
     ]
    }
   ],
   "source": [
    "input_text = 'How many businesses are there in \"Vegas\"'\n",
    "tqlRunner.get_SQL_query(input_text)"
   ]
  },
  {
   "cell_type": "code",
   "execution_count": null,
   "id": "29e0d66b-2722-4bd0-bd75-83ffe051c679",
   "metadata": {},
   "outputs": [],
   "source": [
    "tqlRunner.get_SQL_query('How many professors are there in chem department')"
   ]
  },
  {
   "cell_type": "code",
   "execution_count": null,
   "id": "03ae494d-3441-4bec-8231-eee971142dcb",
   "metadata": {},
   "outputs": [],
   "source": [
    "# tqlRunner.get_SQL_query('How many professors are there in chem dept')"
   ]
  },
  {
   "cell_type": "code",
   "execution_count": null,
   "id": "623c42ac-6359-4c68-83ff-3e75b175d050",
   "metadata": {},
   "outputs": [],
   "source": [
    "tqlRunner.get_SQL_query('students name beginning with \"Nam\"')"
   ]
  },
  {
   "cell_type": "code",
   "execution_count": null,
   "id": "936d6119-759d-4f94-b6ec-187b25e0d3ad",
   "metadata": {},
   "outputs": [],
   "source": [
    "tqlRunner.get_SQL_query('What is the name and building of the departments whose budget is more than the average budget?')"
   ]
  },
  {
   "cell_type": "code",
   "execution_count": null,
   "id": "5da2cf46-d238-445e-b47d-8132e82feed2",
   "metadata": {},
   "outputs": [],
   "source": [
    "tqlRunner = TQLRunner('student_assessment')"
   ]
  },
  {
   "cell_type": "code",
   "execution_count": null,
   "id": "6f60c3a8-2e6c-45f9-9ef5-6e88e7b40c58",
   "metadata": {},
   "outputs": [],
   "source": [
    "tqlRunner.get_SQL_query('What are the id of students who registered courses or attended courses?')"
   ]
  },
  {
   "cell_type": "code",
   "execution_count": null,
   "id": "65e185f1-f4e0-470e-8914-4415d9365d40",
   "metadata": {},
   "outputs": [],
   "source": []
  }
 ],
 "metadata": {
  "environment": {
   "kernel": "python3",
   "name": "pytorch-gpu.1-13.m112",
   "type": "gcloud",
   "uri": "gcr.io/deeplearning-platform-release/pytorch-gpu.1-13:m112"
  },
  "kernelspec": {
   "display_name": "Python 3 (ipykernel)",
   "language": "python",
   "name": "python3"
  },
  "language_info": {
   "codemirror_mode": {
    "name": "ipython",
    "version": 3
   },
   "file_extension": ".py",
   "mimetype": "text/x-python",
   "name": "python",
   "nbconvert_exporter": "python",
   "pygments_lexer": "ipython3",
   "version": "3.10.6"
  }
 },
 "nbformat": 4,
 "nbformat_minor": 5
}
