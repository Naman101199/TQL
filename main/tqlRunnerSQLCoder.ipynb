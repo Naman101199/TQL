{
 "cells": [
  {
   "cell_type": "code",
   "execution_count": 1,
   "id": "caf71172-60af-40ab-9d88-6e25e71750a7",
   "metadata": {},
   "outputs": [
    {
     "name": "stdout",
     "output_type": "stream",
     "text": [
      "[2023-11-13 05:48:54,144] [INFO] [real_accelerator.py:158:get_accelerator] Setting ds_accelerator to cuda (auto detect)\n"
     ]
    }
   ],
   "source": [
    "from TQLRunnerSQLCoder import TQLRunner"
   ]
  },
  {
   "cell_type": "code",
   "execution_count": 2,
   "id": "0fa95992-db56-49eb-a67c-0e254b89a237",
   "metadata": {},
   "outputs": [
    {
     "data": {
      "application/vnd.jupyter.widget-view+json": {
       "model_id": "9a0628631e18489b87255ca3685d1420",
       "version_major": 2,
       "version_minor": 0
      },
      "text/plain": [
       "Loading checkpoint shards:   0%|          | 0/2 [00:00<?, ?it/s]"
      ]
     },
     "metadata": {},
     "output_type": "display_data"
    },
    {
     "name": "stdout",
     "output_type": "stream",
     "text": [
      "LLM Model initialized\n"
     ]
    }
   ],
   "source": [
    "tqlRunner = TQLRunner()"
   ]
  },
  {
   "cell_type": "code",
   "execution_count": 3,
   "id": "d593e3b3-9191-41f0-841e-09a88606429d",
   "metadata": {},
   "outputs": [
    {
     "name": "stdout",
     "output_type": "stream",
     "text": [
      "All libraries loaded\n"
     ]
    }
   ],
   "source": [
    "tqlRunner.set_schema('college_2')"
   ]
  },
  {
   "cell_type": "code",
   "execution_count": 4,
   "id": "5a4c0835-2acc-49aa-9bb3-467c0166c171",
   "metadata": {},
   "outputs": [
    {
     "data": {
      "text/plain": [
       "'SELECT classroom.building, classroom.room_number FROM classroom WHERE classroom.capacity BETWEEN 50 AND 100 ORDER BY classroom.building NULLS LAST, classroom.room_number NULLS LAST'"
      ]
     },
     "execution_count": 4,
     "metadata": {},
     "output_type": "execute_result"
    }
   ],
   "source": [
    "tqlRunner.get_SQL_query('What are the room numbers and corresponding buildings for classrooms which can seat between 50 to 100 students?')"
   ]
  },
  {
   "cell_type": "code",
   "execution_count": 5,
   "id": "349dfc11-d728-4c3c-9537-c331549aaf33",
   "metadata": {},
   "outputs": [
    {
     "name": "stdout",
     "output_type": "stream",
     "text": [
      "All libraries loaded\n"
     ]
    }
   ],
   "source": [
    "tqlRunner.set_schema('yelp')"
   ]
  },
  {
   "cell_type": "code",
   "execution_count": 6,
   "id": "fd53e13c-8c48-4103-ac3b-b3113af611a8",
   "metadata": {},
   "outputs": [
    {
     "data": {
      "text/plain": [
       "'SELECT COUNT(rid) AS number_of_reviews FROM review'"
      ]
     },
     "execution_count": 6,
     "metadata": {},
     "output_type": "execute_result"
    }
   ],
   "source": [
    "input_text = 'How many reviews are there in the database'\n",
    "tqlRunner.get_SQL_query(input_text)"
   ]
  },
  {
   "cell_type": "code",
   "execution_count": 7,
   "id": "c2abb6e8-0a3b-46bb-8ae3-908d916551e8",
   "metadata": {},
   "outputs": [
    {
     "data": {
      "text/plain": [
       "\"SELECT COUNT(business_id) AS number_of_businesses FROM business WHERE name ilike '%Vegas%'\""
      ]
     },
     "execution_count": 7,
     "metadata": {},
     "output_type": "execute_result"
    }
   ],
   "source": [
    "input_text = 'How many businesses are there in \"Vegas\"'\n",
    "tqlRunner.get_SQL_query(input_text)"
   ]
  },
  {
   "cell_type": "code",
   "execution_count": 8,
   "id": "29e0d66b-2722-4bd0-bd75-83ffe051c679",
   "metadata": {},
   "outputs": [
    {
     "ename": "Exception",
     "evalue": "No tables found, please repharse the query and try again",
     "output_type": "error",
     "traceback": [
      "\u001b[0;31m---------------------------------------------------------------------------\u001b[0m",
      "\u001b[0;31mException\u001b[0m                                 Traceback (most recent call last)",
      "Cell \u001b[0;32mIn[8], line 1\u001b[0m\n\u001b[0;32m----> 1\u001b[0m \u001b[43mtqlRunner\u001b[49m\u001b[38;5;241;43m.\u001b[39;49m\u001b[43mget_SQL_query\u001b[49m\u001b[43m(\u001b[49m\u001b[38;5;124;43m'\u001b[39;49m\u001b[38;5;124;43mHow many professors are there in chem department\u001b[39;49m\u001b[38;5;124;43m'\u001b[39;49m\u001b[43m)\u001b[49m\n",
      "File \u001b[0;32m~/TQL/main/TQLRunnerSQLCoder.py:112\u001b[0m, in \u001b[0;36mTQLRunner.get_SQL_query\u001b[0;34m(self, input_text)\u001b[0m\n\u001b[1;32m    110\u001b[0m \u001b[38;5;28;01mdef\u001b[39;00m \u001b[38;5;21mget_SQL_query\u001b[39m(\u001b[38;5;28mself\u001b[39m, input_text):\n\u001b[0;32m--> 112\u001b[0m     prompt \u001b[38;5;241m=\u001b[39m \u001b[38;5;28;43mself\u001b[39;49m\u001b[38;5;241;43m.\u001b[39;49m\u001b[43mget_final_prompt\u001b[49m\u001b[43m(\u001b[49m\u001b[43minput_text\u001b[49m\u001b[43m)\u001b[49m\n\u001b[1;32m    113\u001b[0m     eos_token_id \u001b[38;5;241m=\u001b[39m \u001b[38;5;28mself\u001b[39m\u001b[38;5;241m.\u001b[39mtokenizer\u001b[38;5;241m.\u001b[39mconvert_tokens_to_ids([\u001b[38;5;124m\"\u001b[39m\u001b[38;5;124m```\u001b[39m\u001b[38;5;124m\"\u001b[39m])[\u001b[38;5;241m0\u001b[39m]\n\u001b[1;32m    114\u001b[0m     inputs \u001b[38;5;241m=\u001b[39m \u001b[38;5;28mself\u001b[39m\u001b[38;5;241m.\u001b[39mtokenizer(prompt, return_tensors\u001b[38;5;241m=\u001b[39m\u001b[38;5;124m\"\u001b[39m\u001b[38;5;124mpt\u001b[39m\u001b[38;5;124m\"\u001b[39m)\u001b[38;5;241m.\u001b[39mto(\u001b[38;5;124m'\u001b[39m\u001b[38;5;124mcuda\u001b[39m\u001b[38;5;124m'\u001b[39m)\n",
      "File \u001b[0;32m~/TQL/main/TQLRunnerSQLCoder.py:86\u001b[0m, in \u001b[0;36mTQLRunner.get_final_prompt\u001b[0;34m(self, input_text)\u001b[0m\n\u001b[1;32m     84\u001b[0m \u001b[38;5;28;01mdef\u001b[39;00m \u001b[38;5;21mget_final_prompt\u001b[39m(\u001b[38;5;28mself\u001b[39m, input_text):\n\u001b[0;32m---> 86\u001b[0m     table_prompt \u001b[38;5;241m=\u001b[39m \u001b[38;5;28;43mself\u001b[39;49m\u001b[38;5;241;43m.\u001b[39;49m\u001b[43mget_table_prompt\u001b[49m\u001b[43m(\u001b[49m\u001b[43minput_text\u001b[49m\u001b[43m)\u001b[49m\n\u001b[1;32m     88\u001b[0m     prompt \u001b[38;5;241m=\u001b[39m \u001b[38;5;124mf\u001b[39m\u001b[38;5;124m\"\"\"\u001b[39m\u001b[38;5;130;01m\\\u001b[39;00m\n\u001b[1;32m     89\u001b[0m \u001b[38;5;124m        ### Instructions:\u001b[39m\n\u001b[1;32m     90\u001b[0m \u001b[38;5;124m        Your task is convert a question into a SQL query, given a Postgres database schema.\u001b[39m\u001b[38;5;130;01m\\\u001b[39;00m\n\u001b[0;32m   (...)\u001b[0m\n\u001b[1;32m    104\u001b[0m \u001b[38;5;124m        ```sql\u001b[39m\n\u001b[1;32m    105\u001b[0m \u001b[38;5;124m    \u001b[39m\u001b[38;5;124m\"\"\"\u001b[39m\n\u001b[1;32m    107\u001b[0m     \u001b[38;5;28;01mreturn\u001b[39;00m prompt\n",
      "File \u001b[0;32m~/TQL/main/TQLRunnerSQLCoder.py:71\u001b[0m, in \u001b[0;36mTQLRunner.get_table_prompt\u001b[0;34m(self, input_text)\u001b[0m\n\u001b[1;32m     68\u001b[0m table_names_from_tql \u001b[38;5;241m=\u001b[39m \u001b[38;5;28mself\u001b[39m\u001b[38;5;241m.\u001b[39mtableMapper\u001b[38;5;241m.\u001b[39mget_table_names_tql(\u001b[38;5;28mself\u001b[39m\u001b[38;5;241m.\u001b[39ms, input_text)\n\u001b[1;32m     70\u001b[0m \u001b[38;5;28;01mif\u001b[39;00m(\u001b[38;5;28mlen\u001b[39m(table_names_from_tql) \u001b[38;5;241m==\u001b[39m \u001b[38;5;241m0\u001b[39m):\n\u001b[0;32m---> 71\u001b[0m     \u001b[38;5;28;01mraise\u001b[39;00m \u001b[38;5;167;01mException\u001b[39;00m(\u001b[38;5;124m\"\u001b[39m\u001b[38;5;124mNo tables found, please repharse the query and try again\u001b[39m\u001b[38;5;124m\"\u001b[39m)\n\u001b[1;32m     73\u001b[0m prompt_tables \u001b[38;5;241m=\u001b[39m []\n\u001b[1;32m     74\u001b[0m \u001b[38;5;28;01mfor\u001b[39;00m i \u001b[38;5;129;01min\u001b[39;00m table_names_from_tql:\n",
      "\u001b[0;31mException\u001b[0m: No tables found, please repharse the query and try again"
     ]
    }
   ],
   "source": [
    "tqlRunner.get_SQL_query('How many professors are there in chem department')"
   ]
  },
  {
   "cell_type": "code",
   "execution_count": 10,
   "id": "d1ca9ff1-176f-4249-a10e-83f0c3684031",
   "metadata": {},
   "outputs": [
    {
     "name": "stdout",
     "output_type": "stream",
     "text": [
      "All libraries loaded\n"
     ]
    }
   ],
   "source": [
    "tqlRunner.set_schema('college_2')"
   ]
  },
  {
   "cell_type": "code",
   "execution_count": 12,
   "id": "03ae494d-3441-4bec-8231-eee971142dcb",
   "metadata": {},
   "outputs": [
    {
     "data": {
      "text/plain": [
       "\"SELECT CAST(COUNT(professor.id) AS FLOAT) / NULLIF(COUNT(department.id), 0) AS professor_to_department_ratio FROM professor JOIN department ON professor.dept_id = department.id WHERE department.dept_name ilike '%chem%'\""
      ]
     },
     "execution_count": 12,
     "metadata": {},
     "output_type": "execute_result"
    }
   ],
   "source": [
    "tqlRunner.get_SQL_query('How many professors are there in chem department')"
   ]
  },
  {
   "cell_type": "code",
   "execution_count": 13,
   "id": "623c42ac-6359-4c68-83ff-3e75b175d050",
   "metadata": {},
   "outputs": [
    {
     "data": {
      "text/plain": [
       "\"SELECT student.id, student.name FROM student WHERE student.name ilike 'Nam%'\""
      ]
     },
     "execution_count": 13,
     "metadata": {},
     "output_type": "execute_result"
    }
   ],
   "source": [
    "tqlRunner.get_SQL_query('students name beginning with \"Nam\"')"
   ]
  },
  {
   "cell_type": "code",
   "execution_count": 14,
   "id": "936d6119-759d-4f94-b6ec-187b25e0d3ad",
   "metadata": {},
   "outputs": [
    {
     "data": {
      "text/plain": [
       "'SELECT department.dept_name, department.building FROM department WHERE department.budget > (SELECT AVG(department.budget) FROM department) ORDER BY department.budget DESC NULLS LAST'"
      ]
     },
     "execution_count": 14,
     "metadata": {},
     "output_type": "execute_result"
    }
   ],
   "source": [
    "tqlRunner.get_SQL_query('What is the name and building of the departments whose budget is more than the average budget?')"
   ]
  },
  {
   "cell_type": "code",
   "execution_count": 15,
   "id": "5da2cf46-d238-445e-b47d-8132e82feed2",
   "metadata": {},
   "outputs": [
    {
     "name": "stdout",
     "output_type": "stream",
     "text": [
      "All libraries loaded\n"
     ]
    }
   ],
   "source": [
    "tqlRunner.set_schema('student_assessment')"
   ]
  },
  {
   "cell_type": "code",
   "execution_count": 16,
   "id": "6f60c3a8-2e6c-45f9-9ef5-6e88e7b40c58",
   "metadata": {},
   "outputs": [
    {
     "data": {
      "text/plain": [
       "'SELECT student_course_registrations.student_id, student_course_attendance.student_id FROM student_course_registrations LEFT JOIN student_course_attendance ON student_course_registrations.student_id = student_course_attendance.student_id WHERE student_course_registrations.student_id IS NOT NULL OR student_course_attendance.student_id IS NOT NULL'"
      ]
     },
     "execution_count": 16,
     "metadata": {},
     "output_type": "execute_result"
    }
   ],
   "source": [
    "tqlRunner.get_SQL_query('What are the id of students who registered courses or attended courses?')"
   ]
  }
 ],
 "metadata": {
  "environment": {
   "kernel": "python3",
   "name": "pytorch-gpu.1-13.m112",
   "type": "gcloud",
   "uri": "gcr.io/deeplearning-platform-release/pytorch-gpu.1-13:m112"
  },
  "kernelspec": {
   "display_name": "Python 3",
   "language": "python",
   "name": "python3"
  },
  "language_info": {
   "codemirror_mode": {
    "name": "ipython",
    "version": 3
   },
   "file_extension": ".py",
   "mimetype": "text/x-python",
   "name": "python",
   "nbconvert_exporter": "python",
   "pygments_lexer": "ipython3",
   "version": "3.10.12"
  }
 },
 "nbformat": 4,
 "nbformat_minor": 5
}
