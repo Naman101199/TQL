{
 "cells": [
  {
   "cell_type": "code",
   "execution_count": 1,
   "id": "caf71172-60af-40ab-9d88-6e25e71750a7",
   "metadata": {},
   "outputs": [
    {
     "name": "stdout",
     "output_type": "stream",
     "text": [
      "[2023-11-17 00:32:13,140] [INFO] [real_accelerator.py:158:get_accelerator] Setting ds_accelerator to cuda (auto detect)\n"
     ]
    }
   ],
   "source": [
    "from TQLRunnerSQLCoder import TQLRunner"
   ]
  },
  {
   "cell_type": "code",
   "execution_count": 2,
   "id": "0fa95992-db56-49eb-a67c-0e254b89a237",
   "metadata": {},
   "outputs": [
    {
     "data": {
      "application/vnd.jupyter.widget-view+json": {
       "model_id": "3295ef38a75d404faff67d8afff3a05a",
       "version_major": 2,
       "version_minor": 0
      },
      "text/plain": [
       "Loading checkpoint shards:   0%|          | 0/2 [00:00<?, ?it/s]"
      ]
     },
     "metadata": {},
     "output_type": "display_data"
    },
    {
     "name": "stdout",
     "output_type": "stream",
     "text": [
      "LLM Model initialized\n"
     ]
    }
   ],
   "source": [
    "tqlRunner = TQLRunner()"
   ]
  },
  {
   "cell_type": "code",
   "execution_count": 3,
   "id": "d593e3b3-9191-41f0-841e-09a88606429d",
   "metadata": {},
   "outputs": [
    {
     "name": "stdout",
     "output_type": "stream",
     "text": [
      "All libraries loaded\n"
     ]
    }
   ],
   "source": [
    "tqlRunner.set_schema('college_2')"
   ]
  },
  {
   "cell_type": "code",
   "execution_count": 4,
   "id": "5a4c0835-2acc-49aa-9bb3-467c0166c171",
   "metadata": {},
   "outputs": [
    {
     "name": "stdout",
     "output_type": "stream",
     "text": [
      "CPU times: user 5.33 s, sys: 186 ms, total: 5.51 s\n",
      "Wall time: 5.57 s\n"
     ]
    },
    {
     "data": {
      "text/plain": [
       "'SELECT classroom.building, classroom.room_number FROM classroom WHERE classroom.capacity BETWEEN 50 AND 100'"
      ]
     },
     "execution_count": 4,
     "metadata": {},
     "output_type": "execute_result"
    }
   ],
   "source": [
    "%%time\n",
    "tqlRunner.get_SQL_query('What are the room numbers and corresponding buildings for classrooms which can seat between 50 to 100 students?')"
   ]
  },
  {
   "cell_type": "code",
   "execution_count": 5,
   "id": "349dfc11-d728-4c3c-9537-c331549aaf33",
   "metadata": {},
   "outputs": [
    {
     "name": "stdout",
     "output_type": "stream",
     "text": [
      "All libraries loaded\n"
     ]
    }
   ],
   "source": [
    "tqlRunner.set_schema('yelp')"
   ]
  },
  {
   "cell_type": "code",
   "execution_count": 6,
   "id": "fd53e13c-8c48-4103-ac3b-b3113af611a8",
   "metadata": {},
   "outputs": [
    {
     "name": "stdout",
     "output_type": "stream",
     "text": [
      "CPU times: user 3.3 s, sys: 3.53 ms, total: 3.31 s\n",
      "Wall time: 3.3 s\n"
     ]
    },
    {
     "data": {
      "text/plain": [
       "'SELECT COUNT(rid) AS number_of_reviews FROM review'"
      ]
     },
     "execution_count": 6,
     "metadata": {},
     "output_type": "execute_result"
    }
   ],
   "source": [
    "%%time\n",
    "input_text = 'How many reviews are there in the database'\n",
    "tqlRunner.get_SQL_query(input_text)"
   ]
  },
  {
   "cell_type": "code",
   "execution_count": 7,
   "id": "c2abb6e8-0a3b-46bb-8ae3-908d916551e8",
   "metadata": {},
   "outputs": [
    {
     "name": "stdout",
     "output_type": "stream",
     "text": [
      "CPU times: user 3.27 s, sys: 3.55 ms, total: 3.28 s\n",
      "Wall time: 3.28 s\n"
     ]
    },
    {
     "data": {
      "text/plain": [
       "\"SELECT COUNT(*) FROM business WHERE name ilike '%Vegas%'\""
      ]
     },
     "execution_count": 7,
     "metadata": {},
     "output_type": "execute_result"
    }
   ],
   "source": [
    "%%time\n",
    "input_text = 'How many businesses are there exactly called \"Vegas\"'\n",
    "tqlRunner.get_SQL_query(input_text)"
   ]
  },
  {
   "cell_type": "code",
   "execution_count": 8,
   "id": "29e0d66b-2722-4bd0-bd75-83ffe051c679",
   "metadata": {},
   "outputs": [],
   "source": [
    "# tqlRunner.get_SQL_query('How many professors are there in chem department')"
   ]
  },
  {
   "cell_type": "code",
   "execution_count": 9,
   "id": "d1ca9ff1-176f-4249-a10e-83f0c3684031",
   "metadata": {},
   "outputs": [
    {
     "name": "stdout",
     "output_type": "stream",
     "text": [
      "All libraries loaded\n"
     ]
    }
   ],
   "source": [
    "tqlRunner.set_schema('college_2')"
   ]
  },
  {
   "cell_type": "code",
   "execution_count": 10,
   "id": "03ae494d-3441-4bec-8231-eee971142dcb",
   "metadata": {},
   "outputs": [
    {
     "name": "stdout",
     "output_type": "stream",
     "text": [
      "CPU times: user 3.2 s, sys: 5.5 ms, total: 3.2 s\n",
      "Wall time: 3.2 s\n"
     ]
    },
    {
     "data": {
      "text/plain": [
       "'SELECT COUNT(*) AS num_professors FROM professor p JOIN office_location ol ON p.office_location_code = ol.office_location_code JOIN department d ON ol.department_code = d.dept_name WHERE d'"
      ]
     },
     "execution_count": 10,
     "metadata": {},
     "output_type": "execute_result"
    }
   ],
   "source": [
    "%%time\n",
    "tqlRunner.get_SQL_query('How many professors are there in chem department')"
   ]
  },
  {
   "cell_type": "code",
   "execution_count": 11,
   "id": "623c42ac-6359-4c68-83ff-3e75b175d050",
   "metadata": {},
   "outputs": [
    {
     "name": "stdout",
     "output_type": "stream",
     "text": [
      "CPU times: user 3.27 s, sys: 18.9 ms, total: 3.28 s\n",
      "Wall time: 3.28 s\n"
     ]
    },
    {
     "data": {
      "text/plain": [
       "\"SELECT student.name FROM student WHERE student.name ilike 'Nam%'\""
      ]
     },
     "execution_count": 11,
     "metadata": {},
     "output_type": "execute_result"
    }
   ],
   "source": [
    "%%time\n",
    "tqlRunner.get_SQL_query('students name beginning with \"Nam\"')"
   ]
  },
  {
   "cell_type": "code",
   "execution_count": 12,
   "id": "936d6119-759d-4f94-b6ec-187b25e0d3ad",
   "metadata": {},
   "outputs": [
    {
     "name": "stdout",
     "output_type": "stream",
     "text": [
      "CPU times: user 3.24 s, sys: 7.86 ms, total: 3.25 s\n",
      "Wall time: 3.25 s\n"
     ]
    },
    {
     "data": {
      "text/plain": [
       "'SELECT department.dept_name, department.building FROM department WHERE department.budget > (SELECT AVG(department.budget) FROM department)'"
      ]
     },
     "execution_count": 12,
     "metadata": {},
     "output_type": "execute_result"
    }
   ],
   "source": [
    "%%time\n",
    "tqlRunner.get_SQL_query('What is the name and building of the departments whose budget is more than the average budget?')"
   ]
  },
  {
   "cell_type": "code",
   "execution_count": 13,
   "id": "5da2cf46-d238-445e-b47d-8132e82feed2",
   "metadata": {},
   "outputs": [
    {
     "name": "stdout",
     "output_type": "stream",
     "text": [
      "All libraries loaded\n"
     ]
    }
   ],
   "source": [
    "tqlRunner.set_schema('student_assessment')"
   ]
  },
  {
   "cell_type": "code",
   "execution_count": 14,
   "id": "6f60c3a8-2e6c-45f9-9ef5-6e88e7b40c58",
   "metadata": {},
   "outputs": [
    {
     "name": "stdout",
     "output_type": "stream",
     "text": [
      "CPU times: user 3.29 s, sys: 15.4 ms, total: 3.3 s\n",
      "Wall time: 3.3 s\n"
     ]
    },
    {
     "data": {
      "text/plain": [
       "'SELECT DISTINCT student_id FROM student_course_attendance UNION SELECT DISTINCT student_id FROM student_course_registrations'"
      ]
     },
     "execution_count": 14,
     "metadata": {},
     "output_type": "execute_result"
    }
   ],
   "source": [
    "%%time\n",
    "tqlRunner.get_SQL_query('What are the id of students who registered courses or attended courses?')"
   ]
  },
  {
   "cell_type": "code",
   "execution_count": 15,
   "id": "d640cde6-89ee-46ac-8b53-db687675481e",
   "metadata": {},
   "outputs": [],
   "source": [
    "import pandas as pd"
   ]
  },
  {
   "cell_type": "code",
   "execution_count": 16,
   "id": "803028f0-1c49-468a-bc6d-49153aa4d553",
   "metadata": {},
   "outputs": [
    {
     "data": {
      "text/html": [
       "<div>\n",
       "<style scoped>\n",
       "    .dataframe tbody tr th:only-of-type {\n",
       "        vertical-align: middle;\n",
       "    }\n",
       "\n",
       "    .dataframe tbody tr th {\n",
       "        vertical-align: top;\n",
       "    }\n",
       "\n",
       "    .dataframe thead th {\n",
       "        text-align: right;\n",
       "    }\n",
       "</style>\n",
       "<table border=\"1\" class=\"dataframe\">\n",
       "  <thead>\n",
       "    <tr style=\"text-align: right;\">\n",
       "      <th></th>\n",
       "      <th>schema_id</th>\n",
       "      <th>table_name</th>\n",
       "      <th>table_name_original</th>\n",
       "      <th>primary_key</th>\n",
       "      <th>column_list</th>\n",
       "      <th>column_list_original</th>\n",
       "      <th>column_datatypes</th>\n",
       "      <th>foreign_keys</th>\n",
       "    </tr>\n",
       "  </thead>\n",
       "  <tbody>\n",
       "    <tr>\n",
       "      <th>0</th>\n",
       "      <td>user_input</td>\n",
       "      <td>perpetrator</td>\n",
       "      <td>perpetrator</td>\n",
       "      <td>Perpetrator_ID</td>\n",
       "      <td>[Perpetrator_ID, People_ID, Date, Year, Locati...</td>\n",
       "      <td>[Perpetrator_ID, People_ID, Date, Year, Locati...</td>\n",
       "      <td>[number, number, text, number, text, text, num...</td>\n",
       "      <td>[]</td>\n",
       "    </tr>\n",
       "    <tr>\n",
       "      <th>1</th>\n",
       "      <td>user_input</td>\n",
       "      <td>people</td>\n",
       "      <td>people</td>\n",
       "      <td>People_ID</td>\n",
       "      <td>[People_ID, Name, Height, Weight, Home_Town]</td>\n",
       "      <td>[People_ID, Name, Height, Weight, Home_Town]</td>\n",
       "      <td>[number, text, number, number, number]</td>\n",
       "      <td>[]</td>\n",
       "    </tr>\n",
       "  </tbody>\n",
       "</table>\n",
       "</div>"
      ],
      "text/plain": [
       "    schema_id   table_name table_name_original     primary_key  \\\n",
       "0  user_input  perpetrator         perpetrator  Perpetrator_ID   \n",
       "1  user_input       people              people       People_ID   \n",
       "\n",
       "                                         column_list  \\\n",
       "0  [Perpetrator_ID, People_ID, Date, Year, Locati...   \n",
       "1       [People_ID, Name, Height, Weight, Home_Town]   \n",
       "\n",
       "                                column_list_original  \\\n",
       "0  [Perpetrator_ID, People_ID, Date, Year, Locati...   \n",
       "1       [People_ID, Name, Height, Weight, Home_Town]   \n",
       "\n",
       "                                    column_datatypes foreign_keys  \n",
       "0  [number, number, text, number, text, text, num...           []  \n",
       "1             [number, text, number, number, number]           []  "
      ]
     },
     "execution_count": 16,
     "metadata": {},
     "output_type": "execute_result"
    }
   ],
   "source": [
    "pd.DataFrame.from_dict(eval('{\"schema_id\":{\"0\":\"user_input\",\"1\":\"user_input\"},\"table_name\":{\"0\":\"perpetrator\",\"1\":\"people\"},\"table_name_original\":{\"0\":\"perpetrator\",\"1\":\"people\"},\"primary_key\":{\"0\":\"Perpetrator_ID\",\"1\":\"People_ID\"},\"column_list\":{\"0\":[\"Perpetrator_ID\",\"People_ID\",\"Date\",\"Year\",\"Location\",\"Country\",\"Killed\",\"Injured\"],\"1\":[\"People_ID\",\"Name\",\"Height\",\"Weight\",\"Home_Town\"]},\"column_list_original\":{\"0\":[\"Perpetrator_ID\",\"People_ID\",\"Date\",\"Year\",\"Location\",\"Country\",\"Killed\",\"Injured\"],\"1\":[\"People_ID\",\"Name\",\"Height\",\"Weight\",\"Home_Town\"]},\"column_datatypes\":{\"0\":[\"number\",\"number\",\"text\",\"number\",\"text\",\"text\",\"number\",\"number\"],\"1\":[\"number\",\"text\",\"number\",\"number\",\"number\"]},\"foreign_keys\":{\"0\":[],\"1\":[]}}'))"
   ]
  },
  {
   "cell_type": "code",
   "execution_count": null,
   "id": "e78b30d6-bc7c-4687-ac37-b293a66959b7",
   "metadata": {},
   "outputs": [],
   "source": []
  }
 ],
 "metadata": {
  "environment": {
   "kernel": "python3",
   "name": "pytorch-gpu.1-13.m112",
   "type": "gcloud",
   "uri": "gcr.io/deeplearning-platform-release/pytorch-gpu.1-13:m112"
  },
  "kernelspec": {
   "display_name": "Python 3",
   "language": "python",
   "name": "python3"
  },
  "language_info": {
   "codemirror_mode": {
    "name": "ipython",
    "version": 3
   },
   "file_extension": ".py",
   "mimetype": "text/x-python",
   "name": "python",
   "nbconvert_exporter": "python",
   "pygments_lexer": "ipython3",
   "version": "3.10.12"
  }
 },
 "nbformat": 4,
 "nbformat_minor": 5
}
