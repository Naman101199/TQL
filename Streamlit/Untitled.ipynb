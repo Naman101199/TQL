{
 "cells": [
  {
   "cell_type": "code",
   "execution_count": 2,
   "id": "88df1d1f-0481-4405-87a4-a30a13f534b1",
   "metadata": {},
   "outputs": [],
   "source": [
    "import pandas as pd"
   ]
  },
  {
   "cell_type": "code",
   "execution_count": 3,
   "id": "828c46a7-bc2b-4fde-bdfe-83634efaaf13",
   "metadata": {},
   "outputs": [
    {
     "data": {
      "text/html": [
       "<div>\n",
       "<style scoped>\n",
       "    .dataframe tbody tr th:only-of-type {\n",
       "        vertical-align: middle;\n",
       "    }\n",
       "\n",
       "    .dataframe tbody tr th {\n",
       "        vertical-align: top;\n",
       "    }\n",
       "\n",
       "    .dataframe thead th {\n",
       "        text-align: right;\n",
       "    }\n",
       "</style>\n",
       "<table border=\"1\" class=\"dataframe\">\n",
       "  <thead>\n",
       "    <tr style=\"text-align: right;\">\n",
       "      <th></th>\n",
       "      <th>schema_id</th>\n",
       "      <th>table_name</th>\n",
       "      <th>table_name_original</th>\n",
       "      <th>primary_key</th>\n",
       "      <th>column_list</th>\n",
       "      <th>column_list_original</th>\n",
       "      <th>column_datatypes</th>\n",
       "      <th>foreign_keys</th>\n",
       "    </tr>\n",
       "  </thead>\n",
       "  <tbody>\n",
       "    <tr>\n",
       "      <th>0</th>\n",
       "      <td>perpetrator</td>\n",
       "      <td>perpetrator</td>\n",
       "      <td>perpetrator</td>\n",
       "      <td>Perpetrator_ID</td>\n",
       "      <td>['perpetrator id', 'people id', 'date', 'year'...</td>\n",
       "      <td>['Perpetrator_ID', 'People_ID', 'Date', 'Year'...</td>\n",
       "      <td>['number', 'number', 'text', 'number', 'text',...</td>\n",
       "      <td>[]</td>\n",
       "    </tr>\n",
       "    <tr>\n",
       "      <th>1</th>\n",
       "      <td>perpetrator</td>\n",
       "      <td>people</td>\n",
       "      <td>people</td>\n",
       "      <td>People_ID</td>\n",
       "      <td>['people id', 'name', 'height', 'weight', 'hom...</td>\n",
       "      <td>['People_ID', 'Name', 'Height', 'Weight', 'Hom...</td>\n",
       "      <td>['number', 'text', 'number', 'number', 'text']</td>\n",
       "      <td>[['perpetrator', 'People_ID', 'people', 'Peopl...</td>\n",
       "    </tr>\n",
       "  </tbody>\n",
       "</table>\n",
       "</div>"
      ],
      "text/plain": [
       "     schema_id   table_name table_name_original     primary_key  \\\n",
       "0  perpetrator  perpetrator         perpetrator  Perpetrator_ID   \n",
       "1  perpetrator       people              people       People_ID   \n",
       "\n",
       "                                         column_list  \\\n",
       "0  ['perpetrator id', 'people id', 'date', 'year'...   \n",
       "1  ['people id', 'name', 'height', 'weight', 'hom...   \n",
       "\n",
       "                                column_list_original  \\\n",
       "0  ['Perpetrator_ID', 'People_ID', 'Date', 'Year'...   \n",
       "1  ['People_ID', 'Name', 'Height', 'Weight', 'Hom...   \n",
       "\n",
       "                                    column_datatypes  \\\n",
       "0  ['number', 'number', 'text', 'number', 'text',...   \n",
       "1     ['number', 'text', 'number', 'number', 'text']   \n",
       "\n",
       "                                        foreign_keys  \n",
       "0                                                 []  \n",
       "1  [['perpetrator', 'People_ID', 'people', 'Peopl...  "
      ]
     },
     "execution_count": 3,
     "metadata": {},
     "output_type": "execute_result"
    }
   ],
   "source": [
    "df = pd.read_excel('sample_csv.xlsx')\n",
    "df"
   ]
  },
  {
   "cell_type": "code",
   "execution_count": 30,
   "id": "96c6fd4a-d70d-48bc-a2df-c3a68821f14a",
   "metadata": {},
   "outputs": [
    {
     "data": {
      "text/plain": [
       "\"[['perpetrator', 'People_ID', 'people', 'People_ID']]\""
      ]
     },
     "execution_count": 30,
     "metadata": {},
     "output_type": "execute_result"
    }
   ],
   "source": [
    "df['foreign_keys'].iloc[1]"
   ]
  },
  {
   "cell_type": "code",
   "execution_count": 28,
   "id": "312b99fd-8728-4871-9b8b-0ee4318ff8a1",
   "metadata": {},
   "outputs": [
    {
     "name": "stdout",
     "output_type": "stream",
     "text": [
      "CREATE TABLE perpetrator (Perpetrator_ID INT, People_ID INT, Date VARCHAR, Year INT, Location VARCHAR, Country VARCHAR, Killed INT, Injured INT)\n",
      "CREATE TABLE people (People_ID INT, Name VARCHAR, Height INT, Weight INT, Home_Town VARCHAR)\n"
     ]
    }
   ],
   "source": [
    "for i in range(len(df)):\n",
    "    \n",
    "    cols = []\n",
    "    for j in df.iloc[i]['column_list_original'][2:-2].split(\"', '\"):\n",
    "        cols.append(j.replace(' ', '_'))\n",
    "\n",
    "    data_types = []\n",
    "    for j in df.iloc[i]['column_datatypes'][2:-2].split(\"', '\"):\n",
    "        if(j == 'text'):\n",
    "            j = 'VARCHAR'\n",
    "        elif(j == 'number'):\n",
    "            j = 'INT'\n",
    "        elif(j == 'bool'):\n",
    "            j = 'BOOL'\n",
    "        else:\n",
    "            j = j.upper()\n",
    "        data_types.append(j)\n",
    "    co = []\n",
    "    for col, data in zip(cols, data_types):\n",
    "        co.append((col + ' ' + data + ','))\n",
    "    print(f'CREATE TABLE {df.iloc[i].table_name} (' + ' '.join(co)[:-1] + ')' )"
   ]
  },
  {
   "cell_type": "code",
   "execution_count": 47,
   "id": "f53a6f1d-659b-45e8-b1c9-c85650f33062",
   "metadata": {},
   "outputs": [],
   "source": [
    "df_table = pd.read_excel('sample_excel_upload.xlsx', sheet_name = 'Tables')\n",
    "df_fks = pd.read_excel('sample_excel_upload.xlsx', sheet_name = 'ForeignKeys')"
   ]
  },
  {
   "cell_type": "code",
   "execution_count": 69,
   "id": "d9dfa1e1-631b-406e-99af-f12951e637a7",
   "metadata": {},
   "outputs": [],
   "source": [
    "df_list = []\n",
    "for i in range(len(df_table)):\n",
    "    temp = []\n",
    "    rows = df_table.iloc[i]['DDL'].replace('CREATE TABLE', '').replace('(', '+').replace(')', '').split('+')\n",
    "    table_name = rows[0].strip()\n",
    "    temp.append('user_input')\n",
    "    temp.append(table_name)\n",
    "    temp.append(table_name)\n",
    "    if('PRIMARY KEY' in rows[1]):\n",
    "        temp.append(rows[-1])\n",
    "        rows[1] = rows[1].replace('PRIMARY KEY', '')\n",
    "    else:\n",
    "        temp.append('NO PRIMARY KEY')\n",
    "    columns = []\n",
    "    data_types = []\n",
    "    for j in rows[1].strip().split(', '):\n",
    "        columns.append(j.split()[0])\n",
    "        \n",
    "        if(j.split()[1] == 'VARCHAR'):\n",
    "            data_types.append('text')\n",
    "        else:\n",
    "            data_types.append('number')\n",
    "    temp.append(columns)\n",
    "    temp.append(columns)\n",
    "    temp.append(data_types)\n",
    "    temp.append(data_types)\n",
    "    temp.append([])\n",
    "        \n",
    "    df_list.append(temp)"
   ]
  },
  {
   "cell_type": "code",
   "execution_count": 74,
   "id": "42d46ddc-1949-4496-b06e-572593fe7334",
   "metadata": {},
   "outputs": [
    {
     "data": {
      "text/html": [
       "<div>\n",
       "<style scoped>\n",
       "    .dataframe tbody tr th:only-of-type {\n",
       "        vertical-align: middle;\n",
       "    }\n",
       "\n",
       "    .dataframe tbody tr th {\n",
       "        vertical-align: top;\n",
       "    }\n",
       "\n",
       "    .dataframe thead th {\n",
       "        text-align: right;\n",
       "    }\n",
       "</style>\n",
       "<table border=\"1\" class=\"dataframe\">\n",
       "  <thead>\n",
       "    <tr style=\"text-align: right;\">\n",
       "      <th></th>\n",
       "      <th>schema_id</th>\n",
       "      <th>table_name</th>\n",
       "      <th>table_name_original</th>\n",
       "      <th>primary_key</th>\n",
       "      <th>column_list</th>\n",
       "      <th>column_list_original</th>\n",
       "      <th>column_datatypes</th>\n",
       "      <th>foreign_keys</th>\n",
       "      <th>8</th>\n",
       "    </tr>\n",
       "  </thead>\n",
       "  <tbody>\n",
       "    <tr>\n",
       "      <th>0</th>\n",
       "      <td>user_input</td>\n",
       "      <td>perpetrator</td>\n",
       "      <td>perpetrator</td>\n",
       "      <td>Perpetrator_ID</td>\n",
       "      <td>[Perpetrator_ID, People_ID, Date, Year, Locati...</td>\n",
       "      <td>[Perpetrator_ID, People_ID, Date, Year, Locati...</td>\n",
       "      <td>[number, number, text, number, text, text, num...</td>\n",
       "      <td>[number, number, text, number, text, text, num...</td>\n",
       "      <td>[]</td>\n",
       "    </tr>\n",
       "    <tr>\n",
       "      <th>1</th>\n",
       "      <td>user_input</td>\n",
       "      <td>people</td>\n",
       "      <td>people</td>\n",
       "      <td>People_ID</td>\n",
       "      <td>[People_ID, Name, Height, Weight, Home_Town]</td>\n",
       "      <td>[People_ID, Name, Height, Weight, Home_Town]</td>\n",
       "      <td>[number, text, number, number, number]</td>\n",
       "      <td>[number, text, number, number, number]</td>\n",
       "      <td>[]</td>\n",
       "    </tr>\n",
       "  </tbody>\n",
       "</table>\n",
       "</div>"
      ],
      "text/plain": [
       "    schema_id   table_name table_name_original     primary_key  \\\n",
       "0  user_input  perpetrator         perpetrator  Perpetrator_ID   \n",
       "1  user_input       people              people       People_ID   \n",
       "\n",
       "                                         column_list  \\\n",
       "0  [Perpetrator_ID, People_ID, Date, Year, Locati...   \n",
       "1       [People_ID, Name, Height, Weight, Home_Town]   \n",
       "\n",
       "                                column_list_original  \\\n",
       "0  [Perpetrator_ID, People_ID, Date, Year, Locati...   \n",
       "1       [People_ID, Name, Height, Weight, Home_Town]   \n",
       "\n",
       "                                    column_datatypes  \\\n",
       "0  [number, number, text, number, text, text, num...   \n",
       "1             [number, text, number, number, number]   \n",
       "\n",
       "                                        foreign_keys   8  \n",
       "0  [number, number, text, number, text, text, num...  []  \n",
       "1             [number, text, number, number, number]  []  "
      ]
     },
     "execution_count": 74,
     "metadata": {},
     "output_type": "execute_result"
    }
   ],
   "source": [
    "pd.DataFrame(df_list).rename(columns = {\n",
    "    0: 'schema_id',\n",
    "    1: 'table_name',\n",
    "    2: 'table_name_original',\n",
    "    3: 'primary_key',\n",
    "    4: 'column_list',\n",
    "    5: 'column_list_original',\n",
    "    6: 'column_datatypes', \n",
    "    7: 'foreign_keys'\n",
    "})"
   ]
  },
  {
   "cell_type": "code",
   "execution_count": 46,
   "id": "3f2e92cd-d080-414a-a618-b65ce810d45b",
   "metadata": {},
   "outputs": [
    {
     "name": "stdout",
     "output_type": "stream",
     "text": [
      "['Perpetrator_ID', 'INT']\n",
      "['People_ID', 'INT']\n",
      "['Date', 'VARCHAR']\n",
      "['Year', 'INT']\n",
      "['Location', 'VARCHAR']\n",
      "['Country', 'VARCHAR']\n",
      "['Killed', 'INT']\n",
      "['Injured', 'INT']\n",
      "['People_ID', 'INT']\n",
      "['Name', 'VARCHAR']\n",
      "['Height', 'INT']\n",
      "['Weight', 'INT']\n",
      "['Home_Town', 'VARCHAR']\n"
     ]
    }
   ],
   "source": [
    "df_list = []\n",
    "for i in range(len(df_table)):\n",
    "    temp = []\n",
    "    rows = df_table.iloc[i]['DDL'].replace('CREATE TABLE', '').replace('(', '+').replace(')', '').split('+')\n",
    "    table_name = rows[0].strip()\n",
    "    temp.append('user_input')\n",
    "    temp.append('table_name')\n",
    "    temp.append('table_name')\n",
    "    for j in rows[1].strip().split(', '):\n",
    "        print(j.split())"
   ]
  },
  {
   "cell_type": "code",
   "execution_count": null,
   "id": "2b66d165-a381-43e2-af0a-490054ba7bbe",
   "metadata": {},
   "outputs": [],
   "source": []
  }
 ],
 "metadata": {
  "kernelspec": {
   "display_name": "Python 3 (ipykernel)",
   "language": "python",
   "name": "python3"
  },
  "language_info": {
   "codemirror_mode": {
    "name": "ipython",
    "version": 3
   },
   "file_extension": ".py",
   "mimetype": "text/x-python",
   "name": "python",
   "nbconvert_exporter": "python",
   "pygments_lexer": "ipython3",
   "version": "3.10.6"
  }
 },
 "nbformat": 4,
 "nbformat_minor": 5
}
